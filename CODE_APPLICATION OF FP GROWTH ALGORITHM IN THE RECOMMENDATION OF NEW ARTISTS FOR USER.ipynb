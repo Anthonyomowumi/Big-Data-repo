{
  "nbformat": 4,
  "nbformat_minor": 0,
  "metadata": {
    "colab": {
      "provenance": [],
      "collapsed_sections": [
        "ifyAcJhJy8y7"
      ]
    },
    "kernelspec": {
      "name": "python3",
      "display_name": "Python 3"
    },
    "language_info": {
      "name": "python"
    }
  },
  "cells": [
    {
      "cell_type": "markdown",
      "source": [
        "**You will write your code in this worksheet**\n",
        "\n",
        "**YOUR CODE WILL BE CHECKED FOR PLAGIARISM**"
      ],
      "metadata": {
        "id": "o1CSkbCZTuqq"
      }
    },
    {
      "cell_type": "code",
      "source": [
        "from google.colab import drive\n",
        "drive.mount('/content/drive')"
      ],
      "metadata": {
        "colab": {
          "base_uri": "https://localhost:8080/"
        },
        "id": "DL2e9TuaZsfq",
        "outputId": "df694243-6cd4-408f-f9f1-f3df01161f34"
      },
      "execution_count": null,
      "outputs": [
        {
          "output_type": "stream",
          "name": "stdout",
          "text": [
            "Mounted at /content/drive\n"
          ]
        }
      ]
    },
    {
      "cell_type": "markdown",
      "source": [
        "**Initial Setup**\n",
        "\n",
        "1. First, you will setup your CoLab environment.\n",
        "\n",
        "2. Then, you will authenticate a Google Drive client to download the file we will be processing in our Spark job.\n",
        "Make sure to follow the interactive instructions.\n",
        "\n",
        "3. Then, you will download the dataset `lastfm.csv` and store it in your drive.\n",
        "Check the panel in your left to note if the dataset has downloaded correctly under the \"Files\" tab."
      ],
      "metadata": {
        "id": "rLW3cVbxUe95"
      }
    },
    {
      "cell_type": "code",
      "execution_count": null,
      "metadata": {
        "colab": {
          "base_uri": "https://localhost:8080/"
        },
        "id": "MXJsUg9ITmsg",
        "outputId": "6c007a88-f763-442a-a04c-21fca0b71944"
      },
      "outputs": [
        {
          "output_type": "stream",
          "name": "stdout",
          "text": [
            "Looking in indexes: https://pypi.org/simple, https://us-python.pkg.dev/colab-wheels/public/simple/\n",
            "Collecting pyspark\n",
            "  Downloading pyspark-3.3.1.tar.gz (281.4 MB)\n",
            "\u001b[K     |████████████████████████████████| 281.4 MB 37 kB/s \n",
            "\u001b[?25hCollecting py4j==0.10.9.5\n",
            "  Downloading py4j-0.10.9.5-py2.py3-none-any.whl (199 kB)\n",
            "\u001b[K     |████████████████████████████████| 199 kB 71.9 MB/s \n",
            "\u001b[?25hBuilding wheels for collected packages: pyspark\n",
            "  Building wheel for pyspark (setup.py) ... \u001b[?25l\u001b[?25hdone\n",
            "  Created wheel for pyspark: filename=pyspark-3.3.1-py2.py3-none-any.whl size=281845512 sha256=6dd35bb9b96aa70e75b429ec8ee282ac0ff5a98f944a447297687c57e198ae8f\n",
            "  Stored in directory: /root/.cache/pip/wheels/43/dc/11/ec201cd671da62fa9c5cc77078235e40722170ceba231d7598\n",
            "Successfully built pyspark\n",
            "Installing collected packages: py4j, pyspark\n",
            "Successfully installed py4j-0.10.9.5 pyspark-3.3.1\n",
            "The following package was automatically installed and is no longer required:\n",
            "  libnvidia-common-460\n",
            "Use 'apt autoremove' to remove it.\n",
            "The following additional packages will be installed:\n",
            "  openjdk-8-jre-headless\n",
            "Suggested packages:\n",
            "  openjdk-8-demo openjdk-8-source libnss-mdns fonts-dejavu-extra\n",
            "  fonts-ipafont-gothic fonts-ipafont-mincho fonts-wqy-microhei\n",
            "  fonts-wqy-zenhei fonts-indic\n",
            "The following NEW packages will be installed:\n",
            "  openjdk-8-jdk-headless openjdk-8-jre-headless\n",
            "0 upgraded, 2 newly installed, 0 to remove and 5 not upgraded.\n",
            "Need to get 36.6 MB of archives.\n",
            "After this operation, 143 MB of additional disk space will be used.\n",
            "Selecting previously unselected package openjdk-8-jre-headless:amd64.\n",
            "(Reading database ... 124015 files and directories currently installed.)\n",
            "Preparing to unpack .../openjdk-8-jre-headless_8u352-ga-1~18.04_amd64.deb ...\n",
            "Unpacking openjdk-8-jre-headless:amd64 (8u352-ga-1~18.04) ...\n",
            "Selecting previously unselected package openjdk-8-jdk-headless:amd64.\n",
            "Preparing to unpack .../openjdk-8-jdk-headless_8u352-ga-1~18.04_amd64.deb ...\n",
            "Unpacking openjdk-8-jdk-headless:amd64 (8u352-ga-1~18.04) ...\n",
            "Setting up openjdk-8-jre-headless:amd64 (8u352-ga-1~18.04) ...\n",
            "update-alternatives: using /usr/lib/jvm/java-8-openjdk-amd64/jre/bin/orbd to provide /usr/bin/orbd (orbd) in auto mode\n",
            "update-alternatives: using /usr/lib/jvm/java-8-openjdk-amd64/jre/bin/servertool to provide /usr/bin/servertool (servertool) in auto mode\n",
            "update-alternatives: using /usr/lib/jvm/java-8-openjdk-amd64/jre/bin/tnameserv to provide /usr/bin/tnameserv (tnameserv) in auto mode\n",
            "Setting up openjdk-8-jdk-headless:amd64 (8u352-ga-1~18.04) ...\n",
            "update-alternatives: using /usr/lib/jvm/java-8-openjdk-amd64/bin/idlj to provide /usr/bin/idlj (idlj) in auto mode\n",
            "update-alternatives: using /usr/lib/jvm/java-8-openjdk-amd64/bin/wsimport to provide /usr/bin/wsimport (wsimport) in auto mode\n",
            "update-alternatives: using /usr/lib/jvm/java-8-openjdk-amd64/bin/jsadebugd to provide /usr/bin/jsadebugd (jsadebugd) in auto mode\n",
            "update-alternatives: using /usr/lib/jvm/java-8-openjdk-amd64/bin/native2ascii to provide /usr/bin/native2ascii (native2ascii) in auto mode\n",
            "update-alternatives: using /usr/lib/jvm/java-8-openjdk-amd64/bin/javah to provide /usr/bin/javah (javah) in auto mode\n",
            "update-alternatives: using /usr/lib/jvm/java-8-openjdk-amd64/bin/clhsdb to provide /usr/bin/clhsdb (clhsdb) in auto mode\n",
            "update-alternatives: using /usr/lib/jvm/java-8-openjdk-amd64/bin/xjc to provide /usr/bin/xjc (xjc) in auto mode\n",
            "update-alternatives: using /usr/lib/jvm/java-8-openjdk-amd64/bin/hsdb to provide /usr/bin/hsdb (hsdb) in auto mode\n",
            "update-alternatives: using /usr/lib/jvm/java-8-openjdk-amd64/bin/schemagen to provide /usr/bin/schemagen (schemagen) in auto mode\n",
            "update-alternatives: using /usr/lib/jvm/java-8-openjdk-amd64/bin/extcheck to provide /usr/bin/extcheck (extcheck) in auto mode\n",
            "update-alternatives: using /usr/lib/jvm/java-8-openjdk-amd64/bin/jhat to provide /usr/bin/jhat (jhat) in auto mode\n",
            "update-alternatives: using /usr/lib/jvm/java-8-openjdk-amd64/bin/wsgen to provide /usr/bin/wsgen (wsgen) in auto mode\n"
          ]
        }
      ],
      "source": [
        "!pip install pyspark\n",
        "!pip install -U -q PyDrive\n",
        "!apt install openjdk-8-jdk-headless -qq\n",
        "import os\n",
        "os.environ[\"JAVA_HOME\"] = \"/usr/lib/jvm/java-8-openjdk-amd64\""
      ]
    },
    {
      "cell_type": "code",
      "source": [
        "from pydrive.auth import GoogleAuth\n",
        "from pydrive.drive import GoogleDrive\n",
        "from google.colab import auth\n",
        "from oauth2client.client import GoogleCredentials\n",
        "\n",
        "# Authenticate and create the PyDrive client\n",
        "auth.authenticate_user()\n",
        "gauth = GoogleAuth()\n",
        "gauth.credentials = GoogleCredentials.get_application_default()\n",
        "drive = GoogleDrive(gauth)"
      ],
      "metadata": {
        "id": "D-pcl0ImV4GX"
      },
      "execution_count": null,
      "outputs": []
    },
    {
      "cell_type": "code",
      "source": [
        "file_list = drive.ListFile({'q': \"'1iUsSO-Fo5D5c0YX9_6RgA1cy4IK_Da4-' in parents\"}).GetList()\n",
        "for f in file_list:\n",
        "  print('title: %s, id: %s' % (f['title'], f['id']))"
      ],
      "metadata": {
        "id": "zm3yR7YQWGn6"
      },
      "execution_count": null,
      "outputs": []
    },
    {
      "cell_type": "code",
      "source": [
        "id='1q7iH1KpSPEtd35NAOqvA35mikPhracDY'\n",
        "downloaded = drive.CreateFile({'id': id})\n",
        "downloaded.GetContentFile('lastfm.csv')"
      ],
      "metadata": {
        "id": "nyT14z2rWOjh"
      },
      "execution_count": null,
      "outputs": []
    },
    {
      "cell_type": "markdown",
      "source": [
        "***Check whether your dataset was downloaded and stored correctly***"
      ],
      "metadata": {
        "id": "u1D8QpbWWnSC"
      }
    },
    {
      "cell_type": "markdown",
      "source": [
        "## **From this point onwards, you are supposed to do the coding yourself. Refer the Exercise Sheet to carry out your analysis**"
      ],
      "metadata": {
        "id": "4yNQ_j2lWtzN"
      }
    },
    {
      "cell_type": "code",
      "metadata": {
        "id": "MMjjJe_cw1Az"
      },
      "source": [
        "#Modules not related to pyspark are imported\n",
        "import numpy as np\n",
        "import pandas as pd\n",
        "import matplotlib.pyplot as plt\n",
        "import seaborn as sns\n",
        "sns.set_style('whitegrid', {\"grid.color\":\".5\", \"grid.linestyle\": \"-\"})\n",
        "sns.set_theme()\n",
        "import plotly.express as px\n",
        "\n",
        "from warnings import filterwarnings\n",
        "filterwarnings('ignore')"
      ],
      "execution_count": null,
      "outputs": []
    },
    {
      "cell_type": "code",
      "source": [
        "#Importing Pyspark Related Modules\n",
        "import pyspark\n",
        "from pyspark.sql import SparkSession\n",
        "from pyspark.conf import SparkConf\n",
        "from pyspark import SparkContext\n",
        "from pyspark.ml.fpm import FPGrowth"
      ],
      "metadata": {
        "id": "z_BTlROxgebW"
      },
      "execution_count": null,
      "outputs": []
    },
    {
      "cell_type": "markdown",
      "source": [
        "Creating the Spark **Entry** Session"
      ],
      "metadata": {
        "id": "wob2F705jrjv"
      }
    },
    {
      "cell_type": "code",
      "source": [
        "spark = SparkSession.builder.master(\"local\").appName(\"lastfm_Project\").getOrCreate()\n",
        "sc = spark.sparkContext\n",
        "sc"
      ],
      "metadata": {
        "colab": {
          "base_uri": "https://localhost:8080/",
          "height": 196
        },
        "id": "vHuwuezUgezC",
        "outputId": "c4aa8694-b31a-4671-9a9b-e95927ee7a11"
      },
      "execution_count": null,
      "outputs": [
        {
          "output_type": "execute_result",
          "data": {
            "text/plain": [
              "<SparkContext master=local appName=lastfm_Project>"
            ],
            "text/html": [
              "\n",
              "        <div>\n",
              "            <p><b>SparkContext</b></p>\n",
              "\n",
              "            <p><a href=\"http://77ed57bbeec4:4040\">Spark UI</a></p>\n",
              "\n",
              "            <dl>\n",
              "              <dt>Version</dt>\n",
              "                <dd><code>v3.3.1</code></dd>\n",
              "              <dt>Master</dt>\n",
              "                <dd><code>local</code></dd>\n",
              "              <dt>AppName</dt>\n",
              "                <dd><code>lastfm_Project</code></dd>\n",
              "            </dl>\n",
              "        </div>\n",
              "        "
            ]
          },
          "metadata": {},
          "execution_count": 76
        }
      ]
    },
    {
      "cell_type": "code",
      "source": [
        "spark"
      ],
      "metadata": {
        "colab": {
          "base_uri": "https://localhost:8080/",
          "height": 219
        },
        "id": "tsfxrf26ge5V",
        "outputId": "a4b38af0-e072-4102-fcf7-3f706ef58b60"
      },
      "execution_count": null,
      "outputs": [
        {
          "output_type": "execute_result",
          "data": {
            "text/plain": [
              "<pyspark.sql.session.SparkSession at 0x7f704dcfec10>"
            ],
            "text/html": [
              "\n",
              "            <div>\n",
              "                <p><b>SparkSession - in-memory</b></p>\n",
              "                \n",
              "        <div>\n",
              "            <p><b>SparkContext</b></p>\n",
              "\n",
              "            <p><a href=\"http://77ed57bbeec4:4040\">Spark UI</a></p>\n",
              "\n",
              "            <dl>\n",
              "              <dt>Version</dt>\n",
              "                <dd><code>v3.3.1</code></dd>\n",
              "              <dt>Master</dt>\n",
              "                <dd><code>local</code></dd>\n",
              "              <dt>AppName</dt>\n",
              "                <dd><code>lastfm_Project</code></dd>\n",
              "            </dl>\n",
              "        </div>\n",
              "        \n",
              "            </div>\n",
              "        "
            ]
          },
          "metadata": {},
          "execution_count": 77
        }
      ]
    },
    {
      "cell_type": "code",
      "source": [
        "#Reading the lastfm data into pyspark as DataFrame and used persist() to store it IN MEMORY and reduced the execution time\n",
        "spark_lastfm = spark.read.csv(\"/content/lastfm.csv\", header=True, inferSchema=True)\n",
        "spark_lastfm.persist()"
      ],
      "metadata": {
        "colab": {
          "base_uri": "https://localhost:8080/"
        },
        "id": "9bqBG3O4ge91",
        "outputId": "d58db09c-73c9-4ab8-bf00-6ae2b0309a79"
      },
      "execution_count": null,
      "outputs": [
        {
          "output_type": "execute_result",
          "data": {
            "text/plain": [
              "DataFrame[user: int, artist: string, sex: string, country: string]"
            ]
          },
          "metadata": {},
          "execution_count": 78
        }
      ]
    },
    {
      "cell_type": "code",
      "source": [
        "#Displaying the first 5 rows of the dataset\n",
        "spark_lastfm.show(5)"
      ],
      "metadata": {
        "colab": {
          "base_uri": "https://localhost:8080/"
        },
        "id": "dn4jjxwggfD6",
        "outputId": "f0191c0c-3de6-4ce0-f05c-0f54b82935dd"
      },
      "execution_count": null,
      "outputs": [
        {
          "output_type": "stream",
          "name": "stdout",
          "text": [
            "+----+--------------------+---+-------+\n",
            "|user|              artist|sex|country|\n",
            "+----+--------------------+---+-------+\n",
            "|   1|red hot chili pep...|  f|Germany|\n",
            "|   1|the black dahlia ...|  f|Germany|\n",
            "|   1|           goldfrapp|  f|Germany|\n",
            "|   1|    dropkick murphys|  f|Germany|\n",
            "|   1|            le tigre|  f|Germany|\n",
            "+----+--------------------+---+-------+\n",
            "only showing top 5 rows\n",
            "\n"
          ]
        }
      ]
    },
    {
      "cell_type": "code",
      "source": [
        "spark_lastfm.take(5)"
      ],
      "metadata": {
        "colab": {
          "base_uri": "https://localhost:8080/"
        },
        "id": "OshUfNgvVcuI",
        "outputId": "51c98472-a686-4c00-e413-f224264489d2"
      },
      "execution_count": null,
      "outputs": [
        {
          "output_type": "execute_result",
          "data": {
            "text/plain": [
              "[Row(user=1, artist='red hot chili peppers', sex='f', country='Germany'),\n",
              " Row(user=1, artist='the black dahlia murder', sex='f', country='Germany'),\n",
              " Row(user=1, artist='goldfrapp', sex='f', country='Germany'),\n",
              " Row(user=1, artist='dropkick murphys', sex='f', country='Germany'),\n",
              " Row(user=1, artist='le tigre', sex='f', country='Germany')]"
            ]
          },
          "metadata": {},
          "execution_count": 79
        }
      ]
    },
    {
      "cell_type": "code",
      "source": [
        "#Showing the schema of the dataFrame in tree format along with columns name and Datatypes\n",
        "spark_lastfm.printSchema()"
      ],
      "metadata": {
        "colab": {
          "base_uri": "https://localhost:8080/"
        },
        "id": "GQabz1hPmD_w",
        "outputId": "94be68e7-0b8d-4f6a-ac16-01bd9c44287f"
      },
      "execution_count": null,
      "outputs": [
        {
          "output_type": "stream",
          "name": "stdout",
          "text": [
            "root\n",
            " |-- user: integer (nullable = true)\n",
            " |-- artist: string (nullable = true)\n",
            " |-- sex: string (nullable = true)\n",
            " |-- country: string (nullable = true)\n",
            "\n"
          ]
        }
      ]
    },
    {
      "cell_type": "code",
      "source": [
        "#getting the data columns\n",
        "spark_lastfm.columns"
      ],
      "metadata": {
        "colab": {
          "base_uri": "https://localhost:8080/"
        },
        "id": "cneIhcbWmEIp",
        "outputId": "868a15e8-1d11-4dd3-bdb5-3999db0bb622"
      },
      "execution_count": null,
      "outputs": [
        {
          "output_type": "execute_result",
          "data": {
            "text/plain": [
              "['user', 'artist', 'sex', 'country']"
            ]
          },
          "metadata": {},
          "execution_count": 81
        }
      ]
    },
    {
      "cell_type": "code",
      "source": [
        "#To know the total numbers of rows in the dataset\n",
        "spark_lastfm.count()\n"
      ],
      "metadata": {
        "colab": {
          "base_uri": "https://localhost:8080/"
        },
        "id": "eWInYf6bmEF8",
        "outputId": "63b9adc2-9e07-444e-90d9-6135602b64f1"
      },
      "execution_count": null,
      "outputs": [
        {
          "output_type": "execute_result",
          "data": {
            "text/plain": [
              "289955"
            ]
          },
          "metadata": {},
          "execution_count": 82
        }
      ]
    },
    {
      "cell_type": "code",
      "source": [
        "#This indicates the dataset contains some duplicates\n",
        "spark_lastfm.distinct().count()"
      ],
      "metadata": {
        "colab": {
          "base_uri": "https://localhost:8080/"
        },
        "id": "W1Z46vGF928K",
        "outputId": "1b8865aa-f1af-4ff7-c9ab-1042cc794c55"
      },
      "execution_count": null,
      "outputs": [
        {
          "output_type": "execute_result",
          "data": {
            "text/plain": [
              "289953"
            ]
          },
          "metadata": {},
          "execution_count": 88
        }
      ]
    },
    {
      "cell_type": "code",
      "source": [
        "#Getting the numbers of columns\n",
        "len(spark_lastfm.columns)"
      ],
      "metadata": {
        "colab": {
          "base_uri": "https://localhost:8080/"
        },
        "id": "fYvRUWPEpGT9",
        "outputId": "62339d4d-edf9-44b2-f69d-98f4f3d6842b"
      },
      "execution_count": null,
      "outputs": [
        {
          "output_type": "execute_result",
          "data": {
            "text/plain": [
              "4"
            ]
          },
          "metadata": {},
          "execution_count": 83
        }
      ]
    },
    {
      "cell_type": "code",
      "source": [
        "#Showing the top row in a vertical view\n",
        "spark_lastfm.show(1, vertical=True)"
      ],
      "metadata": {
        "colab": {
          "base_uri": "https://localhost:8080/"
        },
        "id": "843Ksby9mECK",
        "outputId": "c4dbc2cb-1131-47d9-99dd-72fc2d816ab2"
      },
      "execution_count": null,
      "outputs": [
        {
          "output_type": "stream",
          "name": "stdout",
          "text": [
            "-RECORD 0-----------------------\n",
            " user    | 1                    \n",
            " artist  | red hot chili pep... \n",
            " sex     | f                    \n",
            " country | Germany              \n",
            "only showing top 1 row\n",
            "\n"
          ]
        }
      ]
    },
    {
      "cell_type": "code",
      "source": [
        "#Dropping the duplicates in the dataset\n",
        "spark_lastfm = spark_lastfm.dropDuplicates()\n",
        "spark_lastfm.show(5)"
      ],
      "metadata": {
        "colab": {
          "base_uri": "https://localhost:8080/"
        },
        "id": "hEtPAWxfmD5e",
        "outputId": "3efa3b22-9084-4c81-cf30-b0b5fd3a3e49"
      },
      "execution_count": null,
      "outputs": [
        {
          "output_type": "stream",
          "name": "stdout",
          "text": [
            "+----+--------------------+---+-------+\n",
            "|user|              artist|sex|country|\n",
            "+----+--------------------+---+-------+\n",
            "|  19|            le tigre|  f| Sweden|\n",
            "|  28|rage against the ...|  m| Sweden|\n",
            "|  47|       john coltrane|  m|  Italy|\n",
            "|  64|        trentemøller|  m| Poland|\n",
            "|  74|             sirenia|  m|  Spain|\n",
            "+----+--------------------+---+-------+\n",
            "only showing top 5 rows\n",
            "\n"
          ]
        }
      ]
    },
    {
      "cell_type": "code",
      "source": [
        "#Count of the rows after dupplicates has been dropped.\n",
        "spark_lastfm.count()"
      ],
      "metadata": {
        "colab": {
          "base_uri": "https://localhost:8080/"
        },
        "id": "sYdSZbclmD15",
        "outputId": "20312119-9f1b-415f-b722-20725558d6bc"
      },
      "execution_count": null,
      "outputs": [
        {
          "output_type": "execute_result",
          "data": {
            "text/plain": [
              "289953"
            ]
          },
          "metadata": {},
          "execution_count": 86
        }
      ]
    },
    {
      "cell_type": "code",
      "source": [
        "#To show summary of the dataFrame lastfm\n",
        "spark_lastfm.select(\"user\", \"artist\", \"sex\", \"country\").describe().show()"
      ],
      "metadata": {
        "colab": {
          "base_uri": "https://localhost:8080/"
        },
        "id": "0Uy0d-FcmD8U",
        "outputId": "2da5549b-1b43-426b-8815-3881e48efb86"
      },
      "execution_count": null,
      "outputs": [
        {
          "output_type": "stream",
          "name": "stdout",
          "text": [
            "+-------+-----------------+--------------------+------+-----------+\n",
            "|summary|             user|              artist|   sex|    country|\n",
            "+-------+-----------------+--------------------+------+-----------+\n",
            "|  count|           289953|              289953|289953|     289953|\n",
            "|   mean|9852.470696975028|  178.03614457831324|  null|       null|\n",
            "| stddev|5692.372170724096|   133.7678036793788|  null|       null|\n",
            "|    min|                1|...and you will k...|     f|Afghanistan|\n",
            "|    max|            19718|          Édith piaf|     m|   Zimbabwe|\n",
            "+-------+-----------------+--------------------+------+-----------+\n",
            "\n"
          ]
        }
      ]
    },
    {
      "cell_type": "markdown",
      "source": [
        "**Exploratory** **Analysis** **of** **the** **lastfm** **dataset** **using Spark SQL and other Pyhton libraries**"
      ],
      "metadata": {
        "id": "SLsNdP2Pbu0q"
      }
    },
    {
      "cell_type": "code",
      "source": [
        "spark_lastfm.createOrReplaceTempView(\"sql_lastfm\")"
      ],
      "metadata": {
        "id": "oPN1FdLE_RJ0"
      },
      "execution_count": null,
      "outputs": []
    },
    {
      "cell_type": "code",
      "source": [
        "df = spark.sql(\"SELECT * FROM sql_lastfm\").show()"
      ],
      "metadata": {
        "colab": {
          "base_uri": "https://localhost:8080/"
        },
        "id": "7aK6cCp6_Q9S",
        "outputId": "5ccbad1f-3349-46eb-a023-fd9b64cdb068"
      },
      "execution_count": null,
      "outputs": [
        {
          "output_type": "stream",
          "name": "stdout",
          "text": [
            "+----+--------------------+---+------------------+\n",
            "|user|              artist|sex|           country|\n",
            "+----+--------------------+---+------------------+\n",
            "|  19|            le tigre|  f|            Sweden|\n",
            "|  28|rage against the ...|  m|            Sweden|\n",
            "|  47|       john coltrane|  m|             Italy|\n",
            "|  64|        trentemøller|  m|            Poland|\n",
            "|  74|             sirenia|  m|             Spain|\n",
            "|  97|         johnny cash|  m|     United States|\n",
            "| 124|            anathema|  m|            Brazil|\n",
            "| 129|          bloc party|  f|            Poland|\n",
            "| 136|             madonna|  f|            Brazil|\n",
            "| 138|       the offspring|  m|            Sweden|\n",
            "| 173|         iron maiden|  m|         Australia|\n",
            "| 191|        otis redding|  f|     United States|\n",
            "| 202|     sarah mclachlan|  f|             Ghana|\n",
            "| 213|               doves|  f|     United States|\n",
            "| 224|            hot chip|  m|     United States|\n",
            "| 256|       amy winehouse|  m|           Germany|\n",
            "| 256|       blank & jones|  m|           Germany|\n",
            "| 275|     boys like girls|  f|     United States|\n",
            "| 287|        fall out boy|  m|Russian Federation|\n",
            "| 292|       black sabbath|  m|            Poland|\n",
            "+----+--------------------+---+------------------+\n",
            "only showing top 20 rows\n",
            "\n"
          ]
        }
      ]
    },
    {
      "cell_type": "code",
      "source": [
        "df1 =  spark.sql(\"SELECT COUNT(DISTINCT country) FROM sql_lastfm\").show()\n",
        "df2 = spark.sql(\"SELECT COUNT(DISTINCT artist) FROM sql_lastfm\").show()\n",
        "df3 = spark.sql(\"SELECT COUNT(DISTINCT sex) FROM sql_lastfm\").show()\n",
        "df4 = spark.sql(\"SELECT COUNT(DISTINCT user) FROM sql_lastfm\").show()"
      ],
      "metadata": {
        "colab": {
          "base_uri": "https://localhost:8080/"
        },
        "id": "L7ncxQzs_QzI",
        "outputId": "75dac68c-1e9f-4df3-cf20-795e23d545c2"
      },
      "execution_count": null,
      "outputs": [
        {
          "output_type": "stream",
          "name": "stdout",
          "text": [
            "+-----------------------+\n",
            "|count(DISTINCT country)|\n",
            "+-----------------------+\n",
            "|                    159|\n",
            "+-----------------------+\n",
            "\n",
            "+----------------------+\n",
            "|count(DISTINCT artist)|\n",
            "+----------------------+\n",
            "|                  1004|\n",
            "+----------------------+\n",
            "\n",
            "+-------------------+\n",
            "|count(DISTINCT sex)|\n",
            "+-------------------+\n",
            "|                  2|\n",
            "+-------------------+\n",
            "\n",
            "+--------------------+\n",
            "|count(DISTINCT user)|\n",
            "+--------------------+\n",
            "|               15000|\n",
            "+--------------------+\n",
            "\n"
          ]
        }
      ]
    },
    {
      "cell_type": "code",
      "source": [
        "df5 = spark.sql(\"SELECT DISTINCT user, sex, country FROM sql_lastfm\").show()"
      ],
      "metadata": {
        "colab": {
          "base_uri": "https://localhost:8080/"
        },
        "id": "tmhHVeUjBVb6",
        "outputId": "10b58071-8d02-4813-b53c-753014fef6c1"
      },
      "execution_count": null,
      "outputs": [
        {
          "output_type": "stream",
          "name": "stdout",
          "text": [
            "+----+---+------------------+\n",
            "|user|sex|           country|\n",
            "+----+---+------------------+\n",
            "| 360|  f|            Brazil|\n",
            "| 434|  m|    United Kingdom|\n",
            "| 854|  m|     United States|\n",
            "|1446|  m|     United States|\n",
            "|1578|  f|            Poland|\n",
            "|1618|  m|            Brazil|\n",
            "|1639|  f|            Greece|\n",
            "|2025|  m|     United States|\n",
            "|2077|  m|     United States|\n",
            "|2168|  f|           Ireland|\n",
            "|2587|  m|    United Kingdom|\n",
            "|3742|  f|Russian Federation|\n",
            "|4253|  m|            Mexico|\n",
            "|4255|  m|             Japan|\n",
            "|4739|  m|            France|\n",
            "|5037|  f|    United Kingdom|\n",
            "|5624|  m|Russian Federation|\n",
            "|5823|  m|     United States|\n",
            "|6582|  m|            Brazil|\n",
            "|7055|  m|            Poland|\n",
            "+----+---+------------------+\n",
            "only showing top 20 rows\n",
            "\n"
          ]
        }
      ]
    },
    {
      "cell_type": "code",
      "source": [
        "df6 = spark.sql(\"SELECT DISTINCT artist FROM sql_lastfm\").toPandas()\n",
        "df6.head(10)"
      ],
      "metadata": {
        "colab": {
          "base_uri": "https://localhost:8080/",
          "height": 363
        },
        "id": "BXYjQcxoBVNO",
        "outputId": "eeb66471-04c2-4880-9ce7-9615ef906677"
      },
      "execution_count": null,
      "outputs": [
        {
          "output_type": "execute_result",
          "data": {
            "text/plain": [
              "               artist\n",
              "0            le tigre\n",
              "1  the mountain goats\n",
              "2           kate bush\n",
              "3            lagwagon\n",
              "4            godsmack\n",
              "5               kmfdm\n",
              "6         the beatles\n",
              "7       dizzee rascal\n",
              "8            calexico\n",
              "9      gogol bordello"
            ],
            "text/html": [
              "\n",
              "  <div id=\"df-fd54fa7f-fffb-4974-ab51-cccbb621dd61\">\n",
              "    <div class=\"colab-df-container\">\n",
              "      <div>\n",
              "<style scoped>\n",
              "    .dataframe tbody tr th:only-of-type {\n",
              "        vertical-align: middle;\n",
              "    }\n",
              "\n",
              "    .dataframe tbody tr th {\n",
              "        vertical-align: top;\n",
              "    }\n",
              "\n",
              "    .dataframe thead th {\n",
              "        text-align: right;\n",
              "    }\n",
              "</style>\n",
              "<table border=\"1\" class=\"dataframe\">\n",
              "  <thead>\n",
              "    <tr style=\"text-align: right;\">\n",
              "      <th></th>\n",
              "      <th>artist</th>\n",
              "    </tr>\n",
              "  </thead>\n",
              "  <tbody>\n",
              "    <tr>\n",
              "      <th>0</th>\n",
              "      <td>le tigre</td>\n",
              "    </tr>\n",
              "    <tr>\n",
              "      <th>1</th>\n",
              "      <td>the mountain goats</td>\n",
              "    </tr>\n",
              "    <tr>\n",
              "      <th>2</th>\n",
              "      <td>kate bush</td>\n",
              "    </tr>\n",
              "    <tr>\n",
              "      <th>3</th>\n",
              "      <td>lagwagon</td>\n",
              "    </tr>\n",
              "    <tr>\n",
              "      <th>4</th>\n",
              "      <td>godsmack</td>\n",
              "    </tr>\n",
              "    <tr>\n",
              "      <th>5</th>\n",
              "      <td>kmfdm</td>\n",
              "    </tr>\n",
              "    <tr>\n",
              "      <th>6</th>\n",
              "      <td>the beatles</td>\n",
              "    </tr>\n",
              "    <tr>\n",
              "      <th>7</th>\n",
              "      <td>dizzee rascal</td>\n",
              "    </tr>\n",
              "    <tr>\n",
              "      <th>8</th>\n",
              "      <td>calexico</td>\n",
              "    </tr>\n",
              "    <tr>\n",
              "      <th>9</th>\n",
              "      <td>gogol bordello</td>\n",
              "    </tr>\n",
              "  </tbody>\n",
              "</table>\n",
              "</div>\n",
              "      <button class=\"colab-df-convert\" onclick=\"convertToInteractive('df-fd54fa7f-fffb-4974-ab51-cccbb621dd61')\"\n",
              "              title=\"Convert this dataframe to an interactive table.\"\n",
              "              style=\"display:none;\">\n",
              "        \n",
              "  <svg xmlns=\"http://www.w3.org/2000/svg\" height=\"24px\"viewBox=\"0 0 24 24\"\n",
              "       width=\"24px\">\n",
              "    <path d=\"M0 0h24v24H0V0z\" fill=\"none\"/>\n",
              "    <path d=\"M18.56 5.44l.94 2.06.94-2.06 2.06-.94-2.06-.94-.94-2.06-.94 2.06-2.06.94zm-11 1L8.5 8.5l.94-2.06 2.06-.94-2.06-.94L8.5 2.5l-.94 2.06-2.06.94zm10 10l.94 2.06.94-2.06 2.06-.94-2.06-.94-.94-2.06-.94 2.06-2.06.94z\"/><path d=\"M17.41 7.96l-1.37-1.37c-.4-.4-.92-.59-1.43-.59-.52 0-1.04.2-1.43.59L10.3 9.45l-7.72 7.72c-.78.78-.78 2.05 0 2.83L4 21.41c.39.39.9.59 1.41.59.51 0 1.02-.2 1.41-.59l7.78-7.78 2.81-2.81c.8-.78.8-2.07 0-2.86zM5.41 20L4 18.59l7.72-7.72 1.47 1.35L5.41 20z\"/>\n",
              "  </svg>\n",
              "      </button>\n",
              "      \n",
              "  <style>\n",
              "    .colab-df-container {\n",
              "      display:flex;\n",
              "      flex-wrap:wrap;\n",
              "      gap: 12px;\n",
              "    }\n",
              "\n",
              "    .colab-df-convert {\n",
              "      background-color: #E8F0FE;\n",
              "      border: none;\n",
              "      border-radius: 50%;\n",
              "      cursor: pointer;\n",
              "      display: none;\n",
              "      fill: #1967D2;\n",
              "      height: 32px;\n",
              "      padding: 0 0 0 0;\n",
              "      width: 32px;\n",
              "    }\n",
              "\n",
              "    .colab-df-convert:hover {\n",
              "      background-color: #E2EBFA;\n",
              "      box-shadow: 0px 1px 2px rgba(60, 64, 67, 0.3), 0px 1px 3px 1px rgba(60, 64, 67, 0.15);\n",
              "      fill: #174EA6;\n",
              "    }\n",
              "\n",
              "    [theme=dark] .colab-df-convert {\n",
              "      background-color: #3B4455;\n",
              "      fill: #D2E3FC;\n",
              "    }\n",
              "\n",
              "    [theme=dark] .colab-df-convert:hover {\n",
              "      background-color: #434B5C;\n",
              "      box-shadow: 0px 1px 3px 1px rgba(0, 0, 0, 0.15);\n",
              "      filter: drop-shadow(0px 1px 2px rgba(0, 0, 0, 0.3));\n",
              "      fill: #FFFFFF;\n",
              "    }\n",
              "  </style>\n",
              "\n",
              "      <script>\n",
              "        const buttonEl =\n",
              "          document.querySelector('#df-fd54fa7f-fffb-4974-ab51-cccbb621dd61 button.colab-df-convert');\n",
              "        buttonEl.style.display =\n",
              "          google.colab.kernel.accessAllowed ? 'block' : 'none';\n",
              "\n",
              "        async function convertToInteractive(key) {\n",
              "          const element = document.querySelector('#df-fd54fa7f-fffb-4974-ab51-cccbb621dd61');\n",
              "          const dataTable =\n",
              "            await google.colab.kernel.invokeFunction('convertToInteractive',\n",
              "                                                     [key], {});\n",
              "          if (!dataTable) return;\n",
              "\n",
              "          const docLinkHtml = 'Like what you see? Visit the ' +\n",
              "            '<a target=\"_blank\" href=https://colab.research.google.com/notebooks/data_table.ipynb>data table notebook</a>'\n",
              "            + ' to learn more about interactive tables.';\n",
              "          element.innerHTML = '';\n",
              "          dataTable['output_type'] = 'display_data';\n",
              "          await google.colab.output.renderOutput(dataTable, element);\n",
              "          const docLink = document.createElement('div');\n",
              "          docLink.innerHTML = docLinkHtml;\n",
              "          element.appendChild(docLink);\n",
              "        }\n",
              "      </script>\n",
              "    </div>\n",
              "  </div>\n",
              "  "
            ]
          },
          "metadata": {},
          "execution_count": 131
        }
      ]
    },
    {
      "cell_type": "code",
      "source": [
        "df8 = spark.sql(\"SELECT DISTINCT user, sex, country FROM sql_lastfm\").toPandas()\n",
        "df8.head(10)"
      ],
      "metadata": {
        "colab": {
          "base_uri": "https://localhost:8080/",
          "height": 363
        },
        "id": "cTpdw5eMIspT",
        "outputId": "7fcec343-cda4-42c1-b6f9-3feb2711218a"
      },
      "execution_count": null,
      "outputs": [
        {
          "output_type": "execute_result",
          "data": {
            "text/plain": [
              "   user sex         country\n",
              "0   360   f          Brazil\n",
              "1   434   m  United Kingdom\n",
              "2   854   m   United States\n",
              "3  1446   m   United States\n",
              "4  1578   f          Poland\n",
              "5  1618   m          Brazil\n",
              "6  1639   f          Greece\n",
              "7  2025   m   United States\n",
              "8  2077   m   United States\n",
              "9  2168   f         Ireland"
            ],
            "text/html": [
              "\n",
              "  <div id=\"df-ed15c5f1-78df-4555-b686-3d042a5ad362\">\n",
              "    <div class=\"colab-df-container\">\n",
              "      <div>\n",
              "<style scoped>\n",
              "    .dataframe tbody tr th:only-of-type {\n",
              "        vertical-align: middle;\n",
              "    }\n",
              "\n",
              "    .dataframe tbody tr th {\n",
              "        vertical-align: top;\n",
              "    }\n",
              "\n",
              "    .dataframe thead th {\n",
              "        text-align: right;\n",
              "    }\n",
              "</style>\n",
              "<table border=\"1\" class=\"dataframe\">\n",
              "  <thead>\n",
              "    <tr style=\"text-align: right;\">\n",
              "      <th></th>\n",
              "      <th>user</th>\n",
              "      <th>sex</th>\n",
              "      <th>country</th>\n",
              "    </tr>\n",
              "  </thead>\n",
              "  <tbody>\n",
              "    <tr>\n",
              "      <th>0</th>\n",
              "      <td>360</td>\n",
              "      <td>f</td>\n",
              "      <td>Brazil</td>\n",
              "    </tr>\n",
              "    <tr>\n",
              "      <th>1</th>\n",
              "      <td>434</td>\n",
              "      <td>m</td>\n",
              "      <td>United Kingdom</td>\n",
              "    </tr>\n",
              "    <tr>\n",
              "      <th>2</th>\n",
              "      <td>854</td>\n",
              "      <td>m</td>\n",
              "      <td>United States</td>\n",
              "    </tr>\n",
              "    <tr>\n",
              "      <th>3</th>\n",
              "      <td>1446</td>\n",
              "      <td>m</td>\n",
              "      <td>United States</td>\n",
              "    </tr>\n",
              "    <tr>\n",
              "      <th>4</th>\n",
              "      <td>1578</td>\n",
              "      <td>f</td>\n",
              "      <td>Poland</td>\n",
              "    </tr>\n",
              "    <tr>\n",
              "      <th>5</th>\n",
              "      <td>1618</td>\n",
              "      <td>m</td>\n",
              "      <td>Brazil</td>\n",
              "    </tr>\n",
              "    <tr>\n",
              "      <th>6</th>\n",
              "      <td>1639</td>\n",
              "      <td>f</td>\n",
              "      <td>Greece</td>\n",
              "    </tr>\n",
              "    <tr>\n",
              "      <th>7</th>\n",
              "      <td>2025</td>\n",
              "      <td>m</td>\n",
              "      <td>United States</td>\n",
              "    </tr>\n",
              "    <tr>\n",
              "      <th>8</th>\n",
              "      <td>2077</td>\n",
              "      <td>m</td>\n",
              "      <td>United States</td>\n",
              "    </tr>\n",
              "    <tr>\n",
              "      <th>9</th>\n",
              "      <td>2168</td>\n",
              "      <td>f</td>\n",
              "      <td>Ireland</td>\n",
              "    </tr>\n",
              "  </tbody>\n",
              "</table>\n",
              "</div>\n",
              "      <button class=\"colab-df-convert\" onclick=\"convertToInteractive('df-ed15c5f1-78df-4555-b686-3d042a5ad362')\"\n",
              "              title=\"Convert this dataframe to an interactive table.\"\n",
              "              style=\"display:none;\">\n",
              "        \n",
              "  <svg xmlns=\"http://www.w3.org/2000/svg\" height=\"24px\"viewBox=\"0 0 24 24\"\n",
              "       width=\"24px\">\n",
              "    <path d=\"M0 0h24v24H0V0z\" fill=\"none\"/>\n",
              "    <path d=\"M18.56 5.44l.94 2.06.94-2.06 2.06-.94-2.06-.94-.94-2.06-.94 2.06-2.06.94zm-11 1L8.5 8.5l.94-2.06 2.06-.94-2.06-.94L8.5 2.5l-.94 2.06-2.06.94zm10 10l.94 2.06.94-2.06 2.06-.94-2.06-.94-.94-2.06-.94 2.06-2.06.94z\"/><path d=\"M17.41 7.96l-1.37-1.37c-.4-.4-.92-.59-1.43-.59-.52 0-1.04.2-1.43.59L10.3 9.45l-7.72 7.72c-.78.78-.78 2.05 0 2.83L4 21.41c.39.39.9.59 1.41.59.51 0 1.02-.2 1.41-.59l7.78-7.78 2.81-2.81c.8-.78.8-2.07 0-2.86zM5.41 20L4 18.59l7.72-7.72 1.47 1.35L5.41 20z\"/>\n",
              "  </svg>\n",
              "      </button>\n",
              "      \n",
              "  <style>\n",
              "    .colab-df-container {\n",
              "      display:flex;\n",
              "      flex-wrap:wrap;\n",
              "      gap: 12px;\n",
              "    }\n",
              "\n",
              "    .colab-df-convert {\n",
              "      background-color: #E8F0FE;\n",
              "      border: none;\n",
              "      border-radius: 50%;\n",
              "      cursor: pointer;\n",
              "      display: none;\n",
              "      fill: #1967D2;\n",
              "      height: 32px;\n",
              "      padding: 0 0 0 0;\n",
              "      width: 32px;\n",
              "    }\n",
              "\n",
              "    .colab-df-convert:hover {\n",
              "      background-color: #E2EBFA;\n",
              "      box-shadow: 0px 1px 2px rgba(60, 64, 67, 0.3), 0px 1px 3px 1px rgba(60, 64, 67, 0.15);\n",
              "      fill: #174EA6;\n",
              "    }\n",
              "\n",
              "    [theme=dark] .colab-df-convert {\n",
              "      background-color: #3B4455;\n",
              "      fill: #D2E3FC;\n",
              "    }\n",
              "\n",
              "    [theme=dark] .colab-df-convert:hover {\n",
              "      background-color: #434B5C;\n",
              "      box-shadow: 0px 1px 3px 1px rgba(0, 0, 0, 0.15);\n",
              "      filter: drop-shadow(0px 1px 2px rgba(0, 0, 0, 0.3));\n",
              "      fill: #FFFFFF;\n",
              "    }\n",
              "  </style>\n",
              "\n",
              "      <script>\n",
              "        const buttonEl =\n",
              "          document.querySelector('#df-ed15c5f1-78df-4555-b686-3d042a5ad362 button.colab-df-convert');\n",
              "        buttonEl.style.display =\n",
              "          google.colab.kernel.accessAllowed ? 'block' : 'none';\n",
              "\n",
              "        async function convertToInteractive(key) {\n",
              "          const element = document.querySelector('#df-ed15c5f1-78df-4555-b686-3d042a5ad362');\n",
              "          const dataTable =\n",
              "            await google.colab.kernel.invokeFunction('convertToInteractive',\n",
              "                                                     [key], {});\n",
              "          if (!dataTable) return;\n",
              "\n",
              "          const docLinkHtml = 'Like what you see? Visit the ' +\n",
              "            '<a target=\"_blank\" href=https://colab.research.google.com/notebooks/data_table.ipynb>data table notebook</a>'\n",
              "            + ' to learn more about interactive tables.';\n",
              "          element.innerHTML = '';\n",
              "          dataTable['output_type'] = 'display_data';\n",
              "          await google.colab.output.renderOutput(dataTable, element);\n",
              "          const docLink = document.createElement('div');\n",
              "          docLink.innerHTML = docLinkHtml;\n",
              "          element.appendChild(docLink);\n",
              "        }\n",
              "      </script>\n",
              "    </div>\n",
              "  </div>\n",
              "  "
            ]
          },
          "metadata": {},
          "execution_count": 132
        }
      ]
    },
    {
      "cell_type": "code",
      "source": [
        "User_count = spark_lastfm.select(\"user\").groupby(\"user\").count().toPandas()\n",
        "User_count.head()"
      ],
      "metadata": {
        "colab": {
          "base_uri": "https://localhost:8080/",
          "height": 206
        },
        "id": "yZ4Zk4CKKEfB",
        "outputId": "4f132336-39a1-421b-c311-09da41e85780"
      },
      "execution_count": null,
      "outputs": [
        {
          "output_type": "execute_result",
          "data": {
            "text/plain": [
              "    user  count\n",
              "0    833     15\n",
              "1   6466     36\n",
              "2   6658     16\n",
              "3   7880     28\n",
              "4  10362      4"
            ],
            "text/html": [
              "\n",
              "  <div id=\"df-2aa07e38-0721-4db5-aa51-2e72a7f82756\">\n",
              "    <div class=\"colab-df-container\">\n",
              "      <div>\n",
              "<style scoped>\n",
              "    .dataframe tbody tr th:only-of-type {\n",
              "        vertical-align: middle;\n",
              "    }\n",
              "\n",
              "    .dataframe tbody tr th {\n",
              "        vertical-align: top;\n",
              "    }\n",
              "\n",
              "    .dataframe thead th {\n",
              "        text-align: right;\n",
              "    }\n",
              "</style>\n",
              "<table border=\"1\" class=\"dataframe\">\n",
              "  <thead>\n",
              "    <tr style=\"text-align: right;\">\n",
              "      <th></th>\n",
              "      <th>user</th>\n",
              "      <th>count</th>\n",
              "    </tr>\n",
              "  </thead>\n",
              "  <tbody>\n",
              "    <tr>\n",
              "      <th>0</th>\n",
              "      <td>833</td>\n",
              "      <td>15</td>\n",
              "    </tr>\n",
              "    <tr>\n",
              "      <th>1</th>\n",
              "      <td>6466</td>\n",
              "      <td>36</td>\n",
              "    </tr>\n",
              "    <tr>\n",
              "      <th>2</th>\n",
              "      <td>6658</td>\n",
              "      <td>16</td>\n",
              "    </tr>\n",
              "    <tr>\n",
              "      <th>3</th>\n",
              "      <td>7880</td>\n",
              "      <td>28</td>\n",
              "    </tr>\n",
              "    <tr>\n",
              "      <th>4</th>\n",
              "      <td>10362</td>\n",
              "      <td>4</td>\n",
              "    </tr>\n",
              "  </tbody>\n",
              "</table>\n",
              "</div>\n",
              "      <button class=\"colab-df-convert\" onclick=\"convertToInteractive('df-2aa07e38-0721-4db5-aa51-2e72a7f82756')\"\n",
              "              title=\"Convert this dataframe to an interactive table.\"\n",
              "              style=\"display:none;\">\n",
              "        \n",
              "  <svg xmlns=\"http://www.w3.org/2000/svg\" height=\"24px\"viewBox=\"0 0 24 24\"\n",
              "       width=\"24px\">\n",
              "    <path d=\"M0 0h24v24H0V0z\" fill=\"none\"/>\n",
              "    <path d=\"M18.56 5.44l.94 2.06.94-2.06 2.06-.94-2.06-.94-.94-2.06-.94 2.06-2.06.94zm-11 1L8.5 8.5l.94-2.06 2.06-.94-2.06-.94L8.5 2.5l-.94 2.06-2.06.94zm10 10l.94 2.06.94-2.06 2.06-.94-2.06-.94-.94-2.06-.94 2.06-2.06.94z\"/><path d=\"M17.41 7.96l-1.37-1.37c-.4-.4-.92-.59-1.43-.59-.52 0-1.04.2-1.43.59L10.3 9.45l-7.72 7.72c-.78.78-.78 2.05 0 2.83L4 21.41c.39.39.9.59 1.41.59.51 0 1.02-.2 1.41-.59l7.78-7.78 2.81-2.81c.8-.78.8-2.07 0-2.86zM5.41 20L4 18.59l7.72-7.72 1.47 1.35L5.41 20z\"/>\n",
              "  </svg>\n",
              "      </button>\n",
              "      \n",
              "  <style>\n",
              "    .colab-df-container {\n",
              "      display:flex;\n",
              "      flex-wrap:wrap;\n",
              "      gap: 12px;\n",
              "    }\n",
              "\n",
              "    .colab-df-convert {\n",
              "      background-color: #E8F0FE;\n",
              "      border: none;\n",
              "      border-radius: 50%;\n",
              "      cursor: pointer;\n",
              "      display: none;\n",
              "      fill: #1967D2;\n",
              "      height: 32px;\n",
              "      padding: 0 0 0 0;\n",
              "      width: 32px;\n",
              "    }\n",
              "\n",
              "    .colab-df-convert:hover {\n",
              "      background-color: #E2EBFA;\n",
              "      box-shadow: 0px 1px 2px rgba(60, 64, 67, 0.3), 0px 1px 3px 1px rgba(60, 64, 67, 0.15);\n",
              "      fill: #174EA6;\n",
              "    }\n",
              "\n",
              "    [theme=dark] .colab-df-convert {\n",
              "      background-color: #3B4455;\n",
              "      fill: #D2E3FC;\n",
              "    }\n",
              "\n",
              "    [theme=dark] .colab-df-convert:hover {\n",
              "      background-color: #434B5C;\n",
              "      box-shadow: 0px 1px 3px 1px rgba(0, 0, 0, 0.15);\n",
              "      filter: drop-shadow(0px 1px 2px rgba(0, 0, 0, 0.3));\n",
              "      fill: #FFFFFF;\n",
              "    }\n",
              "  </style>\n",
              "\n",
              "      <script>\n",
              "        const buttonEl =\n",
              "          document.querySelector('#df-2aa07e38-0721-4db5-aa51-2e72a7f82756 button.colab-df-convert');\n",
              "        buttonEl.style.display =\n",
              "          google.colab.kernel.accessAllowed ? 'block' : 'none';\n",
              "\n",
              "        async function convertToInteractive(key) {\n",
              "          const element = document.querySelector('#df-2aa07e38-0721-4db5-aa51-2e72a7f82756');\n",
              "          const dataTable =\n",
              "            await google.colab.kernel.invokeFunction('convertToInteractive',\n",
              "                                                     [key], {});\n",
              "          if (!dataTable) return;\n",
              "\n",
              "          const docLinkHtml = 'Like what you see? Visit the ' +\n",
              "            '<a target=\"_blank\" href=https://colab.research.google.com/notebooks/data_table.ipynb>data table notebook</a>'\n",
              "            + ' to learn more about interactive tables.';\n",
              "          element.innerHTML = '';\n",
              "          dataTable['output_type'] = 'display_data';\n",
              "          await google.colab.output.renderOutput(dataTable, element);\n",
              "          const docLink = document.createElement('div');\n",
              "          docLink.innerHTML = docLinkHtml;\n",
              "          element.appendChild(docLink);\n",
              "        }\n",
              "      </script>\n",
              "    </div>\n",
              "  </div>\n",
              "  "
            ]
          },
          "metadata": {},
          "execution_count": 122
        }
      ]
    },
    {
      "cell_type": "code",
      "source": [
        "palette = sns.color_palette(\"pastel\")\n",
        "sns.histplot(x='user',data=User_count.head(30), palette=\"pastel\")\n",
        "plt.title(\"User Count\")\n",
        "plt.savefig(\"User_count\")"
      ],
      "metadata": {
        "colab": {
          "base_uri": "https://localhost:8080/",
          "height": 301
        },
        "id": "17QPV9FpX57Z",
        "outputId": "901a3fe8-ae43-4836-a1a6-cd427d64a9c3"
      },
      "execution_count": null,
      "outputs": [
        {
          "output_type": "display_data",
          "data": {
            "text/plain": [
              "<Figure size 432x288 with 1 Axes>"
            ],
            "image/png": "[encoded data removed]"
          },
          "metadata": {}
        }
      ]
    },
    {
      "cell_type": "code",
      "source": [
        "#Converting the dataFrame to Pandas to be able to perfrom data visualization on it\n",
        "dataFrame= spark_lastfm.select('user', 'artist','sex', 'country').toPandas()"
      ],
      "metadata": {
        "id": "sDSe1p2yYc0E"
      },
      "execution_count": null,
      "outputs": []
    },
    {
      "cell_type": "code",
      "source": [
        "dataFrame.head(10)"
      ],
      "metadata": {
        "colab": {
          "base_uri": "https://localhost:8080/",
          "height": 363
        },
        "id": "a6vbs58xZN3o",
        "outputId": "e0a705bc-35d4-4132-e033-4d4a2e2cba37"
      },
      "execution_count": null,
      "outputs": [
        {
          "output_type": "execute_result",
          "data": {
            "text/plain": [
              "   user                    artist sex        country\n",
              "0    19                  le tigre   f         Sweden\n",
              "1    28  rage against the machine   m         Sweden\n",
              "2    47             john coltrane   m          Italy\n",
              "3    64              trentemøller   m         Poland\n",
              "4    74                   sirenia   m          Spain\n",
              "5    97               johnny cash   m  United States\n",
              "6   124                  anathema   m         Brazil\n",
              "7   129                bloc party   f         Poland\n",
              "8   136                   madonna   f         Brazil\n",
              "9   138             the offspring   m         Sweden"
            ],
            "text/html": [
              "\n",
              "  <div id=\"df-91f2ad73-807d-49ce-ad71-4ec4ad6b6a82\">\n",
              "    <div class=\"colab-df-container\">\n",
              "      <div>\n",
              "<style scoped>\n",
              "    .dataframe tbody tr th:only-of-type {\n",
              "        vertical-align: middle;\n",
              "    }\n",
              "\n",
              "    .dataframe tbody tr th {\n",
              "        vertical-align: top;\n",
              "    }\n",
              "\n",
              "    .dataframe thead th {\n",
              "        text-align: right;\n",
              "    }\n",
              "</style>\n",
              "<table border=\"1\" class=\"dataframe\">\n",
              "  <thead>\n",
              "    <tr style=\"text-align: right;\">\n",
              "      <th></th>\n",
              "      <th>user</th>\n",
              "      <th>artist</th>\n",
              "      <th>sex</th>\n",
              "      <th>country</th>\n",
              "    </tr>\n",
              "  </thead>\n",
              "  <tbody>\n",
              "    <tr>\n",
              "      <th>0</th>\n",
              "      <td>19</td>\n",
              "      <td>le tigre</td>\n",
              "      <td>f</td>\n",
              "      <td>Sweden</td>\n",
              "    </tr>\n",
              "    <tr>\n",
              "      <th>1</th>\n",
              "      <td>28</td>\n",
              "      <td>rage against the machine</td>\n",
              "      <td>m</td>\n",
              "      <td>Sweden</td>\n",
              "    </tr>\n",
              "    <tr>\n",
              "      <th>2</th>\n",
              "      <td>47</td>\n",
              "      <td>john coltrane</td>\n",
              "      <td>m</td>\n",
              "      <td>Italy</td>\n",
              "    </tr>\n",
              "    <tr>\n",
              "      <th>3</th>\n",
              "      <td>64</td>\n",
              "      <td>trentemøller</td>\n",
              "      <td>m</td>\n",
              "      <td>Poland</td>\n",
              "    </tr>\n",
              "    <tr>\n",
              "      <th>4</th>\n",
              "      <td>74</td>\n",
              "      <td>sirenia</td>\n",
              "      <td>m</td>\n",
              "      <td>Spain</td>\n",
              "    </tr>\n",
              "    <tr>\n",
              "      <th>5</th>\n",
              "      <td>97</td>\n",
              "      <td>johnny cash</td>\n",
              "      <td>m</td>\n",
              "      <td>United States</td>\n",
              "    </tr>\n",
              "    <tr>\n",
              "      <th>6</th>\n",
              "      <td>124</td>\n",
              "      <td>anathema</td>\n",
              "      <td>m</td>\n",
              "      <td>Brazil</td>\n",
              "    </tr>\n",
              "    <tr>\n",
              "      <th>7</th>\n",
              "      <td>129</td>\n",
              "      <td>bloc party</td>\n",
              "      <td>f</td>\n",
              "      <td>Poland</td>\n",
              "    </tr>\n",
              "    <tr>\n",
              "      <th>8</th>\n",
              "      <td>136</td>\n",
              "      <td>madonna</td>\n",
              "      <td>f</td>\n",
              "      <td>Brazil</td>\n",
              "    </tr>\n",
              "    <tr>\n",
              "      <th>9</th>\n",
              "      <td>138</td>\n",
              "      <td>the offspring</td>\n",
              "      <td>m</td>\n",
              "      <td>Sweden</td>\n",
              "    </tr>\n",
              "  </tbody>\n",
              "</table>\n",
              "</div>\n",
              "      <button class=\"colab-df-convert\" onclick=\"convertToInteractive('df-91f2ad73-807d-49ce-ad71-4ec4ad6b6a82')\"\n",
              "              title=\"Convert this dataframe to an interactive table.\"\n",
              "              style=\"display:none;\">\n",
              "        \n",
              "  <svg xmlns=\"http://www.w3.org/2000/svg\" height=\"24px\"viewBox=\"0 0 24 24\"\n",
              "       width=\"24px\">\n",
              "    <path d=\"M0 0h24v24H0V0z\" fill=\"none\"/>\n",
              "    <path d=\"M18.56 5.44l.94 2.06.94-2.06 2.06-.94-2.06-.94-.94-2.06-.94 2.06-2.06.94zm-11 1L8.5 8.5l.94-2.06 2.06-.94-2.06-.94L8.5 2.5l-.94 2.06-2.06.94zm10 10l.94 2.06.94-2.06 2.06-.94-2.06-.94-.94-2.06-.94 2.06-2.06.94z\"/><path d=\"M17.41 7.96l-1.37-1.37c-.4-.4-.92-.59-1.43-.59-.52 0-1.04.2-1.43.59L10.3 9.45l-7.72 7.72c-.78.78-.78 2.05 0 2.83L4 21.41c.39.39.9.59 1.41.59.51 0 1.02-.2 1.41-.59l7.78-7.78 2.81-2.81c.8-.78.8-2.07 0-2.86zM5.41 20L4 18.59l7.72-7.72 1.47 1.35L5.41 20z\"/>\n",
              "  </svg>\n",
              "      </button>\n",
              "      \n",
              "  <style>\n",
              "    .colab-df-container {\n",
              "      display:flex;\n",
              "      flex-wrap:wrap;\n",
              "      gap: 12px;\n",
              "    }\n",
              "\n",
              "    .colab-df-convert {\n",
              "      background-color: #E8F0FE;\n",
              "      border: none;\n",
              "      border-radius: 50%;\n",
              "      cursor: pointer;\n",
              "      display: none;\n",
              "      fill: #1967D2;\n",
              "      height: 32px;\n",
              "      padding: 0 0 0 0;\n",
              "      width: 32px;\n",
              "    }\n",
              "\n",
              "    .colab-df-convert:hover {\n",
              "      background-color: #E2EBFA;\n",
              "      box-shadow: 0px 1px 2px rgba(60, 64, 67, 0.3), 0px 1px 3px 1px rgba(60, 64, 67, 0.15);\n",
              "      fill: #174EA6;\n",
              "    }\n",
              "\n",
              "    [theme=dark] .colab-df-convert {\n",
              "      background-color: #3B4455;\n",
              "      fill: #D2E3FC;\n",
              "    }\n",
              "\n",
              "    [theme=dark] .colab-df-convert:hover {\n",
              "      background-color: #434B5C;\n",
              "      box-shadow: 0px 1px 3px 1px rgba(0, 0, 0, 0.15);\n",
              "      filter: drop-shadow(0px 1px 2px rgba(0, 0, 0, 0.3));\n",
              "      fill: #FFFFFF;\n",
              "    }\n",
              "  </style>\n",
              "\n",
              "      <script>\n",
              "        const buttonEl =\n",
              "          document.querySelector('#df-91f2ad73-807d-49ce-ad71-4ec4ad6b6a82 button.colab-df-convert');\n",
              "        buttonEl.style.display =\n",
              "          google.colab.kernel.accessAllowed ? 'block' : 'none';\n",
              "\n",
              "        async function convertToInteractive(key) {\n",
              "          const element = document.querySelector('#df-91f2ad73-807d-49ce-ad71-4ec4ad6b6a82');\n",
              "          const dataTable =\n",
              "            await google.colab.kernel.invokeFunction('convertToInteractive',\n",
              "                                                     [key], {});\n",
              "          if (!dataTable) return;\n",
              "\n",
              "          const docLinkHtml = 'Like what you see? Visit the ' +\n",
              "            '<a target=\"_blank\" href=https://colab.research.google.com/notebooks/data_table.ipynb>data table notebook</a>'\n",
              "            + ' to learn more about interactive tables.';\n",
              "          element.innerHTML = '';\n",
              "          dataTable['output_type'] = 'display_data';\n",
              "          await google.colab.output.renderOutput(dataTable, element);\n",
              "          const docLink = document.createElement('div');\n",
              "          docLink.innerHTML = docLinkHtml;\n",
              "          element.appendChild(docLink);\n",
              "        }\n",
              "      </script>\n",
              "    </div>\n",
              "  </div>\n",
              "  "
            ]
          },
          "metadata": {},
          "execution_count": 91
        }
      ]
    },
    {
      "cell_type": "code",
      "source": [
        "#Sex count using seaborn\n",
        "palette = sns.color_palette(\"pastel\")\n",
        "sns.countplot(x='sex',data=dataFrame, palette=\"pastel\")\n",
        "plt.title(\"Sex Count\")\n",
        "plt.savefig(\"Sex_count\")"
      ],
      "metadata": {
        "colab": {
          "base_uri": "https://localhost:8080/",
          "height": 301
        },
        "id": "hGnM2Nk0kLSd",
        "outputId": "d470a442-dd4f-462f-98a9-d3211b177114"
      },
      "execution_count": null,
      "outputs": [
        {
          "output_type": "display_data",
          "data": {
            "text/plain": [
              "<Figure size 432x288 with 1 Axes>"
            ],
            "image/png": "[encoded data removed]"
          },
          "metadata": {}
        }
      ]
    },
    {
      "cell_type": "code",
      "source": [
        "#Visualizing the top 50 user distribution count using displot in seaborn\n",
        "sns.displot(x='user',data=dataFrame.head(200), palette=\"bright\")\n",
        "plt.title(\"user Distribution\")\n",
        "plt.savefig(\"Sex_count\")"
      ],
      "metadata": {
        "colab": {
          "base_uri": "https://localhost:8080/",
          "height": 381
        },
        "id": "OBKpQ-zOrZwU",
        "outputId": "912117ea-855c-4350-acae-8c40e8a41fc9"
      },
      "execution_count": null,
      "outputs": [
        {
          "output_type": "display_data",
          "data": {
            "text/plain": [
              "<Figure size 360x360 with 1 Axes>"
            ],
            "image/png": "[encoded data removed]"
          },
          "metadata": {}
        }
      ]
    },
    {
      "cell_type": "code",
      "source": [
        "#Using the displot in seaborn to visually show the country distribution\n",
        "sns.displot(x='country',data=dataFrame.head(), hue=\"country\")\n",
        "plt.title(\"country Distribution\")\n",
        "plt.savefig(\"Country_distribution\")"
      ],
      "metadata": {
        "colab": {
          "base_uri": "https://localhost:8080/",
          "height": 381
        },
        "id": "dcFHSyPssk89",
        "outputId": "df5dab61-2cef-49ea-e18a-88c025005cc5"
      },
      "execution_count": null,
      "outputs": [
        {
          "output_type": "display_data",
          "data": {
            "text/plain": [
              "<Figure size 443.35x360 with 1 Axes>"
            ],
            "image/png": "[encoded data removed]"
          },
          "metadata": {}
        }
      ]
    },
    {
      "cell_type": "code",
      "source": [
        "#Getting the count of user by artist using barchart in plotly\n",
        "figure = px.bar(dataFrame.head(5), x=\"artist\",color=\"user\", title=\"Artist by User\")\n",
        "figure.show()"
      ],
      "metadata": {
        "colab": {
          "base_uri": "https://localhost:8080/",
          "height": 542
        },
        "id": "e7syAhXdYcll",
        "outputId": "1a185059-7b4e-4de5-a455-eb975c8c05e3"
      },
      "execution_count": null,
      "outputs": [
        {
          "output_type": "display_data",
          "data": {
            "text/html": [
              "<html>\n",
              "<head><meta charset=\"utf-8\" /></head>\n",
              "<body>\n",
              "    <div>            <script src=\"https://cdnjs.cloudflare.com/ajax/libs/mathjax/2.7.5/MathJax.js?config=TeX-AMS-MML_SVG\"></script><script type=\"text/javascript\">if (window.MathJax) {MathJax.Hub.Config({SVG: {font: \"STIX-Web\"}});}</script>                <script type=\"text/javascript\">window.PlotlyConfig = {MathJaxConfig: 'local'};</script>\n",
              "        <script src=\"https://cdn.plot.ly/plotly-2.8.3.min.js\"></script>                <div id=\"40ad1dfc-d7cd-4f44-8434-cb30321f2810\" class=\"plotly-graph-div\" style=\"height:525px; width:100%;\"></div>            <script type=\"text/javascript\">                                    window.PLOTLYENV=window.PLOTLYENV || {};                                    if (document.getElementById(\"40ad1dfc-d7cd-4f44-8434-cb30321f2810\")) {                    Plotly.newPlot(                        \"40ad1dfc-d7cd-4f44-8434-cb30321f2810\",                        [{\"alignmentgroup\":\"True\",\"hovertemplate\":\"artist=%{x}<br>count=%{y}<br>user=%{marker.color}<extra></extra>\",\"legendgroup\":\"\",\"marker\":{\"color\":[19,28,47,64,74],\"coloraxis\":\"coloraxis\",\"pattern\":{\"shape\":\"\"}},\"name\":\"\",\"offsetgroup\":\"\",\"orientation\":\"v\",\"showlegend\":false,\"textposition\":\"auto\",\"x\":[\"le tigre\",\"rage against the machine\",\"john coltrane\",\"trentem\\u00f8ller\",\"sirenia\"],\"xaxis\":\"x\",\"y\":[1,1,1,1,1],\"yaxis\":\"y\",\"type\":\"bar\"}],                        {\"template\":{\"data\":{\"bar\":[{\"error_x\":{\"color\":\"#2a3f5f\"},\"error_y\":{\"color\":\"#2a3f5f\"},\"marker\":{\"line\":{\"color\":\"#E5ECF6\",\"width\":0.5},\"pattern\":{\"fillmode\":\"overlay\",\"size\":10,\"solidity\":0.2}},\"type\":\"bar\"}],\"barpolar\":[{\"marker\":{\"line\":{\"color\":\"#E5ECF6\",\"width\":0.5},\"pattern\":{\"fillmode\":\"overlay\",\"size\":10,\"solidity\":0.2}},\"type\":\"barpolar\"}],\"carpet\":[{\"aaxis\":{\"endlinecolor\":\"#2a3f5f\",\"gridcolor\":\"white\",\"linecolor\":\"white\",\"minorgridcolor\":\"white\",\"startlinecolor\":\"#2a3f5f\"},\"baxis\":{\"endlinecolor\":\"#2a3f5f\",\"gridcolor\":\"white\",\"linecolor\":\"white\",\"minorgridcolor\":\"white\",\"startlinecolor\":\"#2a3f5f\"},\"type\":\"carpet\"}],\"choropleth\":[{\"colorbar\":{\"outlinewidth\":0,\"ticks\":\"\"},\"type\":\"choropleth\"}],\"contour\":[{\"colorbar\":{\"outlinewidth\":0,\"ticks\":\"\"},\"colorscale\":[[0.0,\"#0d0887\"],[0.1111111111111111,\"#46039f\"],[0.2222222222222222,\"#7201a8\"],[0.3333333333333333,\"#9c179e\"],[0.4444444444444444,\"#bd3786\"],[0.5555555555555556,\"#d8576b\"],[0.6666666666666666,\"#ed7953\"],[0.7777777777777778,\"#fb9f3a\"],[0.8888888888888888,\"#fdca26\"],[1.0,\"#f0f921\"]],\"type\":\"contour\"}],\"contourcarpet\":[{\"colorbar\":{\"outlinewidth\":0,\"ticks\":\"\"},\"type\":\"contourcarpet\"}],\"heatmap\":[{\"colorbar\":{\"outlinewidth\":0,\"ticks\":\"\"},\"colorscale\":[[0.0,\"#0d0887\"],[0.1111111111111111,\"#46039f\"],[0.2222222222222222,\"#7201a8\"],[0.3333333333333333,\"#9c179e\"],[0.4444444444444444,\"#bd3786\"],[0.5555555555555556,\"#d8576b\"],[0.6666666666666666,\"#ed7953\"],[0.7777777777777778,\"#fb9f3a\"],[0.8888888888888888,\"#fdca26\"],[1.0,\"#f0f921\"]],\"type\":\"heatmap\"}],\"heatmapgl\":[{\"colorbar\":{\"outlinewidth\":0,\"ticks\":\"\"},\"colorscale\":[[0.0,\"#0d0887\"],[0.1111111111111111,\"#46039f\"],[0.2222222222222222,\"#7201a8\"],[0.3333333333333333,\"#9c179e\"],[0.4444444444444444,\"#bd3786\"],[0.5555555555555556,\"#d8576b\"],[0.6666666666666666,\"#ed7953\"],[0.7777777777777778,\"#fb9f3a\"],[0.8888888888888888,\"#fdca26\"],[1.0,\"#f0f921\"]],\"type\":\"heatmapgl\"}],\"histogram\":[{\"marker\":{\"pattern\":{\"fillmode\":\"overlay\",\"size\":10,\"solidity\":0.2}},\"type\":\"histogram\"}],\"histogram2d\":[{\"colorbar\":{\"outlinewidth\":0,\"ticks\":\"\"},\"colorscale\":[[0.0,\"#0d0887\"],[0.1111111111111111,\"#46039f\"],[0.2222222222222222,\"#7201a8\"],[0.3333333333333333,\"#9c179e\"],[0.4444444444444444,\"#bd3786\"],[0.5555555555555556,\"#d8576b\"],[0.6666666666666666,\"#ed7953\"],[0.7777777777777778,\"#fb9f3a\"],[0.8888888888888888,\"#fdca26\"],[1.0,\"#f0f921\"]],\"type\":\"histogram2d\"}],\"histogram2dcontour\":[{\"colorbar\":{\"outlinewidth\":0,\"ticks\":\"\"},\"colorscale\":[[0.0,\"#0d0887\"],[0.1111111111111111,\"#46039f\"],[0.2222222222222222,\"#7201a8\"],[0.3333333333333333,\"#9c179e\"],[0.4444444444444444,\"#bd3786\"],[0.5555555555555556,\"#d8576b\"],[0.6666666666666666,\"#ed7953\"],[0.7777777777777778,\"#fb9f3a\"],[0.8888888888888888,\"#fdca26\"],[1.0,\"#f0f921\"]],\"type\":\"histogram2dcontour\"}],\"mesh3d\":[{\"colorbar\":{\"outlinewidth\":0,\"ticks\":\"\"},\"type\":\"mesh3d\"}],\"parcoords\":[{\"line\":{\"colorbar\":{\"outlinewidth\":0,\"ticks\":\"\"}},\"type\":\"parcoords\"}],\"pie\":[{\"automargin\":true,\"type\":\"pie\"}],\"scatter\":[{\"marker\":{\"colorbar\":{\"outlinewidth\":0,\"ticks\":\"\"}},\"type\":\"scatter\"}],\"scatter3d\":[{\"line\":{\"colorbar\":{\"outlinewidth\":0,\"ticks\":\"\"}},\"marker\":{\"colorbar\":{\"outlinewidth\":0,\"ticks\":\"\"}},\"type\":\"scatter3d\"}],\"scattercarpet\":[{\"marker\":{\"colorbar\":{\"outlinewidth\":0,\"ticks\":\"\"}},\"type\":\"scattercarpet\"}],\"scattergeo\":[{\"marker\":{\"colorbar\":{\"outlinewidth\":0,\"ticks\":\"\"}},\"type\":\"scattergeo\"}],\"scattergl\":[{\"marker\":{\"colorbar\":{\"outlinewidth\":0,\"ticks\":\"\"}},\"type\":\"scattergl\"}],\"scattermapbox\":[{\"marker\":{\"colorbar\":{\"outlinewidth\":0,\"ticks\":\"\"}},\"type\":\"scattermapbox\"}],\"scatterpolar\":[{\"marker\":{\"colorbar\":{\"outlinewidth\":0,\"ticks\":\"\"}},\"type\":\"scatterpolar\"}],\"scatterpolargl\":[{\"marker\":{\"colorbar\":{\"outlinewidth\":0,\"ticks\":\"\"}},\"type\":\"scatterpolargl\"}],\"scatterternary\":[{\"marker\":{\"colorbar\":{\"outlinewidth\":0,\"ticks\":\"\"}},\"type\":\"scatterternary\"}],\"surface\":[{\"colorbar\":{\"outlinewidth\":0,\"ticks\":\"\"},\"colorscale\":[[0.0,\"#0d0887\"],[0.1111111111111111,\"#46039f\"],[0.2222222222222222,\"#7201a8\"],[0.3333333333333333,\"#9c179e\"],[0.4444444444444444,\"#bd3786\"],[0.5555555555555556,\"#d8576b\"],[0.6666666666666666,\"#ed7953\"],[0.7777777777777778,\"#fb9f3a\"],[0.8888888888888888,\"#fdca26\"],[1.0,\"#f0f921\"]],\"type\":\"surface\"}],\"table\":[{\"cells\":{\"fill\":{\"color\":\"#EBF0F8\"},\"line\":{\"color\":\"white\"}},\"header\":{\"fill\":{\"color\":\"#C8D4E3\"},\"line\":{\"color\":\"white\"}},\"type\":\"table\"}]},\"layout\":{\"annotationdefaults\":{\"arrowcolor\":\"#2a3f5f\",\"arrowhead\":0,\"arrowwidth\":1},\"autotypenumbers\":\"strict\",\"coloraxis\":{\"colorbar\":{\"outlinewidth\":0,\"ticks\":\"\"}},\"colorscale\":{\"diverging\":[[0,\"#8e0152\"],[0.1,\"#c51b7d\"],[0.2,\"#de77ae\"],[0.3,\"#f1b6da\"],[0.4,\"#fde0ef\"],[0.5,\"#f7f7f7\"],[0.6,\"#e6f5d0\"],[0.7,\"#b8e186\"],[0.8,\"#7fbc41\"],[0.9,\"#4d9221\"],[1,\"#276419\"]],\"sequential\":[[0.0,\"#0d0887\"],[0.1111111111111111,\"#46039f\"],[0.2222222222222222,\"#7201a8\"],[0.3333333333333333,\"#9c179e\"],[0.4444444444444444,\"#bd3786\"],[0.5555555555555556,\"#d8576b\"],[0.6666666666666666,\"#ed7953\"],[0.7777777777777778,\"#fb9f3a\"],[0.8888888888888888,\"#fdca26\"],[1.0,\"#f0f921\"]],\"sequentialminus\":[[0.0,\"#0d0887\"],[0.1111111111111111,\"#46039f\"],[0.2222222222222222,\"#7201a8\"],[0.3333333333333333,\"#9c179e\"],[0.4444444444444444,\"#bd3786\"],[0.5555555555555556,\"#d8576b\"],[0.6666666666666666,\"#ed7953\"],[0.7777777777777778,\"#fb9f3a\"],[0.8888888888888888,\"#fdca26\"],[1.0,\"#f0f921\"]]},\"colorway\":[\"#636efa\",\"#EF553B\",\"#00cc96\",\"#ab63fa\",\"#FFA15A\",\"#19d3f3\",\"#FF6692\",\"#B6E880\",\"#FF97FF\",\"#FECB52\"],\"font\":{\"color\":\"#2a3f5f\"},\"geo\":{\"bgcolor\":\"white\",\"lakecolor\":\"white\",\"landcolor\":\"#E5ECF6\",\"showlakes\":true,\"showland\":true,\"subunitcolor\":\"white\"},\"hoverlabel\":{\"align\":\"left\"},\"hovermode\":\"closest\",\"mapbox\":{\"style\":\"light\"},\"paper_bgcolor\":\"white\",\"plot_bgcolor\":\"#E5ECF6\",\"polar\":{\"angularaxis\":{\"gridcolor\":\"white\",\"linecolor\":\"white\",\"ticks\":\"\"},\"bgcolor\":\"#E5ECF6\",\"radialaxis\":{\"gridcolor\":\"white\",\"linecolor\":\"white\",\"ticks\":\"\"}},\"scene\":{\"xaxis\":{\"backgroundcolor\":\"#E5ECF6\",\"gridcolor\":\"white\",\"gridwidth\":2,\"linecolor\":\"white\",\"showbackground\":true,\"ticks\":\"\",\"zerolinecolor\":\"white\"},\"yaxis\":{\"backgroundcolor\":\"#E5ECF6\",\"gridcolor\":\"white\",\"gridwidth\":2,\"linecolor\":\"white\",\"showbackground\":true,\"ticks\":\"\",\"zerolinecolor\":\"white\"},\"zaxis\":{\"backgroundcolor\":\"#E5ECF6\",\"gridcolor\":\"white\",\"gridwidth\":2,\"linecolor\":\"white\",\"showbackground\":true,\"ticks\":\"\",\"zerolinecolor\":\"white\"}},\"shapedefaults\":{\"line\":{\"color\":\"#2a3f5f\"}},\"ternary\":{\"aaxis\":{\"gridcolor\":\"white\",\"linecolor\":\"white\",\"ticks\":\"\"},\"baxis\":{\"gridcolor\":\"white\",\"linecolor\":\"white\",\"ticks\":\"\"},\"bgcolor\":\"#E5ECF6\",\"caxis\":{\"gridcolor\":\"white\",\"linecolor\":\"white\",\"ticks\":\"\"}},\"title\":{\"x\":0.05},\"xaxis\":{\"automargin\":true,\"gridcolor\":\"white\",\"linecolor\":\"white\",\"ticks\":\"\",\"title\":{\"standoff\":15},\"zerolinecolor\":\"white\",\"zerolinewidth\":2},\"yaxis\":{\"automargin\":true,\"gridcolor\":\"white\",\"linecolor\":\"white\",\"ticks\":\"\",\"title\":{\"standoff\":15},\"zerolinecolor\":\"white\",\"zerolinewidth\":2}}},\"xaxis\":{\"anchor\":\"y\",\"domain\":[0.0,1.0],\"title\":{\"text\":\"artist\"}},\"yaxis\":{\"anchor\":\"x\",\"domain\":[0.0,1.0],\"title\":{\"text\":\"count\"}},\"coloraxis\":{\"colorbar\":{\"title\":{\"text\":\"user\"}},\"colorscale\":[[0.0,\"#0d0887\"],[0.1111111111111111,\"#46039f\"],[0.2222222222222222,\"#7201a8\"],[0.3333333333333333,\"#9c179e\"],[0.4444444444444444,\"#bd3786\"],[0.5555555555555556,\"#d8576b\"],[0.6666666666666666,\"#ed7953\"],[0.7777777777777778,\"#fb9f3a\"],[0.8888888888888888,\"#fdca26\"],[1.0,\"#f0f921\"]]},\"legend\":{\"tracegroupgap\":0},\"title\":{\"text\":\"Artist by User\"},\"barmode\":\"relative\"},                        {\"responsive\": true}                    ).then(function(){\n",
              "                            \n",
              "var gd = document.getElementById('40ad1dfc-d7cd-4f44-8434-cb30321f2810');\n",
              "var x = new MutationObserver(function (mutations, observer) {{\n",
              "        var display = window.getComputedStyle(gd).display;\n",
              "        if (!display || display === 'none') {{\n",
              "            console.log([gd, 'removed!']);\n",
              "            Plotly.purge(gd);\n",
              "            observer.disconnect();\n",
              "        }}\n",
              "}});\n",
              "\n",
              "// Listen for the removal of the full notebook cells\n",
              "var notebookContainer = gd.closest('#notebook-container');\n",
              "if (notebookContainer) {{\n",
              "    x.observe(notebookContainer, {childList: true});\n",
              "}}\n",
              "\n",
              "// Listen for the clearing of the current output cell\n",
              "var outputEl = gd.closest('.output');\n",
              "if (outputEl) {{\n",
              "    x.observe(outputEl, {childList: true});\n",
              "}}\n",
              "\n",
              "                        })                };                            </script>        </div>\n",
              "</body>\n",
              "</html>"
            ]
          },
          "metadata": {}
        }
      ]
    },
    {
      "cell_type": "code",
      "source": [
        "#Visually displaying the country and count of user in the country\n",
        "figure = px.sunburst(dataFrame.head(20), path=['country'], values='user',\n",
        "                  color='artist', hover_data=['user'], title=\"Countries per User Count\")\n",
        "figure.show()"
      ],
      "metadata": {
        "colab": {
          "base_uri": "https://localhost:8080/",
          "height": 542
        },
        "id": "lYnTTgY1oP55",
        "outputId": "eb1d325e-fb13-40c1-ed4f-30cac5f41e19"
      },
      "execution_count": null,
      "outputs": [
        {
          "output_type": "display_data",
          "data": {
            "text/html": [
              "<html>\n",
              "<head><meta charset=\"utf-8\" /></head>\n",
              "<body>\n",
              "    <div>            <script src=\"https://cdnjs.cloudflare.com/ajax/libs/mathjax/2.7.5/MathJax.js?config=TeX-AMS-MML_SVG\"></script><script type=\"text/javascript\">if (window.MathJax) {MathJax.Hub.Config({SVG: {font: \"STIX-Web\"}});}</script>                <script type=\"text/javascript\">window.PlotlyConfig = {MathJaxConfig: 'local'};</script>\n",
              "        <script src=\"https://cdn.plot.ly/plotly-2.8.3.min.js\"></script>                <div id=\"1c2eb2c8-5a9e-4b2c-be5e-1d0ffa5a73c2\" class=\"plotly-graph-div\" style=\"height:525px; width:100%;\"></div>            <script type=\"text/javascript\">                                    window.PLOTLYENV=window.PLOTLYENV || {};                                    if (document.getElementById(\"1c2eb2c8-5a9e-4b2c-be5e-1d0ffa5a73c2\")) {                    Plotly.newPlot(                        \"1c2eb2c8-5a9e-4b2c-be5e-1d0ffa5a73c2\",                        [{\"branchvalues\":\"total\",\"customdata\":[[287,\"fall out boy\"],[74,\"sirenia\"],[512,\"(?)\"],[485,\"(?)\"],[173,\"iron maiden\"],[185,\"(?)\"],[260,\"(?)\"],[47,\"john coltrane\"],[1000,\"(?)\"],[202,\"sarah mclachlan\"]],\"domain\":{\"x\":[0.0,1.0],\"y\":[0.0,1.0]},\"hovertemplate\":\"labels=%{label}<br>user=%{customdata[0]}<br>parent=%{parent}<br>id=%{id}<br>artist=%{customdata[1]}<extra></extra>\",\"ids\":[\"Russian Federation\",\"Spain\",\"Germany\",\"Poland\",\"Australia\",\"Sweden\",\"Brazil\",\"Italy\",\"United States\",\"Ghana\"],\"labels\":[\"Russian Federation\",\"Spain\",\"Germany\",\"Poland\",\"Australia\",\"Sweden\",\"Brazil\",\"Italy\",\"United States\",\"Ghana\"],\"marker\":{\"colors\":[\"#636efa\",\"#EF553B\",\"#00cc96\",\"#00cc96\",\"#ab63fa\",\"#00cc96\",\"#00cc96\",\"#FFA15A\",\"#00cc96\",\"#19d3f3\"]},\"name\":\"\",\"parents\":[\"\",\"\",\"\",\"\",\"\",\"\",\"\",\"\",\"\",\"\"],\"values\":[287,74,512,485,173,185,260,47,1000,202],\"type\":\"sunburst\"}],                        {\"template\":{\"data\":{\"bar\":[{\"error_x\":{\"color\":\"#2a3f5f\"},\"error_y\":{\"color\":\"#2a3f5f\"},\"marker\":{\"line\":{\"color\":\"#E5ECF6\",\"width\":0.5},\"pattern\":{\"fillmode\":\"overlay\",\"size\":10,\"solidity\":0.2}},\"type\":\"bar\"}],\"barpolar\":[{\"marker\":{\"line\":{\"color\":\"#E5ECF6\",\"width\":0.5},\"pattern\":{\"fillmode\":\"overlay\",\"size\":10,\"solidity\":0.2}},\"type\":\"barpolar\"}],\"carpet\":[{\"aaxis\":{\"endlinecolor\":\"#2a3f5f\",\"gridcolor\":\"white\",\"linecolor\":\"white\",\"minorgridcolor\":\"white\",\"startlinecolor\":\"#2a3f5f\"},\"baxis\":{\"endlinecolor\":\"#2a3f5f\",\"gridcolor\":\"white\",\"linecolor\":\"white\",\"minorgridcolor\":\"white\",\"startlinecolor\":\"#2a3f5f\"},\"type\":\"carpet\"}],\"choropleth\":[{\"colorbar\":{\"outlinewidth\":0,\"ticks\":\"\"},\"type\":\"choropleth\"}],\"contour\":[{\"colorbar\":{\"outlinewidth\":0,\"ticks\":\"\"},\"colorscale\":[[0.0,\"#0d0887\"],[0.1111111111111111,\"#46039f\"],[0.2222222222222222,\"#7201a8\"],[0.3333333333333333,\"#9c179e\"],[0.4444444444444444,\"#bd3786\"],[0.5555555555555556,\"#d8576b\"],[0.6666666666666666,\"#ed7953\"],[0.7777777777777778,\"#fb9f3a\"],[0.8888888888888888,\"#fdca26\"],[1.0,\"#f0f921\"]],\"type\":\"contour\"}],\"contourcarpet\":[{\"colorbar\":{\"outlinewidth\":0,\"ticks\":\"\"},\"type\":\"contourcarpet\"}],\"heatmap\":[{\"colorbar\":{\"outlinewidth\":0,\"ticks\":\"\"},\"colorscale\":[[0.0,\"#0d0887\"],[0.1111111111111111,\"#46039f\"],[0.2222222222222222,\"#7201a8\"],[0.3333333333333333,\"#9c179e\"],[0.4444444444444444,\"#bd3786\"],[0.5555555555555556,\"#d8576b\"],[0.6666666666666666,\"#ed7953\"],[0.7777777777777778,\"#fb9f3a\"],[0.8888888888888888,\"#fdca26\"],[1.0,\"#f0f921\"]],\"type\":\"heatmap\"}],\"heatmapgl\":[{\"colorbar\":{\"outlinewidth\":0,\"ticks\":\"\"},\"colorscale\":[[0.0,\"#0d0887\"],[0.1111111111111111,\"#46039f\"],[0.2222222222222222,\"#7201a8\"],[0.3333333333333333,\"#9c179e\"],[0.4444444444444444,\"#bd3786\"],[0.5555555555555556,\"#d8576b\"],[0.6666666666666666,\"#ed7953\"],[0.7777777777777778,\"#fb9f3a\"],[0.8888888888888888,\"#fdca26\"],[1.0,\"#f0f921\"]],\"type\":\"heatmapgl\"}],\"histogram\":[{\"marker\":{\"pattern\":{\"fillmode\":\"overlay\",\"size\":10,\"solidity\":0.2}},\"type\":\"histogram\"}],\"histogram2d\":[{\"colorbar\":{\"outlinewidth\":0,\"ticks\":\"\"},\"colorscale\":[[0.0,\"#0d0887\"],[0.1111111111111111,\"#46039f\"],[0.2222222222222222,\"#7201a8\"],[0.3333333333333333,\"#9c179e\"],[0.4444444444444444,\"#bd3786\"],[0.5555555555555556,\"#d8576b\"],[0.6666666666666666,\"#ed7953\"],[0.7777777777777778,\"#fb9f3a\"],[0.8888888888888888,\"#fdca26\"],[1.0,\"#f0f921\"]],\"type\":\"histogram2d\"}],\"histogram2dcontour\":[{\"colorbar\":{\"outlinewidth\":0,\"ticks\":\"\"},\"colorscale\":[[0.0,\"#0d0887\"],[0.1111111111111111,\"#46039f\"],[0.2222222222222222,\"#7201a8\"],[0.3333333333333333,\"#9c179e\"],[0.4444444444444444,\"#bd3786\"],[0.5555555555555556,\"#d8576b\"],[0.6666666666666666,\"#ed7953\"],[0.7777777777777778,\"#fb9f3a\"],[0.8888888888888888,\"#fdca26\"],[1.0,\"#f0f921\"]],\"type\":\"histogram2dcontour\"}],\"mesh3d\":[{\"colorbar\":{\"outlinewidth\":0,\"ticks\":\"\"},\"type\":\"mesh3d\"}],\"parcoords\":[{\"line\":{\"colorbar\":{\"outlinewidth\":0,\"ticks\":\"\"}},\"type\":\"parcoords\"}],\"pie\":[{\"automargin\":true,\"type\":\"pie\"}],\"scatter\":[{\"marker\":{\"colorbar\":{\"outlinewidth\":0,\"ticks\":\"\"}},\"type\":\"scatter\"}],\"scatter3d\":[{\"line\":{\"colorbar\":{\"outlinewidth\":0,\"ticks\":\"\"}},\"marker\":{\"colorbar\":{\"outlinewidth\":0,\"ticks\":\"\"}},\"type\":\"scatter3d\"}],\"scattercarpet\":[{\"marker\":{\"colorbar\":{\"outlinewidth\":0,\"ticks\":\"\"}},\"type\":\"scattercarpet\"}],\"scattergeo\":[{\"marker\":{\"colorbar\":{\"outlinewidth\":0,\"ticks\":\"\"}},\"type\":\"scattergeo\"}],\"scattergl\":[{\"marker\":{\"colorbar\":{\"outlinewidth\":0,\"ticks\":\"\"}},\"type\":\"scattergl\"}],\"scattermapbox\":[{\"marker\":{\"colorbar\":{\"outlinewidth\":0,\"ticks\":\"\"}},\"type\":\"scattermapbox\"}],\"scatterpolar\":[{\"marker\":{\"colorbar\":{\"outlinewidth\":0,\"ticks\":\"\"}},\"type\":\"scatterpolar\"}],\"scatterpolargl\":[{\"marker\":{\"colorbar\":{\"outlinewidth\":0,\"ticks\":\"\"}},\"type\":\"scatterpolargl\"}],\"scatterternary\":[{\"marker\":{\"colorbar\":{\"outlinewidth\":0,\"ticks\":\"\"}},\"type\":\"scatterternary\"}],\"surface\":[{\"colorbar\":{\"outlinewidth\":0,\"ticks\":\"\"},\"colorscale\":[[0.0,\"#0d0887\"],[0.1111111111111111,\"#46039f\"],[0.2222222222222222,\"#7201a8\"],[0.3333333333333333,\"#9c179e\"],[0.4444444444444444,\"#bd3786\"],[0.5555555555555556,\"#d8576b\"],[0.6666666666666666,\"#ed7953\"],[0.7777777777777778,\"#fb9f3a\"],[0.8888888888888888,\"#fdca26\"],[1.0,\"#f0f921\"]],\"type\":\"surface\"}],\"table\":[{\"cells\":{\"fill\":{\"color\":\"#EBF0F8\"},\"line\":{\"color\":\"white\"}},\"header\":{\"fill\":{\"color\":\"#C8D4E3\"},\"line\":{\"color\":\"white\"}},\"type\":\"table\"}]},\"layout\":{\"annotationdefaults\":{\"arrowcolor\":\"#2a3f5f\",\"arrowhead\":0,\"arrowwidth\":1},\"autotypenumbers\":\"strict\",\"coloraxis\":{\"colorbar\":{\"outlinewidth\":0,\"ticks\":\"\"}},\"colorscale\":{\"diverging\":[[0,\"#8e0152\"],[0.1,\"#c51b7d\"],[0.2,\"#de77ae\"],[0.3,\"#f1b6da\"],[0.4,\"#fde0ef\"],[0.5,\"#f7f7f7\"],[0.6,\"#e6f5d0\"],[0.7,\"#b8e186\"],[0.8,\"#7fbc41\"],[0.9,\"#4d9221\"],[1,\"#276419\"]],\"sequential\":[[0.0,\"#0d0887\"],[0.1111111111111111,\"#46039f\"],[0.2222222222222222,\"#7201a8\"],[0.3333333333333333,\"#9c179e\"],[0.4444444444444444,\"#bd3786\"],[0.5555555555555556,\"#d8576b\"],[0.6666666666666666,\"#ed7953\"],[0.7777777777777778,\"#fb9f3a\"],[0.8888888888888888,\"#fdca26\"],[1.0,\"#f0f921\"]],\"sequentialminus\":[[0.0,\"#0d0887\"],[0.1111111111111111,\"#46039f\"],[0.2222222222222222,\"#7201a8\"],[0.3333333333333333,\"#9c179e\"],[0.4444444444444444,\"#bd3786\"],[0.5555555555555556,\"#d8576b\"],[0.6666666666666666,\"#ed7953\"],[0.7777777777777778,\"#fb9f3a\"],[0.8888888888888888,\"#fdca26\"],[1.0,\"#f0f921\"]]},\"colorway\":[\"#636efa\",\"#EF553B\",\"#00cc96\",\"#ab63fa\",\"#FFA15A\",\"#19d3f3\",\"#FF6692\",\"#B6E880\",\"#FF97FF\",\"#FECB52\"],\"font\":{\"color\":\"#2a3f5f\"},\"geo\":{\"bgcolor\":\"white\",\"lakecolor\":\"white\",\"landcolor\":\"#E5ECF6\",\"showlakes\":true,\"showland\":true,\"subunitcolor\":\"white\"},\"hoverlabel\":{\"align\":\"left\"},\"hovermode\":\"closest\",\"mapbox\":{\"style\":\"light\"},\"paper_bgcolor\":\"white\",\"plot_bgcolor\":\"#E5ECF6\",\"polar\":{\"angularaxis\":{\"gridcolor\":\"white\",\"linecolor\":\"white\",\"ticks\":\"\"},\"bgcolor\":\"#E5ECF6\",\"radialaxis\":{\"gridcolor\":\"white\",\"linecolor\":\"white\",\"ticks\":\"\"}},\"scene\":{\"xaxis\":{\"backgroundcolor\":\"#E5ECF6\",\"gridcolor\":\"white\",\"gridwidth\":2,\"linecolor\":\"white\",\"showbackground\":true,\"ticks\":\"\",\"zerolinecolor\":\"white\"},\"yaxis\":{\"backgroundcolor\":\"#E5ECF6\",\"gridcolor\":\"white\",\"gridwidth\":2,\"linecolor\":\"white\",\"showbackground\":true,\"ticks\":\"\",\"zerolinecolor\":\"white\"},\"zaxis\":{\"backgroundcolor\":\"#E5ECF6\",\"gridcolor\":\"white\",\"gridwidth\":2,\"linecolor\":\"white\",\"showbackground\":true,\"ticks\":\"\",\"zerolinecolor\":\"white\"}},\"shapedefaults\":{\"line\":{\"color\":\"#2a3f5f\"}},\"ternary\":{\"aaxis\":{\"gridcolor\":\"white\",\"linecolor\":\"white\",\"ticks\":\"\"},\"baxis\":{\"gridcolor\":\"white\",\"linecolor\":\"white\",\"ticks\":\"\"},\"bgcolor\":\"#E5ECF6\",\"caxis\":{\"gridcolor\":\"white\",\"linecolor\":\"white\",\"ticks\":\"\"}},\"title\":{\"x\":0.05},\"xaxis\":{\"automargin\":true,\"gridcolor\":\"white\",\"linecolor\":\"white\",\"ticks\":\"\",\"title\":{\"standoff\":15},\"zerolinecolor\":\"white\",\"zerolinewidth\":2},\"yaxis\":{\"automargin\":true,\"gridcolor\":\"white\",\"linecolor\":\"white\",\"ticks\":\"\",\"title\":{\"standoff\":15},\"zerolinecolor\":\"white\",\"zerolinewidth\":2}}},\"legend\":{\"tracegroupgap\":0},\"title\":{\"text\":\"Countries per User Count\"}},                        {\"responsive\": true}                    ).then(function(){\n",
              "                            \n",
              "var gd = document.getElementById('1c2eb2c8-5a9e-4b2c-be5e-1d0ffa5a73c2');\n",
              "var x = new MutationObserver(function (mutations, observer) {{\n",
              "        var display = window.getComputedStyle(gd).display;\n",
              "        if (!display || display === 'none') {{\n",
              "            console.log([gd, 'removed!']);\n",
              "            Plotly.purge(gd);\n",
              "            observer.disconnect();\n",
              "        }}\n",
              "}});\n",
              "\n",
              "// Listen for the removal of the full notebook cells\n",
              "var notebookContainer = gd.closest('#notebook-container');\n",
              "if (notebookContainer) {{\n",
              "    x.observe(notebookContainer, {childList: true});\n",
              "}}\n",
              "\n",
              "// Listen for the clearing of the current output cell\n",
              "var outputEl = gd.closest('.output');\n",
              "if (outputEl) {{\n",
              "    x.observe(outputEl, {childList: true});\n",
              "}}\n",
              "\n",
              "                        })                };                            </script>        </div>\n",
              "</body>\n",
              "</html>"
            ]
          },
          "metadata": {}
        }
      ]
    },
    {
      "cell_type": "code",
      "source": [
        "Average_user = spark_lastfm.groupBy('country', 'sex').avg('user').sort('country').toPandas()"
      ],
      "metadata": {
        "id": "2t2VfZZ9dmnx"
      },
      "execution_count": null,
      "outputs": []
    },
    {
      "cell_type": "code",
      "source": [
        "Average_user.head(10)"
      ],
      "metadata": {
        "colab": {
          "base_uri": "https://localhost:8080/",
          "height": 363
        },
        "id": "wxnCWAkpdmkZ",
        "outputId": "961abb38-d06b-4b75-a744-f8c171cd3ef9"
      },
      "execution_count": null,
      "outputs": [
        {
          "output_type": "execute_result",
          "data": {
            "text/plain": [
              "          country sex     avg(user)\n",
              "0     Afghanistan   m   2131.000000\n",
              "1     Afghanistan   f   8944.000000\n",
              "2         Albania   f   6767.000000\n",
              "3         Albania   m  18710.441860\n",
              "4         Algeria   m   1452.000000\n",
              "5         Algeria   f  11928.000000\n",
              "6  American Samoa   m   6434.000000\n",
              "7         Andorra   m  14560.272727\n",
              "8          Angola   m   3239.000000\n",
              "9      Antarctica   m   9500.830601"
            ],
            "text/html": [
              "\n",
              "  <div id=\"df-4ab5d558-d0b3-4f14-9415-c036c54a054a\">\n",
              "    <div class=\"colab-df-container\">\n",
              "      <div>\n",
              "<style scoped>\n",
              "    .dataframe tbody tr th:only-of-type {\n",
              "        vertical-align: middle;\n",
              "    }\n",
              "\n",
              "    .dataframe tbody tr th {\n",
              "        vertical-align: top;\n",
              "    }\n",
              "\n",
              "    .dataframe thead th {\n",
              "        text-align: right;\n",
              "    }\n",
              "</style>\n",
              "<table border=\"1\" class=\"dataframe\">\n",
              "  <thead>\n",
              "    <tr style=\"text-align: right;\">\n",
              "      <th></th>\n",
              "      <th>country</th>\n",
              "      <th>sex</th>\n",
              "      <th>avg(user)</th>\n",
              "    </tr>\n",
              "  </thead>\n",
              "  <tbody>\n",
              "    <tr>\n",
              "      <th>0</th>\n",
              "      <td>Afghanistan</td>\n",
              "      <td>m</td>\n",
              "      <td>2131.000000</td>\n",
              "    </tr>\n",
              "    <tr>\n",
              "      <th>1</th>\n",
              "      <td>Afghanistan</td>\n",
              "      <td>f</td>\n",
              "      <td>8944.000000</td>\n",
              "    </tr>\n",
              "    <tr>\n",
              "      <th>2</th>\n",
              "      <td>Albania</td>\n",
              "      <td>f</td>\n",
              "      <td>6767.000000</td>\n",
              "    </tr>\n",
              "    <tr>\n",
              "      <th>3</th>\n",
              "      <td>Albania</td>\n",
              "      <td>m</td>\n",
              "      <td>18710.441860</td>\n",
              "    </tr>\n",
              "    <tr>\n",
              "      <th>4</th>\n",
              "      <td>Algeria</td>\n",
              "      <td>m</td>\n",
              "      <td>1452.000000</td>\n",
              "    </tr>\n",
              "    <tr>\n",
              "      <th>5</th>\n",
              "      <td>Algeria</td>\n",
              "      <td>f</td>\n",
              "      <td>11928.000000</td>\n",
              "    </tr>\n",
              "    <tr>\n",
              "      <th>6</th>\n",
              "      <td>American Samoa</td>\n",
              "      <td>m</td>\n",
              "      <td>6434.000000</td>\n",
              "    </tr>\n",
              "    <tr>\n",
              "      <th>7</th>\n",
              "      <td>Andorra</td>\n",
              "      <td>m</td>\n",
              "      <td>14560.272727</td>\n",
              "    </tr>\n",
              "    <tr>\n",
              "      <th>8</th>\n",
              "      <td>Angola</td>\n",
              "      <td>m</td>\n",
              "      <td>3239.000000</td>\n",
              "    </tr>\n",
              "    <tr>\n",
              "      <th>9</th>\n",
              "      <td>Antarctica</td>\n",
              "      <td>m</td>\n",
              "      <td>9500.830601</td>\n",
              "    </tr>\n",
              "  </tbody>\n",
              "</table>\n",
              "</div>\n",
              "      <button class=\"colab-df-convert\" onclick=\"convertToInteractive('df-4ab5d558-d0b3-4f14-9415-c036c54a054a')\"\n",
              "              title=\"Convert this dataframe to an interactive table.\"\n",
              "              style=\"display:none;\">\n",
              "        \n",
              "  <svg xmlns=\"http://www.w3.org/2000/svg\" height=\"24px\"viewBox=\"0 0 24 24\"\n",
              "       width=\"24px\">\n",
              "    <path d=\"M0 0h24v24H0V0z\" fill=\"none\"/>\n",
              "    <path d=\"M18.56 5.44l.94 2.06.94-2.06 2.06-.94-2.06-.94-.94-2.06-.94 2.06-2.06.94zm-11 1L8.5 8.5l.94-2.06 2.06-.94-2.06-.94L8.5 2.5l-.94 2.06-2.06.94zm10 10l.94 2.06.94-2.06 2.06-.94-2.06-.94-.94-2.06-.94 2.06-2.06.94z\"/><path d=\"M17.41 7.96l-1.37-1.37c-.4-.4-.92-.59-1.43-.59-.52 0-1.04.2-1.43.59L10.3 9.45l-7.72 7.72c-.78.78-.78 2.05 0 2.83L4 21.41c.39.39.9.59 1.41.59.51 0 1.02-.2 1.41-.59l7.78-7.78 2.81-2.81c.8-.78.8-2.07 0-2.86zM5.41 20L4 18.59l7.72-7.72 1.47 1.35L5.41 20z\"/>\n",
              "  </svg>\n",
              "      </button>\n",
              "      \n",
              "  <style>\n",
              "    .colab-df-container {\n",
              "      display:flex;\n",
              "      flex-wrap:wrap;\n",
              "      gap: 12px;\n",
              "    }\n",
              "\n",
              "    .colab-df-convert {\n",
              "      background-color: #E8F0FE;\n",
              "      border: none;\n",
              "      border-radius: 50%;\n",
              "      cursor: pointer;\n",
              "      display: none;\n",
              "      fill: #1967D2;\n",
              "      height: 32px;\n",
              "      padding: 0 0 0 0;\n",
              "      width: 32px;\n",
              "    }\n",
              "\n",
              "    .colab-df-convert:hover {\n",
              "      background-color: #E2EBFA;\n",
              "      box-shadow: 0px 1px 2px rgba(60, 64, 67, 0.3), 0px 1px 3px 1px rgba(60, 64, 67, 0.15);\n",
              "      fill: #174EA6;\n",
              "    }\n",
              "\n",
              "    [theme=dark] .colab-df-convert {\n",
              "      background-color: #3B4455;\n",
              "      fill: #D2E3FC;\n",
              "    }\n",
              "\n",
              "    [theme=dark] .colab-df-convert:hover {\n",
              "      background-color: #434B5C;\n",
              "      box-shadow: 0px 1px 3px 1px rgba(0, 0, 0, 0.15);\n",
              "      filter: drop-shadow(0px 1px 2px rgba(0, 0, 0, 0.3));\n",
              "      fill: #FFFFFF;\n",
              "    }\n",
              "  </style>\n",
              "\n",
              "      <script>\n",
              "        const buttonEl =\n",
              "          document.querySelector('#df-4ab5d558-d0b3-4f14-9415-c036c54a054a button.colab-df-convert');\n",
              "        buttonEl.style.display =\n",
              "          google.colab.kernel.accessAllowed ? 'block' : 'none';\n",
              "\n",
              "        async function convertToInteractive(key) {\n",
              "          const element = document.querySelector('#df-4ab5d558-d0b3-4f14-9415-c036c54a054a');\n",
              "          const dataTable =\n",
              "            await google.colab.kernel.invokeFunction('convertToInteractive',\n",
              "                                                     [key], {});\n",
              "          if (!dataTable) return;\n",
              "\n",
              "          const docLinkHtml = 'Like what you see? Visit the ' +\n",
              "            '<a target=\"_blank\" href=https://colab.research.google.com/notebooks/data_table.ipynb>data table notebook</a>'\n",
              "            + ' to learn more about interactive tables.';\n",
              "          element.innerHTML = '';\n",
              "          dataTable['output_type'] = 'display_data';\n",
              "          await google.colab.output.renderOutput(dataTable, element);\n",
              "          const docLink = document.createElement('div');\n",
              "          docLink.innerHTML = docLinkHtml;\n",
              "          element.appendChild(docLink);\n",
              "        }\n",
              "      </script>\n",
              "    </div>\n",
              "  </div>\n",
              "  "
            ]
          },
          "metadata": {},
          "execution_count": 31
        }
      ]
    },
    {
      "cell_type": "code",
      "source": [
        "#Average User by Country and Sex\n",
        "figure = px.bar(Average_user.head(40), x=[\"country\", \"sex\"], y=\"avg(user)\", color=\"country\",\n",
        "                title=\"Average User by Country & Sex\",\n",
        "                hover_data=[\"avg(user)\"])\n",
        "figure.show()"
      ],
      "metadata": {
        "colab": {
          "base_uri": "https://localhost:8080/",
          "height": 542
        },
        "id": "wEeJALS2dmc4",
        "outputId": "2f4e629e-48d0-49bf-8f61-74cec54253c6"
      },
      "execution_count": null,
      "outputs": [
        {
          "output_type": "display_data",
          "data": {
            "text/html": [
              "<html>\n",
              "<head><meta charset=\"utf-8\" /></head>\n",
              "<body>\n",
              "    <div>            <script src=\"https://cdnjs.cloudflare.com/ajax/libs/mathjax/2.7.5/MathJax.js?config=TeX-AMS-MML_SVG\"></script><script type=\"text/javascript\">if (window.MathJax) {MathJax.Hub.Config({SVG: {font: \"STIX-Web\"}});}</script>                <script type=\"text/javascript\">window.PlotlyConfig = {MathJaxConfig: 'local'};</script>\n",
              "        <script src=\"https://cdn.plot.ly/plotly-2.8.3.min.js\"></script>                <div id=\"c5609498-3536-4312-94f0-4e60ee8de383\" class=\"plotly-graph-div\" style=\"height:525px; width:100%;\"></div>            <script type=\"text/javascript\">                                    window.PLOTLYENV=window.PLOTLYENV || {};                                    if (document.getElementById(\"c5609498-3536-4312-94f0-4e60ee8de383\")) {                    Plotly.newPlot(                        \"c5609498-3536-4312-94f0-4e60ee8de383\",                        [{\"alignmentgroup\":\"True\",\"customdata\":[[2131.0],[8944.0]],\"hovertemplate\":\"country=Afghanistan<br>count=%{x}<br>value=%{y}<br>avg(user)=%{customdata[0]}<extra></extra>\",\"legendgroup\":\"Afghanistan\",\"marker\":{\"color\":\"#636efa\",\"pattern\":{\"shape\":\"\"}},\"name\":\"Afghanistan\",\"offsetgroup\":\"Afghanistan\",\"orientation\":\"h\",\"showlegend\":true,\"textposition\":\"auto\",\"x\":[1,1],\"xaxis\":\"x\",\"y\":[\"m\",\"f\"],\"yaxis\":\"y\",\"type\":\"bar\"},{\"alignmentgroup\":\"True\",\"customdata\":[[6767.0],[18710.441860465115]],\"hovertemplate\":\"country=Albania<br>count=%{x}<br>value=%{y}<br>avg(user)=%{customdata[0]}<extra></extra>\",\"legendgroup\":\"Albania\",\"marker\":{\"color\":\"#EF553B\",\"pattern\":{\"shape\":\"\"}},\"name\":\"Albania\",\"offsetgroup\":\"Albania\",\"orientation\":\"h\",\"showlegend\":true,\"textposition\":\"auto\",\"x\":[1,1],\"xaxis\":\"x\",\"y\":[\"f\",\"m\"],\"yaxis\":\"y\",\"type\":\"bar\"},{\"alignmentgroup\":\"True\",\"customdata\":[[1452.0],[11928.0]],\"hovertemplate\":\"country=Algeria<br>count=%{x}<br>value=%{y}<br>avg(user)=%{customdata[0]}<extra></extra>\",\"legendgroup\":\"Algeria\",\"marker\":{\"color\":\"#00cc96\",\"pattern\":{\"shape\":\"\"}},\"name\":\"Algeria\",\"offsetgroup\":\"Algeria\",\"orientation\":\"h\",\"showlegend\":true,\"textposition\":\"auto\",\"x\":[1,1],\"xaxis\":\"x\",\"y\":[\"m\",\"f\"],\"yaxis\":\"y\",\"type\":\"bar\"},{\"alignmentgroup\":\"True\",\"customdata\":[[6434.0]],\"hovertemplate\":\"country=American Samoa<br>count=%{x}<br>value=%{y}<br>avg(user)=%{customdata[0]}<extra></extra>\",\"legendgroup\":\"American Samoa\",\"marker\":{\"color\":\"#ab63fa\",\"pattern\":{\"shape\":\"\"}},\"name\":\"American Samoa\",\"offsetgroup\":\"American Samoa\",\"orientation\":\"h\",\"showlegend\":true,\"textposition\":\"auto\",\"x\":[1],\"xaxis\":\"x\",\"y\":[\"m\"],\"yaxis\":\"y\",\"type\":\"bar\"},{\"alignmentgroup\":\"True\",\"customdata\":[[14560.272727272728]],\"hovertemplate\":\"country=Andorra<br>count=%{x}<br>value=%{y}<br>avg(user)=%{customdata[0]}<extra></extra>\",\"legendgroup\":\"Andorra\",\"marker\":{\"color\":\"#FFA15A\",\"pattern\":{\"shape\":\"\"}},\"name\":\"Andorra\",\"offsetgroup\":\"Andorra\",\"orientation\":\"h\",\"showlegend\":true,\"textposition\":\"auto\",\"x\":[1],\"xaxis\":\"x\",\"y\":[\"m\"],\"yaxis\":\"y\",\"type\":\"bar\"},{\"alignmentgroup\":\"True\",\"customdata\":[[3239.0]],\"hovertemplate\":\"country=Angola<br>count=%{x}<br>value=%{y}<br>avg(user)=%{customdata[0]}<extra></extra>\",\"legendgroup\":\"Angola\",\"marker\":{\"color\":\"#19d3f3\",\"pattern\":{\"shape\":\"\"}},\"name\":\"Angola\",\"offsetgroup\":\"Angola\",\"orientation\":\"h\",\"showlegend\":true,\"textposition\":\"auto\",\"x\":[1],\"xaxis\":\"x\",\"y\":[\"m\"],\"yaxis\":\"y\",\"type\":\"bar\"},{\"alignmentgroup\":\"True\",\"customdata\":[[9500.830601092895],[13713.58208955224]],\"hovertemplate\":\"country=Antarctica<br>count=%{x}<br>value=%{y}<br>avg(user)=%{customdata[0]}<extra></extra>\",\"legendgroup\":\"Antarctica\",\"marker\":{\"color\":\"#FF6692\",\"pattern\":{\"shape\":\"\"}},\"name\":\"Antarctica\",\"offsetgroup\":\"Antarctica\",\"orientation\":\"h\",\"showlegend\":true,\"textposition\":\"auto\",\"x\":[1,1],\"xaxis\":\"x\",\"y\":[\"m\",\"f\"],\"yaxis\":\"y\",\"type\":\"bar\"},{\"alignmentgroup\":\"True\",\"customdata\":[[1896.0]],\"hovertemplate\":\"country=Antigua and Barbuda<br>count=%{x}<br>value=%{y}<br>avg(user)=%{customdata[0]}<extra></extra>\",\"legendgroup\":\"Antigua and Barbuda\",\"marker\":{\"color\":\"#B6E880\",\"pattern\":{\"shape\":\"\"}},\"name\":\"Antigua and Barbuda\",\"offsetgroup\":\"Antigua and Barbuda\",\"orientation\":\"h\",\"showlegend\":true,\"textposition\":\"auto\",\"x\":[1],\"xaxis\":\"x\",\"y\":[\"f\"],\"yaxis\":\"y\",\"type\":\"bar\"},{\"alignmentgroup\":\"True\",\"customdata\":[[10057.691211401425],[9266.163375224416]],\"hovertemplate\":\"country=Argentina<br>count=%{x}<br>value=%{y}<br>avg(user)=%{customdata[0]}<extra></extra>\",\"legendgroup\":\"Argentina\",\"marker\":{\"color\":\"#FF97FF\",\"pattern\":{\"shape\":\"\"}},\"name\":\"Argentina\",\"offsetgroup\":\"Argentina\",\"orientation\":\"h\",\"showlegend\":true,\"textposition\":\"auto\",\"x\":[1,1],\"xaxis\":\"x\",\"y\":[\"f\",\"m\"],\"yaxis\":\"y\",\"type\":\"bar\"},{\"alignmentgroup\":\"True\",\"customdata\":[[13203.0]],\"hovertemplate\":\"country=Armenia<br>count=%{x}<br>value=%{y}<br>avg(user)=%{customdata[0]}<extra></extra>\",\"legendgroup\":\"Armenia\",\"marker\":{\"color\":\"#FECB52\",\"pattern\":{\"shape\":\"\"}},\"name\":\"Armenia\",\"offsetgroup\":\"Armenia\",\"orientation\":\"h\",\"showlegend\":true,\"textposition\":\"auto\",\"x\":[1],\"xaxis\":\"x\",\"y\":[\"m\"],\"yaxis\":\"y\",\"type\":\"bar\"},{\"alignmentgroup\":\"True\",\"customdata\":[[11384.287167070217],[10082.68401658222]],\"hovertemplate\":\"country=Australia<br>count=%{x}<br>value=%{y}<br>avg(user)=%{customdata[0]}<extra></extra>\",\"legendgroup\":\"Australia\",\"marker\":{\"color\":\"#636efa\",\"pattern\":{\"shape\":\"\"}},\"name\":\"Australia\",\"offsetgroup\":\"Australia\",\"orientation\":\"h\",\"showlegend\":true,\"textposition\":\"auto\",\"x\":[1,1],\"xaxis\":\"x\",\"y\":[\"f\",\"m\"],\"yaxis\":\"y\",\"type\":\"bar\"},{\"alignmentgroup\":\"True\",\"customdata\":[[9196.353153153153],[10068.309977827052]],\"hovertemplate\":\"country=Austria<br>count=%{x}<br>value=%{y}<br>avg(user)=%{customdata[0]}<extra></extra>\",\"legendgroup\":\"Austria\",\"marker\":{\"color\":\"#EF553B\",\"pattern\":{\"shape\":\"\"}},\"name\":\"Austria\",\"offsetgroup\":\"Austria\",\"orientation\":\"h\",\"showlegend\":true,\"textposition\":\"auto\",\"x\":[1,1],\"xaxis\":\"x\",\"y\":[\"f\",\"m\"],\"yaxis\":\"y\",\"type\":\"bar\"},{\"alignmentgroup\":\"True\",\"customdata\":[[14685.989247311827],[10342.58064516129]],\"hovertemplate\":\"country=Bangladesh<br>count=%{x}<br>value=%{y}<br>avg(user)=%{customdata[0]}<extra></extra>\",\"legendgroup\":\"Bangladesh\",\"marker\":{\"color\":\"#00cc96\",\"pattern\":{\"shape\":\"\"}},\"name\":\"Bangladesh\",\"offsetgroup\":\"Bangladesh\",\"orientation\":\"h\",\"showlegend\":true,\"textposition\":\"auto\",\"x\":[1,1],\"xaxis\":\"x\",\"y\":[\"m\",\"f\"],\"yaxis\":\"y\",\"type\":\"bar\"},{\"alignmentgroup\":\"True\",\"customdata\":[[9384.0]],\"hovertemplate\":\"country=Barbados<br>count=%{x}<br>value=%{y}<br>avg(user)=%{customdata[0]}<extra></extra>\",\"legendgroup\":\"Barbados\",\"marker\":{\"color\":\"#ab63fa\",\"pattern\":{\"shape\":\"\"}},\"name\":\"Barbados\",\"offsetgroup\":\"Barbados\",\"orientation\":\"h\",\"showlegend\":true,\"textposition\":\"auto\",\"x\":[1],\"xaxis\":\"x\",\"y\":[\"m\"],\"yaxis\":\"y\",\"type\":\"bar\"},{\"alignmentgroup\":\"True\",\"customdata\":[[13080.037037037036],[8946.397759103642]],\"hovertemplate\":\"country=Belarus<br>count=%{x}<br>value=%{y}<br>avg(user)=%{customdata[0]}<extra></extra>\",\"legendgroup\":\"Belarus\",\"marker\":{\"color\":\"#FFA15A\",\"pattern\":{\"shape\":\"\"}},\"name\":\"Belarus\",\"offsetgroup\":\"Belarus\",\"orientation\":\"h\",\"showlegend\":true,\"textposition\":\"auto\",\"x\":[1,1],\"xaxis\":\"x\",\"y\":[\"f\",\"m\"],\"yaxis\":\"y\",\"type\":\"bar\"},{\"alignmentgroup\":\"True\",\"customdata\":[[9007.415119363395],[9949.208381839348]],\"hovertemplate\":\"country=Belgium<br>count=%{x}<br>value=%{y}<br>avg(user)=%{customdata[0]}<extra></extra>\",\"legendgroup\":\"Belgium\",\"marker\":{\"color\":\"#19d3f3\",\"pattern\":{\"shape\":\"\"}},\"name\":\"Belgium\",\"offsetgroup\":\"Belgium\",\"orientation\":\"h\",\"showlegend\":true,\"textposition\":\"auto\",\"x\":[1,1],\"xaxis\":\"x\",\"y\":[\"f\",\"m\"],\"yaxis\":\"y\",\"type\":\"bar\"},{\"alignmentgroup\":\"True\",\"customdata\":[[7634.0],[15804.0]],\"hovertemplate\":\"country=Bermuda<br>count=%{x}<br>value=%{y}<br>avg(user)=%{customdata[0]}<extra></extra>\",\"legendgroup\":\"Bermuda\",\"marker\":{\"color\":\"#FF6692\",\"pattern\":{\"shape\":\"\"}},\"name\":\"Bermuda\",\"offsetgroup\":\"Bermuda\",\"orientation\":\"h\",\"showlegend\":true,\"textposition\":\"auto\",\"x\":[1,1],\"xaxis\":\"x\",\"y\":[\"m\",\"f\"],\"yaxis\":\"y\",\"type\":\"bar\"},{\"alignmentgroup\":\"True\",\"customdata\":[[15409.0]],\"hovertemplate\":\"country=Bhutan<br>count=%{x}<br>value=%{y}<br>avg(user)=%{customdata[0]}<extra></extra>\",\"legendgroup\":\"Bhutan\",\"marker\":{\"color\":\"#B6E880\",\"pattern\":{\"shape\":\"\"}},\"name\":\"Bhutan\",\"offsetgroup\":\"Bhutan\",\"orientation\":\"h\",\"showlegend\":true,\"textposition\":\"auto\",\"x\":[1],\"xaxis\":\"x\",\"y\":[\"m\"],\"yaxis\":\"y\",\"type\":\"bar\"},{\"alignmentgroup\":\"True\",\"customdata\":[[18148.941176470587]],\"hovertemplate\":\"country=Bolivia<br>count=%{x}<br>value=%{y}<br>avg(user)=%{customdata[0]}<extra></extra>\",\"legendgroup\":\"Bolivia\",\"marker\":{\"color\":\"#FF97FF\",\"pattern\":{\"shape\":\"\"}},\"name\":\"Bolivia\",\"offsetgroup\":\"Bolivia\",\"orientation\":\"h\",\"showlegend\":true,\"textposition\":\"auto\",\"x\":[1],\"xaxis\":\"x\",\"y\":[\"m\"],\"yaxis\":\"y\",\"type\":\"bar\"},{\"alignmentgroup\":\"True\",\"customdata\":[[12077.065789473685],[12165.059171597633]],\"hovertemplate\":\"country=Bosnia and Herzegovina<br>count=%{x}<br>value=%{y}<br>avg(user)=%{customdata[0]}<extra></extra>\",\"legendgroup\":\"Bosnia and Herzegovina\",\"marker\":{\"color\":\"#FECB52\",\"pattern\":{\"shape\":\"\"}},\"name\":\"Bosnia and Herzegovina\",\"offsetgroup\":\"Bosnia and Herzegovina\",\"orientation\":\"h\",\"showlegend\":true,\"textposition\":\"auto\",\"x\":[1,1],\"xaxis\":\"x\",\"y\":[\"f\",\"m\"],\"yaxis\":\"y\",\"type\":\"bar\"},{\"alignmentgroup\":\"True\",\"customdata\":[[9507.62614889706],[9923.537290242386]],\"hovertemplate\":\"country=Brazil<br>count=%{x}<br>value=%{y}<br>avg(user)=%{customdata[0]}<extra></extra>\",\"legendgroup\":\"Brazil\",\"marker\":{\"color\":\"#636efa\",\"pattern\":{\"shape\":\"\"}},\"name\":\"Brazil\",\"offsetgroup\":\"Brazil\",\"orientation\":\"h\",\"showlegend\":true,\"textposition\":\"auto\",\"x\":[1,1],\"xaxis\":\"x\",\"y\":[\"m\",\"f\"],\"yaxis\":\"y\",\"type\":\"bar\"},{\"alignmentgroup\":\"True\",\"customdata\":[[11672.0]],\"hovertemplate\":\"country=British Indian Ocean Territory<br>count=%{x}<br>value=%{y}<br>avg(user)=%{customdata[0]}<extra></extra>\",\"legendgroup\":\"British Indian Ocean Territory\",\"marker\":{\"color\":\"#EF553B\",\"pattern\":{\"shape\":\"\"}},\"name\":\"British Indian Ocean Territory\",\"offsetgroup\":\"British Indian Ocean Territory\",\"orientation\":\"h\",\"showlegend\":true,\"textposition\":\"auto\",\"x\":[1],\"xaxis\":\"x\",\"y\":[\"m\"],\"yaxis\":\"y\",\"type\":\"bar\"},{\"alignmentgroup\":\"True\",\"customdata\":[[12570.0]],\"hovertemplate\":\"country=Brunei Darussalam<br>count=%{x}<br>value=%{y}<br>avg(user)=%{customdata[0]}<extra></extra>\",\"legendgroup\":\"Brunei Darussalam\",\"marker\":{\"color\":\"#00cc96\",\"pattern\":{\"shape\":\"\"}},\"name\":\"Brunei Darussalam\",\"offsetgroup\":\"Brunei Darussalam\",\"orientation\":\"h\",\"showlegend\":true,\"textposition\":\"auto\",\"x\":[1],\"xaxis\":\"x\",\"y\":[\"m\"],\"yaxis\":\"y\",\"type\":\"bar\"},{\"alignmentgroup\":\"True\",\"customdata\":[[9977.486684420772],[10878.265281173593]],\"hovertemplate\":\"country=Bulgaria<br>count=%{x}<br>value=%{y}<br>avg(user)=%{customdata[0]}<extra></extra>\",\"legendgroup\":\"Bulgaria\",\"marker\":{\"color\":\"#ab63fa\",\"pattern\":{\"shape\":\"\"}},\"name\":\"Bulgaria\",\"offsetgroup\":\"Bulgaria\",\"orientation\":\"h\",\"showlegend\":true,\"textposition\":\"auto\",\"x\":[1,1],\"xaxis\":\"x\",\"y\":[\"m\",\"f\"],\"yaxis\":\"y\",\"type\":\"bar\"},{\"alignmentgroup\":\"True\",\"customdata\":[[13657.0],[7148.176470588235]],\"hovertemplate\":\"country=Burkina Faso<br>count=%{x}<br>value=%{y}<br>avg(user)=%{customdata[0]}<extra></extra>\",\"legendgroup\":\"Burkina Faso\",\"marker\":{\"color\":\"#FFA15A\",\"pattern\":{\"shape\":\"\"}},\"name\":\"Burkina Faso\",\"offsetgroup\":\"Burkina Faso\",\"orientation\":\"h\",\"showlegend\":true,\"textposition\":\"auto\",\"x\":[1,1],\"xaxis\":\"x\",\"y\":[\"f\",\"m\"],\"yaxis\":\"y\",\"type\":\"bar\"}],                        {\"template\":{\"data\":{\"bar\":[{\"error_x\":{\"color\":\"#2a3f5f\"},\"error_y\":{\"color\":\"#2a3f5f\"},\"marker\":{\"line\":{\"color\":\"#E5ECF6\",\"width\":0.5},\"pattern\":{\"fillmode\":\"overlay\",\"size\":10,\"solidity\":0.2}},\"type\":\"bar\"}],\"barpolar\":[{\"marker\":{\"line\":{\"color\":\"#E5ECF6\",\"width\":0.5},\"pattern\":{\"fillmode\":\"overlay\",\"size\":10,\"solidity\":0.2}},\"type\":\"barpolar\"}],\"carpet\":[{\"aaxis\":{\"endlinecolor\":\"#2a3f5f\",\"gridcolor\":\"white\",\"linecolor\":\"white\",\"minorgridcolor\":\"white\",\"startlinecolor\":\"#2a3f5f\"},\"baxis\":{\"endlinecolor\":\"#2a3f5f\",\"gridcolor\":\"white\",\"linecolor\":\"white\",\"minorgridcolor\":\"white\",\"startlinecolor\":\"#2a3f5f\"},\"type\":\"carpet\"}],\"choropleth\":[{\"colorbar\":{\"outlinewidth\":0,\"ticks\":\"\"},\"type\":\"choropleth\"}],\"contour\":[{\"colorbar\":{\"outlinewidth\":0,\"ticks\":\"\"},\"colorscale\":[[0.0,\"#0d0887\"],[0.1111111111111111,\"#46039f\"],[0.2222222222222222,\"#7201a8\"],[0.3333333333333333,\"#9c179e\"],[0.4444444444444444,\"#bd3786\"],[0.5555555555555556,\"#d8576b\"],[0.6666666666666666,\"#ed7953\"],[0.7777777777777778,\"#fb9f3a\"],[0.8888888888888888,\"#fdca26\"],[1.0,\"#f0f921\"]],\"type\":\"contour\"}],\"contourcarpet\":[{\"colorbar\":{\"outlinewidth\":0,\"ticks\":\"\"},\"type\":\"contourcarpet\"}],\"heatmap\":[{\"colorbar\":{\"outlinewidth\":0,\"ticks\":\"\"},\"colorscale\":[[0.0,\"#0d0887\"],[0.1111111111111111,\"#46039f\"],[0.2222222222222222,\"#7201a8\"],[0.3333333333333333,\"#9c179e\"],[0.4444444444444444,\"#bd3786\"],[0.5555555555555556,\"#d8576b\"],[0.6666666666666666,\"#ed7953\"],[0.7777777777777778,\"#fb9f3a\"],[0.8888888888888888,\"#fdca26\"],[1.0,\"#f0f921\"]],\"type\":\"heatmap\"}],\"heatmapgl\":[{\"colorbar\":{\"outlinewidth\":0,\"ticks\":\"\"},\"colorscale\":[[0.0,\"#0d0887\"],[0.1111111111111111,\"#46039f\"],[0.2222222222222222,\"#7201a8\"],[0.3333333333333333,\"#9c179e\"],[0.4444444444444444,\"#bd3786\"],[0.5555555555555556,\"#d8576b\"],[0.6666666666666666,\"#ed7953\"],[0.7777777777777778,\"#fb9f3a\"],[0.8888888888888888,\"#fdca26\"],[1.0,\"#f0f921\"]],\"type\":\"heatmapgl\"}],\"histogram\":[{\"marker\":{\"pattern\":{\"fillmode\":\"overlay\",\"size\":10,\"solidity\":0.2}},\"type\":\"histogram\"}],\"histogram2d\":[{\"colorbar\":{\"outlinewidth\":0,\"ticks\":\"\"},\"colorscale\":[[0.0,\"#0d0887\"],[0.1111111111111111,\"#46039f\"],[0.2222222222222222,\"#7201a8\"],[0.3333333333333333,\"#9c179e\"],[0.4444444444444444,\"#bd3786\"],[0.5555555555555556,\"#d8576b\"],[0.6666666666666666,\"#ed7953\"],[0.7777777777777778,\"#fb9f3a\"],[0.8888888888888888,\"#fdca26\"],[1.0,\"#f0f921\"]],\"type\":\"histogram2d\"}],\"histogram2dcontour\":[{\"colorbar\":{\"outlinewidth\":0,\"ticks\":\"\"},\"colorscale\":[[0.0,\"#0d0887\"],[0.1111111111111111,\"#46039f\"],[0.2222222222222222,\"#7201a8\"],[0.3333333333333333,\"#9c179e\"],[0.4444444444444444,\"#bd3786\"],[0.5555555555555556,\"#d8576b\"],[0.6666666666666666,\"#ed7953\"],[0.7777777777777778,\"#fb9f3a\"],[0.8888888888888888,\"#fdca26\"],[1.0,\"#f0f921\"]],\"type\":\"histogram2dcontour\"}],\"mesh3d\":[{\"colorbar\":{\"outlinewidth\":0,\"ticks\":\"\"},\"type\":\"mesh3d\"}],\"parcoords\":[{\"line\":{\"colorbar\":{\"outlinewidth\":0,\"ticks\":\"\"}},\"type\":\"parcoords\"}],\"pie\":[{\"automargin\":true,\"type\":\"pie\"}],\"scatter\":[{\"marker\":{\"colorbar\":{\"outlinewidth\":0,\"ticks\":\"\"}},\"type\":\"scatter\"}],\"scatter3d\":[{\"line\":{\"colorbar\":{\"outlinewidth\":0,\"ticks\":\"\"}},\"marker\":{\"colorbar\":{\"outlinewidth\":0,\"ticks\":\"\"}},\"type\":\"scatter3d\"}],\"scattercarpet\":[{\"marker\":{\"colorbar\":{\"outlinewidth\":0,\"ticks\":\"\"}},\"type\":\"scattercarpet\"}],\"scattergeo\":[{\"marker\":{\"colorbar\":{\"outlinewidth\":0,\"ticks\":\"\"}},\"type\":\"scattergeo\"}],\"scattergl\":[{\"marker\":{\"colorbar\":{\"outlinewidth\":0,\"ticks\":\"\"}},\"type\":\"scattergl\"}],\"scattermapbox\":[{\"marker\":{\"colorbar\":{\"outlinewidth\":0,\"ticks\":\"\"}},\"type\":\"scattermapbox\"}],\"scatterpolar\":[{\"marker\":{\"colorbar\":{\"outlinewidth\":0,\"ticks\":\"\"}},\"type\":\"scatterpolar\"}],\"scatterpolargl\":[{\"marker\":{\"colorbar\":{\"outlinewidth\":0,\"ticks\":\"\"}},\"type\":\"scatterpolargl\"}],\"scatterternary\":[{\"marker\":{\"colorbar\":{\"outlinewidth\":0,\"ticks\":\"\"}},\"type\":\"scatterternary\"}],\"surface\":[{\"colorbar\":{\"outlinewidth\":0,\"ticks\":\"\"},\"colorscale\":[[0.0,\"#0d0887\"],[0.1111111111111111,\"#46039f\"],[0.2222222222222222,\"#7201a8\"],[0.3333333333333333,\"#9c179e\"],[0.4444444444444444,\"#bd3786\"],[0.5555555555555556,\"#d8576b\"],[0.6666666666666666,\"#ed7953\"],[0.7777777777777778,\"#fb9f3a\"],[0.8888888888888888,\"#fdca26\"],[1.0,\"#f0f921\"]],\"type\":\"surface\"}],\"table\":[{\"cells\":{\"fill\":{\"color\":\"#EBF0F8\"},\"line\":{\"color\":\"white\"}},\"header\":{\"fill\":{\"color\":\"#C8D4E3\"},\"line\":{\"color\":\"white\"}},\"type\":\"table\"}]},\"layout\":{\"annotationdefaults\":{\"arrowcolor\":\"#2a3f5f\",\"arrowhead\":0,\"arrowwidth\":1},\"autotypenumbers\":\"strict\",\"coloraxis\":{\"colorbar\":{\"outlinewidth\":0,\"ticks\":\"\"}},\"colorscale\":{\"diverging\":[[0,\"#8e0152\"],[0.1,\"#c51b7d\"],[0.2,\"#de77ae\"],[0.3,\"#f1b6da\"],[0.4,\"#fde0ef\"],[0.5,\"#f7f7f7\"],[0.6,\"#e6f5d0\"],[0.7,\"#b8e186\"],[0.8,\"#7fbc41\"],[0.9,\"#4d9221\"],[1,\"#276419\"]],\"sequential\":[[0.0,\"#0d0887\"],[0.1111111111111111,\"#46039f\"],[0.2222222222222222,\"#7201a8\"],[0.3333333333333333,\"#9c179e\"],[0.4444444444444444,\"#bd3786\"],[0.5555555555555556,\"#d8576b\"],[0.6666666666666666,\"#ed7953\"],[0.7777777777777778,\"#fb9f3a\"],[0.8888888888888888,\"#fdca26\"],[1.0,\"#f0f921\"]],\"sequentialminus\":[[0.0,\"#0d0887\"],[0.1111111111111111,\"#46039f\"],[0.2222222222222222,\"#7201a8\"],[0.3333333333333333,\"#9c179e\"],[0.4444444444444444,\"#bd3786\"],[0.5555555555555556,\"#d8576b\"],[0.6666666666666666,\"#ed7953\"],[0.7777777777777778,\"#fb9f3a\"],[0.8888888888888888,\"#fdca26\"],[1.0,\"#f0f921\"]]},\"colorway\":[\"#636efa\",\"#EF553B\",\"#00cc96\",\"#ab63fa\",\"#FFA15A\",\"#19d3f3\",\"#FF6692\",\"#B6E880\",\"#FF97FF\",\"#FECB52\"],\"font\":{\"color\":\"#2a3f5f\"},\"geo\":{\"bgcolor\":\"white\",\"lakecolor\":\"white\",\"landcolor\":\"#E5ECF6\",\"showlakes\":true,\"showland\":true,\"subunitcolor\":\"white\"},\"hoverlabel\":{\"align\":\"left\"},\"hovermode\":\"closest\",\"mapbox\":{\"style\":\"light\"},\"paper_bgcolor\":\"white\",\"plot_bgcolor\":\"#E5ECF6\",\"polar\":{\"angularaxis\":{\"gridcolor\":\"white\",\"linecolor\":\"white\",\"ticks\":\"\"},\"bgcolor\":\"#E5ECF6\",\"radialaxis\":{\"gridcolor\":\"white\",\"linecolor\":\"white\",\"ticks\":\"\"}},\"scene\":{\"xaxis\":{\"backgroundcolor\":\"#E5ECF6\",\"gridcolor\":\"white\",\"gridwidth\":2,\"linecolor\":\"white\",\"showbackground\":true,\"ticks\":\"\",\"zerolinecolor\":\"white\"},\"yaxis\":{\"backgroundcolor\":\"#E5ECF6\",\"gridcolor\":\"white\",\"gridwidth\":2,\"linecolor\":\"white\",\"showbackground\":true,\"ticks\":\"\",\"zerolinecolor\":\"white\"},\"zaxis\":{\"backgroundcolor\":\"#E5ECF6\",\"gridcolor\":\"white\",\"gridwidth\":2,\"linecolor\":\"white\",\"showbackground\":true,\"ticks\":\"\",\"zerolinecolor\":\"white\"}},\"shapedefaults\":{\"line\":{\"color\":\"#2a3f5f\"}},\"ternary\":{\"aaxis\":{\"gridcolor\":\"white\",\"linecolor\":\"white\",\"ticks\":\"\"},\"baxis\":{\"gridcolor\":\"white\",\"linecolor\":\"white\",\"ticks\":\"\"},\"bgcolor\":\"#E5ECF6\",\"caxis\":{\"gridcolor\":\"white\",\"linecolor\":\"white\",\"ticks\":\"\"}},\"title\":{\"x\":0.05},\"xaxis\":{\"automargin\":true,\"gridcolor\":\"white\",\"linecolor\":\"white\",\"ticks\":\"\",\"title\":{\"standoff\":15},\"zerolinecolor\":\"white\",\"zerolinewidth\":2},\"yaxis\":{\"automargin\":true,\"gridcolor\":\"white\",\"linecolor\":\"white\",\"ticks\":\"\",\"title\":{\"standoff\":15},\"zerolinecolor\":\"white\",\"zerolinewidth\":2}}},\"xaxis\":{\"anchor\":\"y\",\"domain\":[0.0,1.0],\"title\":{\"text\":\"count\"}},\"yaxis\":{\"anchor\":\"x\",\"domain\":[0.0,1.0],\"title\":{\"text\":\"value\"}},\"legend\":{\"title\":{\"text\":\"country\"},\"tracegroupgap\":0},\"title\":{\"text\":\"Average User by Country & Sex\"},\"barmode\":\"relative\"},                        {\"responsive\": true}                    ).then(function(){\n",
              "                            \n",
              "var gd = document.getElementById('c5609498-3536-4312-94f0-4e60ee8de383');\n",
              "var x = new MutationObserver(function (mutations, observer) {{\n",
              "        var display = window.getComputedStyle(gd).display;\n",
              "        if (!display || display === 'none') {{\n",
              "            console.log([gd, 'removed!']);\n",
              "            Plotly.purge(gd);\n",
              "            observer.disconnect();\n",
              "        }}\n",
              "}});\n",
              "\n",
              "// Listen for the removal of the full notebook cells\n",
              "var notebookContainer = gd.closest('#notebook-container');\n",
              "if (notebookContainer) {{\n",
              "    x.observe(notebookContainer, {childList: true});\n",
              "}}\n",
              "\n",
              "// Listen for the clearing of the current output cell\n",
              "var outputEl = gd.closest('.output');\n",
              "if (outputEl) {{\n",
              "    x.observe(outputEl, {childList: true});\n",
              "}}\n",
              "\n",
              "                        })                };                            </script>        </div>\n",
              "</body>\n",
              "</html>"
            ]
          },
          "metadata": {}
        }
      ]
    },
    {
      "cell_type": "markdown",
      "source": [
        "## **FP Growth Algorithm Prediction Analysis**"
      ],
      "metadata": {
        "id": "XlYFy9qkbZI5"
      }
    },
    {
      "cell_type": "code",
      "source": [
        "grouped_spark_lastfm = spark_lastfm.groupBy('user').agg({'artist': 'collect_list'})"
      ],
      "metadata": {
        "id": "ML_rayYObUEy"
      },
      "execution_count": null,
      "outputs": []
    },
    {
      "cell_type": "code",
      "source": [
        "grouped_spark_lastfm=grouped_spark_lastfm.toDF(\"user\", \"artist\")"
      ],
      "metadata": {
        "id": "FILwFR15bT7a"
      },
      "execution_count": null,
      "outputs": []
    },
    {
      "cell_type": "code",
      "source": [
        "grouped_spark_lastfm.take(5)"
      ],
      "metadata": {
        "colab": {
          "base_uri": "https://localhost:8080/"
        },
        "id": "H2E_3Vf_Ehu3",
        "outputId": "bc3f3b1c-7cb3-4807-a072-6330aec6902a"
      },
      "execution_count": null,
      "outputs": [
        {
          "output_type": "execute_result",
          "data": {
            "text/plain": [
              "[Row(user=1, artist=['eluveitie', 'the who', 'edguy', 'jack johnson', 'le tigre', 'rob zombie', 'guano apes', 'goldfrapp', 'dropkick murphys', 'the rolling stones', 'judas priest', 'schandmaul', 'the black dahlia murder', 'john mayer', 'red hot chili peppers', 'the killers']),\n",
              " Row(user=3, artist=['pavement', 'mf doom', 'devendra banhart', 'broken social scene', 'm83', 'four tet', 'the flashbulb', 'animal collective', 'aesop rock', 'beastie boys', 'air', 'cocorosie', 'aphex twin', 'amon tobin', 'portishead', 'neutral milk hotel', 'sage francis', 'boards of canada', 'goldfrapp', 'radiohead', 'autechre', 'atmosphere', 'massive attack', 'plaid', 'joanna newsom', 'prefuse 73', 'arcade fire', 'max richter', 'the books']),\n",
              " Row(user=4, artist=['the flaming lips', 'a tribe called quest', 'mgmt', 'simian mobile disco', 'dj shadow', 'late of the pier', 'pink floyd', 'beck', 'bonobo', 'tv on the radio', 'battles', 'the decemberists', 'tool', 'the rolling stones', 'the cinematic orchestra', 'led zeppelin', 'kyuss', 'michael jackson', 'flight of the conchords', 'the prodigy', 'bon iver', 'snow patrol', 'rjd2', 'muse', 'fleetwood mac', 'air', 'röyksopp']),\n",
              " Row(user=5, artist=['dream theater', 'megadeth', 'volbeat', 'iron maiden', 'children of bodom', 'sublime', 'nightwish', 'metallica', 'ac/dc', 'bob marley & the wailers', 'trivium']),\n",
              " Row(user=6, artist=['muse', 'dream theater', 'stevie wonder', 'u2', 'snow patrol', 'the streets', 'lily allen', 'kanye west', 'metallica', 'type o negative', 'faith no more', 'green day', 'iron maiden', 'queen', 'pink floyd', 'manu chao', 'jay-z', 'depeche mode', 'pearl jam', 'sigur rós', 'tenacious d', 'thievery corporation', 'justin timberlake'])]"
            ]
          },
          "metadata": {},
          "execution_count": 35
        }
      ]
    },
    {
      "cell_type": "code",
      "source": [
        "grouped_spark_lastfm.show(5)"
      ],
      "metadata": {
        "colab": {
          "base_uri": "https://localhost:8080/"
        },
        "id": "wO-SQlyeEhjg",
        "outputId": "7cca217b-aae9-4468-833f-34ada170ed91"
      },
      "execution_count": null,
      "outputs": [
        {
          "output_type": "stream",
          "name": "stdout",
          "text": [
            "+----+--------------------+\n",
            "|user|              artist|\n",
            "+----+--------------------+\n",
            "|   1|[eluveitie, the w...|\n",
            "|   3|[pavement, mf doo...|\n",
            "|   4|[the flaming lips...|\n",
            "|   5|[dream theater, m...|\n",
            "|   6|[muse, dream thea...|\n",
            "+----+--------------------+\n",
            "only showing top 5 rows\n",
            "\n"
          ]
        }
      ]
    },
    {
      "cell_type": "code",
      "source": [
        "#Dataset spliting into train and test dataset\n",
        "train, test = grouped_spark_lastfm.randomSplit(weights=[0.7, 0.3], seed=100)"
      ],
      "metadata": {
        "id": "Kubib9LaEhWd"
      },
      "execution_count": null,
      "outputs": []
    },
    {
      "cell_type": "code",
      "source": [
        "print(train.count())\n",
        "print(test.count())"
      ],
      "metadata": {
        "colab": {
          "base_uri": "https://localhost:8080/"
        },
        "id": "d4K3w0ytInkK",
        "outputId": "ee2a8876-1d26-4ef2-fba8-3402d83d5681"
      },
      "execution_count": null,
      "outputs": [
        {
          "output_type": "stream",
          "name": "stdout",
          "text": [
            "10534\n",
            "4466\n"
          ]
        }
      ]
    },
    {
      "cell_type": "markdown",
      "source": [
        "### **First Tuning the Hyper parameter to get the better Optimal combination for lift**"
      ],
      "metadata": {
        "id": "eP14YRSo3BAb"
      }
    },
    {
      "cell_type": "code",
      "source": [
        "\n",
        "lastfm_fp_growth = FPGrowth(itemsCol=\"artist\", minSupport=0.01, minConfidence=0.3)\n",
        "lastfm_model = lastfm_fp_growth.fit(train)"
      ],
      "metadata": {
        "id": "itS7sNAJIngY"
      },
      "execution_count": null,
      "outputs": []
    },
    {
      "cell_type": "code",
      "source": [
        "print(lastfm_model.freqItemsets.count())\n",
        "print(lastfm_model.associationRules.count())"
      ],
      "metadata": {
        "id": "x_T6Bg5HInbg",
        "colab": {
          "base_uri": "https://localhost:8080/"
        },
        "outputId": "743a3a7c-0bd0-4014-df9e-86e6ae16b8bf"
      },
      "execution_count": null,
      "outputs": [
        {
          "output_type": "stream",
          "name": "stdout",
          "text": [
            "1688\n",
            "487\n"
          ]
        }
      ]
    },
    {
      "cell_type": "code",
      "source": [
        "lastfm_model.freqItemsets.take(5)"
      ],
      "metadata": {
        "colab": {
          "base_uri": "https://localhost:8080/"
        },
        "id": "1VNQVbrUNH_p",
        "outputId": "b00f2656-9bde-4081-9fa7-9158ce3ac22c"
      },
      "execution_count": null,
      "outputs": [
        {
          "output_type": "execute_result",
          "data": {
            "text/plain": [
              "[Row(items=['3 doors down'], freq=336),\n",
              " Row(items=['3 doors down', 'linkin park'], freq=114),\n",
              " Row(items=['van morrison'], freq=126),\n",
              " Row(items=['megadeth'], freq=324),\n",
              " Row(items=['megadeth', 'metallica'], freq=172)]"
            ]
          },
          "metadata": {},
          "execution_count": 41
        }
      ]
    },
    {
      "cell_type": "code",
      "source": [
        "Viz_lastfm_model= lastfm_model.freqItemsets.orderBy(\"freq\", ascending=False).toPandas()"
      ],
      "metadata": {
        "id": "JaFhe4Enstuy"
      },
      "execution_count": null,
      "outputs": []
    },
    {
      "cell_type": "code",
      "source": [
        "Viz_lastfm_model.head()"
      ],
      "metadata": {
        "colab": {
          "base_uri": "https://localhost:8080/",
          "height": 206
        },
        "id": "_wXMX8Me5vOu",
        "outputId": "a282a653-96b0-4c8c-f432-f34f35e91b31"
      },
      "execution_count": null,
      "outputs": [
        {
          "output_type": "execute_result",
          "data": {
            "text/plain": [
              "                     items  freq\n",
              "0              [radiohead]  1925\n",
              "1            [the beatles]  1856\n",
              "2               [coldplay]  1662\n",
              "3  [red hot chili peppers]  1211\n",
              "4                   [muse]  1190"
            ],
            "text/html": [
              "\n",
              "  <div id=\"df-a98957fa-e5b1-4691-b46a-c61c518c675a\">\n",
              "    <div class=\"colab-df-container\">\n",
              "      <div>\n",
              "<style scoped>\n",
              "    .dataframe tbody tr th:only-of-type {\n",
              "        vertical-align: middle;\n",
              "    }\n",
              "\n",
              "    .dataframe tbody tr th {\n",
              "        vertical-align: top;\n",
              "    }\n",
              "\n",
              "    .dataframe thead th {\n",
              "        text-align: right;\n",
              "    }\n",
              "</style>\n",
              "<table border=\"1\" class=\"dataframe\">\n",
              "  <thead>\n",
              "    <tr style=\"text-align: right;\">\n",
              "      <th></th>\n",
              "      <th>items</th>\n",
              "      <th>freq</th>\n",
              "    </tr>\n",
              "  </thead>\n",
              "  <tbody>\n",
              "    <tr>\n",
              "      <th>0</th>\n",
              "      <td>[radiohead]</td>\n",
              "      <td>1925</td>\n",
              "    </tr>\n",
              "    <tr>\n",
              "      <th>1</th>\n",
              "      <td>[the beatles]</td>\n",
              "      <td>1856</td>\n",
              "    </tr>\n",
              "    <tr>\n",
              "      <th>2</th>\n",
              "      <td>[coldplay]</td>\n",
              "      <td>1662</td>\n",
              "    </tr>\n",
              "    <tr>\n",
              "      <th>3</th>\n",
              "      <td>[red hot chili peppers]</td>\n",
              "      <td>1211</td>\n",
              "    </tr>\n",
              "    <tr>\n",
              "      <th>4</th>\n",
              "      <td>[muse]</td>\n",
              "      <td>1190</td>\n",
              "    </tr>\n",
              "  </tbody>\n",
              "</table>\n",
              "</div>\n",
              "      <button class=\"colab-df-convert\" onclick=\"convertToInteractive('df-a98957fa-e5b1-4691-b46a-c61c518c675a')\"\n",
              "              title=\"Convert this dataframe to an interactive table.\"\n",
              "              style=\"display:none;\">\n",
              "        \n",
              "  <svg xmlns=\"http://www.w3.org/2000/svg\" height=\"24px\"viewBox=\"0 0 24 24\"\n",
              "       width=\"24px\">\n",
              "    <path d=\"M0 0h24v24H0V0z\" fill=\"none\"/>\n",
              "    <path d=\"M18.56 5.44l.94 2.06.94-2.06 2.06-.94-2.06-.94-.94-2.06-.94 2.06-2.06.94zm-11 1L8.5 8.5l.94-2.06 2.06-.94-2.06-.94L8.5 2.5l-.94 2.06-2.06.94zm10 10l.94 2.06.94-2.06 2.06-.94-2.06-.94-.94-2.06-.94 2.06-2.06.94z\"/><path d=\"M17.41 7.96l-1.37-1.37c-.4-.4-.92-.59-1.43-.59-.52 0-1.04.2-1.43.59L10.3 9.45l-7.72 7.72c-.78.78-.78 2.05 0 2.83L4 21.41c.39.39.9.59 1.41.59.51 0 1.02-.2 1.41-.59l7.78-7.78 2.81-2.81c.8-.78.8-2.07 0-2.86zM5.41 20L4 18.59l7.72-7.72 1.47 1.35L5.41 20z\"/>\n",
              "  </svg>\n",
              "      </button>\n",
              "      \n",
              "  <style>\n",
              "    .colab-df-container {\n",
              "      display:flex;\n",
              "      flex-wrap:wrap;\n",
              "      gap: 12px;\n",
              "    }\n",
              "\n",
              "    .colab-df-convert {\n",
              "      background-color: #E8F0FE;\n",
              "      border: none;\n",
              "      border-radius: 50%;\n",
              "      cursor: pointer;\n",
              "      display: none;\n",
              "      fill: #1967D2;\n",
              "      height: 32px;\n",
              "      padding: 0 0 0 0;\n",
              "      width: 32px;\n",
              "    }\n",
              "\n",
              "    .colab-df-convert:hover {\n",
              "      background-color: #E2EBFA;\n",
              "      box-shadow: 0px 1px 2px rgba(60, 64, 67, 0.3), 0px 1px 3px 1px rgba(60, 64, 67, 0.15);\n",
              "      fill: #174EA6;\n",
              "    }\n",
              "\n",
              "    [theme=dark] .colab-df-convert {\n",
              "      background-color: #3B4455;\n",
              "      fill: #D2E3FC;\n",
              "    }\n",
              "\n",
              "    [theme=dark] .colab-df-convert:hover {\n",
              "      background-color: #434B5C;\n",
              "      box-shadow: 0px 1px 3px 1px rgba(0, 0, 0, 0.15);\n",
              "      filter: drop-shadow(0px 1px 2px rgba(0, 0, 0, 0.3));\n",
              "      fill: #FFFFFF;\n",
              "    }\n",
              "  </style>\n",
              "\n",
              "      <script>\n",
              "        const buttonEl =\n",
              "          document.querySelector('#df-a98957fa-e5b1-4691-b46a-c61c518c675a button.colab-df-convert');\n",
              "        buttonEl.style.display =\n",
              "          google.colab.kernel.accessAllowed ? 'block' : 'none';\n",
              "\n",
              "        async function convertToInteractive(key) {\n",
              "          const element = document.querySelector('#df-a98957fa-e5b1-4691-b46a-c61c518c675a');\n",
              "          const dataTable =\n",
              "            await google.colab.kernel.invokeFunction('convertToInteractive',\n",
              "                                                     [key], {});\n",
              "          if (!dataTable) return;\n",
              "\n",
              "          const docLinkHtml = 'Like what you see? Visit the ' +\n",
              "            '<a target=\"_blank\" href=https://colab.research.google.com/notebooks/data_table.ipynb>data table notebook</a>'\n",
              "            + ' to learn more about interactive tables.';\n",
              "          element.innerHTML = '';\n",
              "          dataTable['output_type'] = 'display_data';\n",
              "          await google.colab.output.renderOutput(dataTable, element);\n",
              "          const docLink = document.createElement('div');\n",
              "          docLink.innerHTML = docLinkHtml;\n",
              "          element.appendChild(docLink);\n",
              "        }\n",
              "      </script>\n",
              "    </div>\n",
              "  </div>\n",
              "  "
            ]
          },
          "metadata": {},
          "execution_count": 43
        }
      ]
    },
    {
      "cell_type": "code",
      "source": [
        "print(lastfm_model.associationRules.count())"
      ],
      "metadata": {
        "colab": {
          "base_uri": "https://localhost:8080/"
        },
        "id": "R_OHwmPENIKX",
        "outputId": "0744fefd-fd91-44fa-8851-f8735010f63c"
      },
      "execution_count": null,
      "outputs": [
        {
          "output_type": "stream",
          "name": "stdout",
          "text": [
            "487\n"
          ]
        }
      ]
    },
    {
      "cell_type": "code",
      "source": [
        "print(lastfm_model.associationRules.show())"
      ],
      "metadata": {
        "colab": {
          "base_uri": "https://localhost:8080/"
        },
        "id": "EIhoMT0VNH15",
        "outputId": "5c310227-0daf-434c-c728-fa57472478c4"
      },
      "execution_count": null,
      "outputs": [
        {
          "output_type": "stream",
          "name": "stdout",
          "text": [
            "+--------------------+--------------------+-------------------+------------------+--------------------+\n",
            "|          antecedent|          consequent|         confidence|              lift|             support|\n",
            "+--------------------+--------------------+-------------------+------------------+--------------------+\n",
            "|               [nas]|             [jay-z]|0.44106463878326996|14.252070260561245| 0.01101196126827416|\n",
            "|               [nas]|        [kanye west]|0.45627376425855515| 6.905729644683362|0.011391684070628441|\n",
            "|[the smashing pum...|         [radiohead]| 0.4795144157814871| 2.624002522515421| 0.02999810138598823|\n",
            "|[snow patrol, rad...|          [coldplay]| 0.6385542168674698| 4.047250373334492|0.010062654262388457|\n",
            "|[belle and sebast...|       [the beatles]|0.34674329501915707|1.9679923867089442|0.017182456806531233|\n",
            "|[belle and sebast...|         [radiohead]|0.42528735632183906|2.3272607851918194|0.021074615530662616|\n",
            "| [simon & garfunkel]|       [the beatles]| 0.5078369905956113| 2.882303264511944|0.015378773495348396|\n",
            "|     [josé gonzález]|         [radiohead]|0.40145985401459855| 2.196871741397289|0.010442377064742738|\n",
            "|      [jack johnson]|          [coldplay]| 0.3675496688741722| 2.329583761685036|0.021074615530662616|\n",
            "|[snow patrol, the...|          [coldplay]| 0.5947368421052631|3.7695294192159094| 0.01072716916650845|\n",
            "|[the chemical bro...|         [daft punk]|0.30752688172043013| 4.034231845632641| 0.01357509018416556|\n",
            "|[the chemical bro...|         [radiohead]| 0.3225806451612903|1.7652283200670298|0.014239605088285551|\n",
            "|     [air, coldplay]|         [radiohead]| 0.5618556701030928| 3.074590976034275|0.010347446364154167|\n",
            "|         [sigur rós]|         [radiohead]|  0.503968253968254| 2.757819006390435|  0.0361685969242453|\n",
            "|[rage against the...|[red hot chili pe...| 0.3061594202898551| 2.663157170382604|0.016043288399468388|\n",
            "|             [jay-z]|        [kanye west]|                0.5| 7.567528735632184|0.015473704195936966|\n",
            "|             [jay-z]|               [nas]| 0.3558282208588957|14.252070260561245| 0.01101196126827416|\n",
            "|[red hot chili pe...|              [muse]|0.37962962962962965|3.3605197634609403|0.011676476172394153|\n",
            "|[red hot chili pe...|          [coldplay]|0.47530864197530864|3.0125759534102894|0.014619327890639832|\n",
            "|[red hot chili pe...|       [the beatles]| 0.3888888888888889|2.2071958812260535|0.011961268274159864|\n",
            "+--------------------+--------------------+-------------------+------------------+--------------------+\n",
            "only showing top 20 rows\n",
            "\n",
            "None\n"
          ]
        }
      ]
    },
    {
      "cell_type": "code",
      "source": [
        "#The optimal lift for the combination of support and confidence\n",
        "df = print(lastfm_model.associationRules.orderBy(\"lift\", ascending=False).toPandas().head())"
      ],
      "metadata": {
        "colab": {
          "base_uri": "https://localhost:8080/"
        },
        "id": "j4-Yg5-Fr99_",
        "outputId": "64868439-c66b-4785-d793-41a7c85e0a1e"
      },
      "execution_count": null,
      "outputs": [
        {
          "output_type": "stream",
          "name": "stdout",
          "text": [
            "             antecedent consequent  confidence      lift   support\n",
            "0                 [nas]    [jay-z]    0.441065  14.25207  0.011012\n",
            "1               [jay-z]      [nas]    0.355828  14.25207  0.011012\n",
            "2  [the pussycat dolls]  [rihanna]    0.563830  12.66393  0.010063\n",
            "3             [rihanna]  [beyoncé]    0.313433  10.65065  0.013955\n",
            "4             [beyoncé]  [rihanna]    0.474194  10.65065  0.013955\n"
          ]
        }
      ]
    },
    {
      "cell_type": "code",
      "source": [
        "lastfm_new_output = lastfm_model.transform(test)"
      ],
      "metadata": {
        "id": "3IAYaZfiNHwt"
      },
      "execution_count": null,
      "outputs": []
    },
    {
      "cell_type": "code",
      "source": [
        "lastfm_new_output"
      ],
      "metadata": {
        "colab": {
          "base_uri": "https://localhost:8080/"
        },
        "id": "4XUsJNpoNHr7",
        "outputId": "d19da8f9-766b-4a0b-d511-19588f029a30"
      },
      "execution_count": null,
      "outputs": [
        {
          "output_type": "execute_result",
          "data": {
            "text/plain": [
              "DataFrame[user: int, artist: array<string>, prediction: array<string>]"
            ]
          },
          "metadata": {},
          "execution_count": 48
        }
      ]
    },
    {
      "cell_type": "code",
      "source": [
        "lastfm_new_output.take(5)"
      ],
      "metadata": {
        "colab": {
          "base_uri": "https://localhost:8080/"
        },
        "id": "UGzx043UNHe8",
        "outputId": "0c76a3a5-c66f-449f-c25f-a4bac4a4dc15"
      },
      "execution_count": null,
      "outputs": [
        {
          "output_type": "execute_result",
          "data": {
            "text/plain": [
              "[Row(user=5, artist=['dream theater', 'megadeth', 'volbeat', 'iron maiden', 'children of bodom', 'sublime', 'nightwish', 'metallica', 'ac/dc', 'bob marley & the wailers', 'trivium'], prediction=['in flames']),\n",
              " Row(user=18, artist=['fleetwood mac', 'sonata arctica', 'creedence clearwater revival', 'aphex twin', 'mindless self indulgence', 'infected mushroom', 'nightwish', 'john williams', 'electric light orchestra', 'iron maiden', 'michael jackson'], prediction=['boards of canada', 'radiohead', 'metallica']),\n",
              " Row(user=19, artist=['bloc party', 'bob marley & the wailers', 'n*e*r*d', 'placebo', 'coldplay', 'the kooks', 'klaxons', 'portishead', 'cut copy', 'the radio dept.', 'thom yorke', 'josé gonzález', 'crystal castles', 'múm', 'sex pistols', 'yo la tengo', 'interpol', 'håkan hellström', 'beirut', 'fischerspooner', 'the postal service', 'a perfect circle', 'beck', 'röyksopp', 'nine inch nails', 'animal collective', 'gorillaz', 'nouvelle vague', 'the kills', 'sonic youth', 'franz ferdinand', 'daft punk', 'ladytron', 'the wombats', 'mgmt', 'the libertines', 'kent', 'cocorosie', 'iron & wine', 'the shins', 'le tigre'], prediction=['radiohead', 'muse', 'tool', 'the killers', 'arctic monkeys', 'the beatles', 'massive attack', 'death cab for cutie', 'modest mouse', 'sufjan stevens', 'air']),\n",
              " Row(user=23, artist=['jamiroquai', 'ramones', 'franz ferdinand', 'the kinks', 'buzzcocks', 'radiohead', 'the pogues', 'mando diao', 'the clash', 'the who', 'the chemical brothers', 'the rolling stones'], prediction=['daft punk', 'coldplay', 'muse', 'the killers', 'arctic monkeys', 'the beatles', 'bob dylan', 'led zeppelin', 'pink floyd']),\n",
              " Row(user=24, artist=['the rolling stones', 'bruce springsteen', 'johnny cash', 'the kinks', 'billy joel', 'leonard cohen', 'jonas brothers', 'queen', 'tom waits', 'neil young', 'the byrds', 'john lennon', 'the beach boys', 'the beatles', 'simon & garfunkel'], prediction=['radiohead', 'bob dylan', 'led zeppelin'])]"
            ]
          },
          "metadata": {},
          "execution_count": 49
        }
      ]
    },
    {
      "cell_type": "code",
      "source": [
        "lastfm_new_output.show(5)"
      ],
      "metadata": {
        "colab": {
          "base_uri": "https://localhost:8080/"
        },
        "id": "8_0EcHiEQmO0",
        "outputId": "d88bc4a5-0e00-40c2-b1e6-e7090002cbe1"
      },
      "execution_count": null,
      "outputs": [
        {
          "output_type": "stream",
          "name": "stdout",
          "text": [
            "+----+--------------------+--------------------+\n",
            "|user|              artist|          prediction|\n",
            "+----+--------------------+--------------------+\n",
            "|   5|[dream theater, m...|         [in flames]|\n",
            "|  18|[fleetwood mac, s...|[boards of canada...|\n",
            "|  19|[bloc party, bob ...|[radiohead, muse,...|\n",
            "|  23|[jamiroquai, ramo...|[daft punk, coldp...|\n",
            "|  24|[the rolling ston...|[radiohead, bob d...|\n",
            "+----+--------------------+--------------------+\n",
            "only showing top 5 rows\n",
            "\n"
          ]
        }
      ]
    },
    {
      "cell_type": "code",
      "source": [
        "lastfm_new_output.toPandas().head() #The new output coverted to pandas for better visualization"
      ],
      "metadata": {
        "colab": {
          "base_uri": "https://localhost:8080/",
          "height": 1000
        },
        "id": "fFZL7AFLRle6",
        "outputId": "b8d2ebb4-4bb7-4491-f0e6-bbddda4fbdb0"
      },
      "execution_count": null,
      "outputs": [
        {
          "output_type": "execute_result",
          "data": {
            "text/plain": [
              "    user                                             artist  \\\n",
              "0      5  [dream theater, megadeth, volbeat, iron maiden...   \n",
              "1     18  [fleetwood mac, sonata arctica, creedence clea...   \n",
              "2     19  [bloc party, bob marley & the wailers, n*e*r*d...   \n",
              "3     23  [jamiroquai, ramones, franz ferdinand, the kin...   \n",
              "4     24  [the rolling stones, bruce springsteen, johnny...   \n",
              "5     31  [róisín murphy, jamie cullum, thievery corpora...   \n",
              "6     32  [leonard cohen, peaches, misfits, Édith piaf, ...   \n",
              "7     38  [the beatles, adele, elton john, john legend, ...   \n",
              "8     42  [avril lavigne, evanescence, nightwish, as i l...   \n",
              "9     47  [tom waits, kate bush, david bowie, johnny cas...   \n",
              "10    48  [disturbed, rammstein, parkway drive, children...   \n",
              "11    51  [billy talent, paolo nutini, klaxons, the last...   \n",
              "12    55  [deerhoof, tokyo police club, bon iver, explos...   \n",
              "13    58  [children of bodom, flogging molly, red hot ch...   \n",
              "14    59  [arctic monkeys, the strokes, beirut, adam gre...   \n",
              "15    70  [the cardigans, paramore, the all-american rej...   \n",
              "16    75  [caliban, benny benassi, rise against, flyleaf...   \n",
              "17    82  [nightwish, coldplay, arch enemy, slipknot, la...   \n",
              "18    83             [black eyed peas, dido, nelly furtado]   \n",
              "19    86               [porcupine tree, anathema, agalloch]   \n",
              "20    91  [vangelis, kraftwerk, enigma, the beach boys, ...   \n",
              "21    92  [nickelback, paul oakenfold, a-ha, muse, infec...   \n",
              "22    97  [queens of the stone age, sonic youth, ramones...   \n",
              "23   101  [ramones, bob dylan, the offspring, turbonegro...   \n",
              "24   113  [emilie autumn, boards of canada, primus, drop...   \n",
              "25   123  [moonspell, queens of the stone age, nofx, chr...   \n",
              "26   127  [death cab for cutie, the cure, the last shado...   \n",
              "27   138  [afi, linkin park, billy talent, papa roach, y...   \n",
              "28   141  [ill niño, parkway drive, stone sour, children...   \n",
              "29   147  [the kinks, the dandy warhols, led zeppelin, d...   \n",
              "30   154  [mgmt, damian marley, erykah badu, matisyahu, ...   \n",
              "31   156  [hilary duff, leona lewis, enrique iglesias, l...   \n",
              "32   160  [jamiroquai, michael jackson, the prodigy, red...   \n",
              "33   169  [bob dylan, adam green, elliott smith, joy div...   \n",
              "34   171  [lil wayne, miley cyrus, the fray, daft punk, ...   \n",
              "35   173  [nine inch nails, metallica, stratovarius, los...   \n",
              "36   177  [nada surf, john williams, john mayer, jason m...   \n",
              "37   182  [atmosphere, sia, zero 7, the roots, jazzanova...   \n",
              "38   183  [oasis, ryan adams, animal collective, radiohe...   \n",
              "39   184  [the prodigy, [unknown], queens of the stone a...   \n",
              "40   186             [tv on the radio, apparat, vnv nation]   \n",
              "41   188  [muse, aimee mann, barenaked ladies, travis, f...   \n",
              "42   194  [roxette, kaiser chiefs, fugazi, the white str...   \n",
              "43   198  [faith no more, múm, radiohead, air, portishea...   \n",
              "44   199  [lcd soundsystem, emilíana torrini, the new po...   \n",
              "45   200  [muse, the verve, coldplay, oasis, the doors, ...   \n",
              "46   202  [mika, josé gonzález, Édith piaf, antonio viva...   \n",
              "47   207  [a-ha, sigur rós, robbie williams, eminem, nel...   \n",
              "48   208  [rob zombie, velvet revolver, alanis morissett...   \n",
              "49   213  [air, arcade fire, franz ferdinand, mew, peter...   \n",
              "\n",
              "                                           prediction  \n",
              "0                                         [in flames]  \n",
              "1            [boards of canada, radiohead, metallica]  \n",
              "2   [radiohead, muse, tool, the killers, arctic mo...  \n",
              "3   [daft punk, coldplay, muse, the killers, arcti...  \n",
              "4                [radiohead, bob dylan, led zeppelin]  \n",
              "5                 [the cure, the beatles, portishead]  \n",
              "6                [the beatles, radiohead, pink floyd]  \n",
              "7      [coldplay, radiohead, britney spears, rihanna]  \n",
              "8                                       [linkin park]  \n",
              "9   [the beatles, coldplay, massive attack, the ro...  \n",
              "10  [metallica, in flames, nightwish, green day, b...  \n",
              "11  [death cab for cutie, coldplay, red hot chili ...  \n",
              "12      [radiohead, death cab for cutie, the beatles]  \n",
              "13  [metallica, nightwish, the cure, the beatles, ...  \n",
              "14  [coldplay, muse, the killers, the beatles, rad...  \n",
              "15  [fall out boy, radiohead, metallica, the beatl...  \n",
              "16                                        [radiohead]  \n",
              "17  [metallica, system of a down, linkin park, mus...  \n",
              "18                                          [rihanna]  \n",
              "19                                                 []  \n",
              "20                                      [the beatles]  \n",
              "21  [linkin park, madonna, coldplay, radiohead, be...  \n",
              "22  [led zeppelin, pink floyd, system of a down, c...  \n",
              "23  [coldplay, red hot chili peppers, radiohead, k...  \n",
              "24  [red hot chili peppers, radiohead, the beatles...  \n",
              "25     [muse, radiohead, metallica, system of a down]  \n",
              "26            [radiohead, the beatles, coldplay, air]  \n",
              "27  [red hot chili peppers, the beatles, koЯn, met...  \n",
              "28  [metallica, nightwish, koЯn, system of a down,...  \n",
              "29  [the beatles, radiohead, the rolling stones, p...  \n",
              "30                 [coldplay, the killers, radiohead]  \n",
              "31                                   [britney spears]  \n",
              "32                  [portishead, radiohead, coldplay]  \n",
              "33  [coldplay, radiohead, the killers, the cure, f...  \n",
              "34                         [nas, coldplay, radiohead]  \n",
              "35  [radiohead, nirvana, slipknot, muse, a perfect...  \n",
              "36  [coldplay, red hot chili peppers, radiohead, m...  \n",
              "37  [coldplay, kanye west, the beatles, fall out b...  \n",
              "38  [coldplay, the beatles, the shins, red hot chi...  \n",
              "39  [coldplay, radiohead, muse, a perfect circle, ...  \n",
              "40                                        [radiohead]  \n",
              "41  [the beatles, the smiths, red hot chili pepper...  \n",
              "42  [coldplay, the killers, radiohead, linkin park...  \n",
              "43  [muse, coldplay, the beatles, pink floyd, syst...  \n",
              "44  [coldplay, the beatles, radiohead, muse, arcti...  \n",
              "45  [radiohead, pink floyd, the rolling stones, de...  \n",
              "46                                        [radiohead]  \n",
              "47                    [daft punk, radiohead, rihanna]  \n",
              "48  [metallica, in flames, nightwish, coldplay, re...  \n",
              "49  [radiohead, coldplay, muse, the killers, arcti...  "
            ],
            "text/html": [
              "\n",
              "  <div id=\"df-9c2931c5-d7c7-4287-8d3f-39c022b229a4\">\n",
              "    <div class=\"colab-df-container\">\n",
              "      <div>\n",
              "<style scoped>\n",
              "    .dataframe tbody tr th:only-of-type {\n",
              "        vertical-align: middle;\n",
              "    }\n",
              "\n",
              "    .dataframe tbody tr th {\n",
              "        vertical-align: top;\n",
              "    }\n",
              "\n",
              "    .dataframe thead th {\n",
              "        text-align: right;\n",
              "    }\n",
              "</style>\n",
              "<table border=\"1\" class=\"dataframe\">\n",
              "  <thead>\n",
              "    <tr style=\"text-align: right;\">\n",
              "      <th></th>\n",
              "      <th>user</th>\n",
              "      <th>artist</th>\n",
              "      <th>prediction</th>\n",
              "    </tr>\n",
              "  </thead>\n",
              "  <tbody>\n",
              "    <tr>\n",
              "      <th>0</th>\n",
              "      <td>5</td>\n",
              "      <td>[dream theater, megadeth, volbeat, iron maiden...</td>\n",
              "      <td>[in flames]</td>\n",
              "    </tr>\n",
              "    <tr>\n",
              "      <th>1</th>\n",
              "      <td>18</td>\n",
              "      <td>[fleetwood mac, sonata arctica, creedence clea...</td>\n",
              "      <td>[boards of canada, radiohead, metallica]</td>\n",
              "    </tr>\n",
              "    <tr>\n",
              "      <th>2</th>\n",
              "      <td>19</td>\n",
              "      <td>[bloc party, bob marley &amp; the wailers, n*e*r*d...</td>\n",
              "      <td>[radiohead, muse, tool, the killers, arctic mo...</td>\n",
              "    </tr>\n",
              "    <tr>\n",
              "      <th>3</th>\n",
              "      <td>23</td>\n",
              "      <td>[jamiroquai, ramones, franz ferdinand, the kin...</td>\n",
              "      <td>[daft punk, coldplay, muse, the killers, arcti...</td>\n",
              "    </tr>\n",
              "    <tr>\n",
              "      <th>4</th>\n",
              "      <td>24</td>\n",
              "      <td>[the rolling stones, bruce springsteen, johnny...</td>\n",
              "      <td>[radiohead, bob dylan, led zeppelin]</td>\n",
              "    </tr>\n",
              "    <tr>\n",
              "      <th>5</th>\n",
              "      <td>31</td>\n",
              "      <td>[róisín murphy, jamie cullum, thievery corpora...</td>\n",
              "      <td>[the cure, the beatles, portishead]</td>\n",
              "    </tr>\n",
              "    <tr>\n",
              "      <th>6</th>\n",
              "      <td>32</td>\n",
              "      <td>[leonard cohen, peaches, misfits, Édith piaf, ...</td>\n",
              "      <td>[the beatles, radiohead, pink floyd]</td>\n",
              "    </tr>\n",
              "    <tr>\n",
              "      <th>7</th>\n",
              "      <td>38</td>\n",
              "      <td>[the beatles, adele, elton john, john legend, ...</td>\n",
              "      <td>[coldplay, radiohead, britney spears, rihanna]</td>\n",
              "    </tr>\n",
              "    <tr>\n",
              "      <th>8</th>\n",
              "      <td>42</td>\n",
              "      <td>[avril lavigne, evanescence, nightwish, as i l...</td>\n",
              "      <td>[linkin park]</td>\n",
              "    </tr>\n",
              "    <tr>\n",
              "      <th>9</th>\n",
              "      <td>47</td>\n",
              "      <td>[tom waits, kate bush, david bowie, johnny cas...</td>\n",
              "      <td>[the beatles, coldplay, massive attack, the ro...</td>\n",
              "    </tr>\n",
              "    <tr>\n",
              "      <th>10</th>\n",
              "      <td>48</td>\n",
              "      <td>[disturbed, rammstein, parkway drive, children...</td>\n",
              "      <td>[metallica, in flames, nightwish, green day, b...</td>\n",
              "    </tr>\n",
              "    <tr>\n",
              "      <th>11</th>\n",
              "      <td>51</td>\n",
              "      <td>[billy talent, paolo nutini, klaxons, the last...</td>\n",
              "      <td>[death cab for cutie, coldplay, red hot chili ...</td>\n",
              "    </tr>\n",
              "    <tr>\n",
              "      <th>12</th>\n",
              "      <td>55</td>\n",
              "      <td>[deerhoof, tokyo police club, bon iver, explos...</td>\n",
              "      <td>[radiohead, death cab for cutie, the beatles]</td>\n",
              "    </tr>\n",
              "    <tr>\n",
              "      <th>13</th>\n",
              "      <td>58</td>\n",
              "      <td>[children of bodom, flogging molly, red hot ch...</td>\n",
              "      <td>[metallica, nightwish, the cure, the beatles, ...</td>\n",
              "    </tr>\n",
              "    <tr>\n",
              "      <th>14</th>\n",
              "      <td>59</td>\n",
              "      <td>[arctic monkeys, the strokes, beirut, adam gre...</td>\n",
              "      <td>[coldplay, muse, the killers, the beatles, rad...</td>\n",
              "    </tr>\n",
              "    <tr>\n",
              "      <th>15</th>\n",
              "      <td>70</td>\n",
              "      <td>[the cardigans, paramore, the all-american rej...</td>\n",
              "      <td>[fall out boy, radiohead, metallica, the beatl...</td>\n",
              "    </tr>\n",
              "    <tr>\n",
              "      <th>16</th>\n",
              "      <td>75</td>\n",
              "      <td>[caliban, benny benassi, rise against, flyleaf...</td>\n",
              "      <td>[radiohead]</td>\n",
              "    </tr>\n",
              "    <tr>\n",
              "      <th>17</th>\n",
              "      <td>82</td>\n",
              "      <td>[nightwish, coldplay, arch enemy, slipknot, la...</td>\n",
              "      <td>[metallica, system of a down, linkin park, mus...</td>\n",
              "    </tr>\n",
              "    <tr>\n",
              "      <th>18</th>\n",
              "      <td>83</td>\n",
              "      <td>[black eyed peas, dido, nelly furtado]</td>\n",
              "      <td>[rihanna]</td>\n",
              "    </tr>\n",
              "    <tr>\n",
              "      <th>19</th>\n",
              "      <td>86</td>\n",
              "      <td>[porcupine tree, anathema, agalloch]</td>\n",
              "      <td>[]</td>\n",
              "    </tr>\n",
              "    <tr>\n",
              "      <th>20</th>\n",
              "      <td>91</td>\n",
              "      <td>[vangelis, kraftwerk, enigma, the beach boys, ...</td>\n",
              "      <td>[the beatles]</td>\n",
              "    </tr>\n",
              "    <tr>\n",
              "      <th>21</th>\n",
              "      <td>92</td>\n",
              "      <td>[nickelback, paul oakenfold, a-ha, muse, infec...</td>\n",
              "      <td>[linkin park, madonna, coldplay, radiohead, be...</td>\n",
              "    </tr>\n",
              "    <tr>\n",
              "      <th>22</th>\n",
              "      <td>97</td>\n",
              "      <td>[queens of the stone age, sonic youth, ramones...</td>\n",
              "      <td>[led zeppelin, pink floyd, system of a down, c...</td>\n",
              "    </tr>\n",
              "    <tr>\n",
              "      <th>23</th>\n",
              "      <td>101</td>\n",
              "      <td>[ramones, bob dylan, the offspring, turbonegro...</td>\n",
              "      <td>[coldplay, red hot chili peppers, radiohead, k...</td>\n",
              "    </tr>\n",
              "    <tr>\n",
              "      <th>24</th>\n",
              "      <td>113</td>\n",
              "      <td>[emilie autumn, boards of canada, primus, drop...</td>\n",
              "      <td>[red hot chili peppers, radiohead, the beatles...</td>\n",
              "    </tr>\n",
              "    <tr>\n",
              "      <th>25</th>\n",
              "      <td>123</td>\n",
              "      <td>[moonspell, queens of the stone age, nofx, chr...</td>\n",
              "      <td>[muse, radiohead, metallica, system of a down]</td>\n",
              "    </tr>\n",
              "    <tr>\n",
              "      <th>26</th>\n",
              "      <td>127</td>\n",
              "      <td>[death cab for cutie, the cure, the last shado...</td>\n",
              "      <td>[radiohead, the beatles, coldplay, air]</td>\n",
              "    </tr>\n",
              "    <tr>\n",
              "      <th>27</th>\n",
              "      <td>138</td>\n",
              "      <td>[afi, linkin park, billy talent, papa roach, y...</td>\n",
              "      <td>[red hot chili peppers, the beatles, koЯn, met...</td>\n",
              "    </tr>\n",
              "    <tr>\n",
              "      <th>28</th>\n",
              "      <td>141</td>\n",
              "      <td>[ill niño, parkway drive, stone sour, children...</td>\n",
              "      <td>[metallica, nightwish, koЯn, system of a down,...</td>\n",
              "    </tr>\n",
              "    <tr>\n",
              "      <th>29</th>\n",
              "      <td>147</td>\n",
              "      <td>[the kinks, the dandy warhols, led zeppelin, d...</td>\n",
              "      <td>[the beatles, radiohead, the rolling stones, p...</td>\n",
              "    </tr>\n",
              "    <tr>\n",
              "      <th>30</th>\n",
              "      <td>154</td>\n",
              "      <td>[mgmt, damian marley, erykah badu, matisyahu, ...</td>\n",
              "      <td>[coldplay, the killers, radiohead]</td>\n",
              "    </tr>\n",
              "    <tr>\n",
              "      <th>31</th>\n",
              "      <td>156</td>\n",
              "      <td>[hilary duff, leona lewis, enrique iglesias, l...</td>\n",
              "      <td>[britney spears]</td>\n",
              "    </tr>\n",
              "    <tr>\n",
              "      <th>32</th>\n",
              "      <td>160</td>\n",
              "      <td>[jamiroquai, michael jackson, the prodigy, red...</td>\n",
              "      <td>[portishead, radiohead, coldplay]</td>\n",
              "    </tr>\n",
              "    <tr>\n",
              "      <th>33</th>\n",
              "      <td>169</td>\n",
              "      <td>[bob dylan, adam green, elliott smith, joy div...</td>\n",
              "      <td>[coldplay, radiohead, the killers, the cure, f...</td>\n",
              "    </tr>\n",
              "    <tr>\n",
              "      <th>34</th>\n",
              "      <td>171</td>\n",
              "      <td>[lil wayne, miley cyrus, the fray, daft punk, ...</td>\n",
              "      <td>[nas, coldplay, radiohead]</td>\n",
              "    </tr>\n",
              "    <tr>\n",
              "      <th>35</th>\n",
              "      <td>173</td>\n",
              "      <td>[nine inch nails, metallica, stratovarius, los...</td>\n",
              "      <td>[radiohead, nirvana, slipknot, muse, a perfect...</td>\n",
              "    </tr>\n",
              "    <tr>\n",
              "      <th>36</th>\n",
              "      <td>177</td>\n",
              "      <td>[nada surf, john williams, john mayer, jason m...</td>\n",
              "      <td>[coldplay, red hot chili peppers, radiohead, m...</td>\n",
              "    </tr>\n",
              "    <tr>\n",
              "      <th>37</th>\n",
              "      <td>182</td>\n",
              "      <td>[atmosphere, sia, zero 7, the roots, jazzanova...</td>\n",
              "      <td>[coldplay, kanye west, the beatles, fall out b...</td>\n",
              "    </tr>\n",
              "    <tr>\n",
              "      <th>38</th>\n",
              "      <td>183</td>\n",
              "      <td>[oasis, ryan adams, animal collective, radiohe...</td>\n",
              "      <td>[coldplay, the beatles, the shins, red hot chi...</td>\n",
              "    </tr>\n",
              "    <tr>\n",
              "      <th>39</th>\n",
              "      <td>184</td>\n",
              "      <td>[the prodigy, [unknown], queens of the stone a...</td>\n",
              "      <td>[coldplay, radiohead, muse, a perfect circle, ...</td>\n",
              "    </tr>\n",
              "    <tr>\n",
              "      <th>40</th>\n",
              "      <td>186</td>\n",
              "      <td>[tv on the radio, apparat, vnv nation]</td>\n",
              "      <td>[radiohead]</td>\n",
              "    </tr>\n",
              "    <tr>\n",
              "      <th>41</th>\n",
              "      <td>188</td>\n",
              "      <td>[muse, aimee mann, barenaked ladies, travis, f...</td>\n",
              "      <td>[the beatles, the smiths, red hot chili pepper...</td>\n",
              "    </tr>\n",
              "    <tr>\n",
              "      <th>42</th>\n",
              "      <td>194</td>\n",
              "      <td>[roxette, kaiser chiefs, fugazi, the white str...</td>\n",
              "      <td>[coldplay, the killers, radiohead, linkin park...</td>\n",
              "    </tr>\n",
              "    <tr>\n",
              "      <th>43</th>\n",
              "      <td>198</td>\n",
              "      <td>[faith no more, múm, radiohead, air, portishea...</td>\n",
              "      <td>[muse, coldplay, the beatles, pink floyd, syst...</td>\n",
              "    </tr>\n",
              "    <tr>\n",
              "      <th>44</th>\n",
              "      <td>199</td>\n",
              "      <td>[lcd soundsystem, emilíana torrini, the new po...</td>\n",
              "      <td>[coldplay, the beatles, radiohead, muse, arcti...</td>\n",
              "    </tr>\n",
              "    <tr>\n",
              "      <th>45</th>\n",
              "      <td>200</td>\n",
              "      <td>[muse, the verve, coldplay, oasis, the doors, ...</td>\n",
              "      <td>[radiohead, pink floyd, the rolling stones, de...</td>\n",
              "    </tr>\n",
              "    <tr>\n",
              "      <th>46</th>\n",
              "      <td>202</td>\n",
              "      <td>[mika, josé gonzález, Édith piaf, antonio viva...</td>\n",
              "      <td>[radiohead]</td>\n",
              "    </tr>\n",
              "    <tr>\n",
              "      <th>47</th>\n",
              "      <td>207</td>\n",
              "      <td>[a-ha, sigur rós, robbie williams, eminem, nel...</td>\n",
              "      <td>[daft punk, radiohead, rihanna]</td>\n",
              "    </tr>\n",
              "    <tr>\n",
              "      <th>48</th>\n",
              "      <td>208</td>\n",
              "      <td>[rob zombie, velvet revolver, alanis morissett...</td>\n",
              "      <td>[metallica, in flames, nightwish, coldplay, re...</td>\n",
              "    </tr>\n",
              "    <tr>\n",
              "      <th>49</th>\n",
              "      <td>213</td>\n",
              "      <td>[air, arcade fire, franz ferdinand, mew, peter...</td>\n",
              "      <td>[radiohead, coldplay, muse, the killers, arcti...</td>\n",
              "    </tr>\n",
              "  </tbody>\n",
              "</table>\n",
              "</div>\n",
              "      <button class=\"colab-df-convert\" onclick=\"convertToInteractive('df-9c2931c5-d7c7-4287-8d3f-39c022b229a4')\"\n",
              "              title=\"Convert this dataframe to an interactive table.\"\n",
              "              style=\"display:none;\">\n",
              "        \n",
              "  <svg xmlns=\"http://www.w3.org/2000/svg\" height=\"24px\"viewBox=\"0 0 24 24\"\n",
              "       width=\"24px\">\n",
              "    <path d=\"M0 0h24v24H0V0z\" fill=\"none\"/>\n",
              "    <path d=\"M18.56 5.44l.94 2.06.94-2.06 2.06-.94-2.06-.94-.94-2.06-.94 2.06-2.06.94zm-11 1L8.5 8.5l.94-2.06 2.06-.94-2.06-.94L8.5 2.5l-.94 2.06-2.06.94zm10 10l.94 2.06.94-2.06 2.06-.94-2.06-.94-.94-2.06-.94 2.06-2.06.94z\"/><path d=\"M17.41 7.96l-1.37-1.37c-.4-.4-.92-.59-1.43-.59-.52 0-1.04.2-1.43.59L10.3 9.45l-7.72 7.72c-.78.78-.78 2.05 0 2.83L4 21.41c.39.39.9.59 1.41.59.51 0 1.02-.2 1.41-.59l7.78-7.78 2.81-2.81c.8-.78.8-2.07 0-2.86zM5.41 20L4 18.59l7.72-7.72 1.47 1.35L5.41 20z\"/>\n",
              "  </svg>\n",
              "      </button>\n",
              "      \n",
              "  <style>\n",
              "    .colab-df-container {\n",
              "      display:flex;\n",
              "      flex-wrap:wrap;\n",
              "      gap: 12px;\n",
              "    }\n",
              "\n",
              "    .colab-df-convert {\n",
              "      background-color: #E8F0FE;\n",
              "      border: none;\n",
              "      border-radius: 50%;\n",
              "      cursor: pointer;\n",
              "      display: none;\n",
              "      fill: #1967D2;\n",
              "      height: 32px;\n",
              "      padding: 0 0 0 0;\n",
              "      width: 32px;\n",
              "    }\n",
              "\n",
              "    .colab-df-convert:hover {\n",
              "      background-color: #E2EBFA;\n",
              "      box-shadow: 0px 1px 2px rgba(60, 64, 67, 0.3), 0px 1px 3px 1px rgba(60, 64, 67, 0.15);\n",
              "      fill: #174EA6;\n",
              "    }\n",
              "\n",
              "    [theme=dark] .colab-df-convert {\n",
              "      background-color: #3B4455;\n",
              "      fill: #D2E3FC;\n",
              "    }\n",
              "\n",
              "    [theme=dark] .colab-df-convert:hover {\n",
              "      background-color: #434B5C;\n",
              "      box-shadow: 0px 1px 3px 1px rgba(0, 0, 0, 0.15);\n",
              "      filter: drop-shadow(0px 1px 2px rgba(0, 0, 0, 0.3));\n",
              "      fill: #FFFFFF;\n",
              "    }\n",
              "  </style>\n",
              "\n",
              "      <script>\n",
              "        const buttonEl =\n",
              "          document.querySelector('#df-9c2931c5-d7c7-4287-8d3f-39c022b229a4 button.colab-df-convert');\n",
              "        buttonEl.style.display =\n",
              "          google.colab.kernel.accessAllowed ? 'block' : 'none';\n",
              "\n",
              "        async function convertToInteractive(key) {\n",
              "          const element = document.querySelector('#df-9c2931c5-d7c7-4287-8d3f-39c022b229a4');\n",
              "          const dataTable =\n",
              "            await google.colab.kernel.invokeFunction('convertToInteractive',\n",
              "                                                     [key], {});\n",
              "          if (!dataTable) return;\n",
              "\n",
              "          const docLinkHtml = 'Like what you see? Visit the ' +\n",
              "            '<a target=\"_blank\" href=https://colab.research.google.com/notebooks/data_table.ipynb>data table notebook</a>'\n",
              "            + ' to learn more about interactive tables.';\n",
              "          element.innerHTML = '';\n",
              "          dataTable['output_type'] = 'display_data';\n",
              "          await google.colab.output.renderOutput(dataTable, element);\n",
              "          const docLink = document.createElement('div');\n",
              "          docLink.innerHTML = docLinkHtml;\n",
              "          element.appendChild(docLink);\n",
              "        }\n",
              "      </script>\n",
              "    </div>\n",
              "  </div>\n",
              "  "
            ]
          },
          "metadata": {},
          "execution_count": 51
        }
      ]
    },
    {
      "cell_type": "markdown",
      "source": [
        "### **2. Tuning the Hyper parameter the second time to get the better Optimal combination for lift**"
      ],
      "metadata": {
        "id": "QvtRtSCgymsh"
      }
    },
    {
      "cell_type": "code",
      "source": [
        "#Second Parameters Tuning- changed the minConfidence\n",
        "lastfm_fp_growth_2 = FPGrowth(itemsCol=\"artist\", minSupport=0.02, minConfidence=0.1)\n",
        "lastfm_model_2 = lastfm_fp_growth_2.fit(train)"
      ],
      "metadata": {
        "id": "Lc2zK1ujZdGe"
      },
      "execution_count": null,
      "outputs": []
    },
    {
      "cell_type": "code",
      "source": [
        "print(lastfm_model_2.freqItemsets.count())\n",
        "print(lastfm_model_2.associationRules.count())"
      ],
      "metadata": {
        "colab": {
          "base_uri": "https://localhost:8080/"
        },
        "id": "toOMkwEXZcrV",
        "outputId": "c59ca0e6-be49-4eaf-843f-2cb5fffdc355"
      },
      "execution_count": null,
      "outputs": [
        {
          "output_type": "stream",
          "name": "stdout",
          "text": [
            "405\n"
          ]
        }
      ]
    },
    {
      "cell_type": "code",
      "source": [
        "lastfm_model_2.freqItemsets.take(5)"
      ],
      "metadata": {
        "id": "G4aVpm6fzbP9"
      },
      "execution_count": null,
      "outputs": []
    },
    {
      "cell_type": "code",
      "source": [
        "Viz_lastfm_model_2= lastfm_model_2.freqItemsets.orderBy(\"freq\", ascending=False).toPandas()"
      ],
      "metadata": {
        "id": "17fVCJwdzbEj"
      },
      "execution_count": null,
      "outputs": []
    },
    {
      "cell_type": "code",
      "source": [
        "Viz_lastfm_model_2.head(20)"
      ],
      "metadata": {
        "colab": {
          "base_uri": "https://localhost:8080/",
          "height": 206
        },
        "id": "k0pNHnEWzgy8",
        "outputId": "f46475da-f160-488a-f7ca-0cffd93c4603"
      },
      "execution_count": null,
      "outputs": [
        {
          "data": {
            "text/html": [
              "\n",
              "  <div id=\"df-d967ebc1-91fe-4e9b-8cdb-a9b12509c265\">\n",
              "    <div class=\"colab-df-container\">\n",
              "      <div>\n",
              "<style scoped>\n",
              "    .dataframe tbody tr th:only-of-type {\n",
              "        vertical-align: middle;\n",
              "    }\n",
              "\n",
              "    .dataframe tbody tr th {\n",
              "        vertical-align: top;\n",
              "    }\n",
              "\n",
              "    .dataframe thead th {\n",
              "        text-align: right;\n",
              "    }\n",
              "</style>\n",
              "<table border=\"1\" class=\"dataframe\">\n",
              "  <thead>\n",
              "    <tr style=\"text-align: right;\">\n",
              "      <th></th>\n",
              "      <th>items</th>\n",
              "      <th>freq</th>\n",
              "    </tr>\n",
              "  </thead>\n",
              "  <tbody>\n",
              "    <tr>\n",
              "      <th>0</th>\n",
              "      <td>[radiohead]</td>\n",
              "      <td>1925</td>\n",
              "    </tr>\n",
              "    <tr>\n",
              "      <th>1</th>\n",
              "      <td>[the beatles]</td>\n",
              "      <td>1856</td>\n",
              "    </tr>\n",
              "    <tr>\n",
              "      <th>2</th>\n",
              "      <td>[coldplay]</td>\n",
              "      <td>1662</td>\n",
              "    </tr>\n",
              "    <tr>\n",
              "      <th>3</th>\n",
              "      <td>[red hot chili peppers]</td>\n",
              "      <td>1211</td>\n",
              "    </tr>\n",
              "    <tr>\n",
              "      <th>4</th>\n",
              "      <td>[muse]</td>\n",
              "      <td>1190</td>\n",
              "    </tr>\n",
              "  </tbody>\n",
              "</table>\n",
              "</div>\n",
              "      <button class=\"colab-df-convert\" onclick=\"convertToInteractive('df-d967ebc1-91fe-4e9b-8cdb-a9b12509c265')\"\n",
              "              title=\"Convert this dataframe to an interactive table.\"\n",
              "              style=\"display:none;\">\n",
              "        \n",
              "  <svg xmlns=\"http://www.w3.org/2000/svg\" height=\"24px\"viewBox=\"0 0 24 24\"\n",
              "       width=\"24px\">\n",
              "    <path d=\"M0 0h24v24H0V0z\" fill=\"none\"/>\n",
              "    <path d=\"M18.56 5.44l.94 2.06.94-2.06 2.06-.94-2.06-.94-.94-2.06-.94 2.06-2.06.94zm-11 1L8.5 8.5l.94-2.06 2.06-.94-2.06-.94L8.5 2.5l-.94 2.06-2.06.94zm10 10l.94 2.06.94-2.06 2.06-.94-2.06-.94-.94-2.06-.94 2.06-2.06.94z\"/><path d=\"M17.41 7.96l-1.37-1.37c-.4-.4-.92-.59-1.43-.59-.52 0-1.04.2-1.43.59L10.3 9.45l-7.72 7.72c-.78.78-.78 2.05 0 2.83L4 21.41c.39.39.9.59 1.41.59.51 0 1.02-.2 1.41-.59l7.78-7.78 2.81-2.81c.8-.78.8-2.07 0-2.86zM5.41 20L4 18.59l7.72-7.72 1.47 1.35L5.41 20z\"/>\n",
              "  </svg>\n",
              "      </button>\n",
              "      \n",
              "  <style>\n",
              "    .colab-df-container {\n",
              "      display:flex;\n",
              "      flex-wrap:wrap;\n",
              "      gap: 12px;\n",
              "    }\n",
              "\n",
              "    .colab-df-convert {\n",
              "      background-color: #E8F0FE;\n",
              "      border: none;\n",
              "      border-radius: 50%;\n",
              "      cursor: pointer;\n",
              "      display: none;\n",
              "      fill: #1967D2;\n",
              "      height: 32px;\n",
              "      padding: 0 0 0 0;\n",
              "      width: 32px;\n",
              "    }\n",
              "\n",
              "    .colab-df-convert:hover {\n",
              "      background-color: #E2EBFA;\n",
              "      box-shadow: 0px 1px 2px rgba(60, 64, 67, 0.3), 0px 1px 3px 1px rgba(60, 64, 67, 0.15);\n",
              "      fill: #174EA6;\n",
              "    }\n",
              "\n",
              "    [theme=dark] .colab-df-convert {\n",
              "      background-color: #3B4455;\n",
              "      fill: #D2E3FC;\n",
              "    }\n",
              "\n",
              "    [theme=dark] .colab-df-convert:hover {\n",
              "      background-color: #434B5C;\n",
              "      box-shadow: 0px 1px 3px 1px rgba(0, 0, 0, 0.15);\n",
              "      filter: drop-shadow(0px 1px 2px rgba(0, 0, 0, 0.3));\n",
              "      fill: #FFFFFF;\n",
              "    }\n",
              "  </style>\n",
              "\n",
              "      <script>\n",
              "        const buttonEl =\n",
              "          document.querySelector('#df-d967ebc1-91fe-4e9b-8cdb-a9b12509c265 button.colab-df-convert');\n",
              "        buttonEl.style.display =\n",
              "          google.colab.kernel.accessAllowed ? 'block' : 'none';\n",
              "\n",
              "        async function convertToInteractive(key) {\n",
              "          const element = document.querySelector('#df-d967ebc1-91fe-4e9b-8cdb-a9b12509c265');\n",
              "          const dataTable =\n",
              "            await google.colab.kernel.invokeFunction('convertToInteractive',\n",
              "                                                     [key], {});\n",
              "          if (!dataTable) return;\n",
              "\n",
              "          const docLinkHtml = 'Like what you see? Visit the ' +\n",
              "            '<a target=\"_blank\" href=https://colab.research.google.com/notebooks/data_table.ipynb>data table notebook</a>'\n",
              "            + ' to learn more about interactive tables.';\n",
              "          element.innerHTML = '';\n",
              "          dataTable['output_type'] = 'display_data';\n",
              "          await google.colab.output.renderOutput(dataTable, element);\n",
              "          const docLink = document.createElement('div');\n",
              "          docLink.innerHTML = docLinkHtml;\n",
              "          element.appendChild(docLink);\n",
              "        }\n",
              "      </script>\n",
              "    </div>\n",
              "  </div>\n",
              "  "
            ],
            "text/plain": [
              "                     items  freq\n",
              "0              [radiohead]  1925\n",
              "1            [the beatles]  1856\n",
              "2               [coldplay]  1662\n",
              "3  [red hot chili peppers]  1211\n",
              "4                   [muse]  1190"
            ]
          },
          "execution_count": 56,
          "metadata": {},
          "output_type": "execute_result"
        }
      ]
    },
    {
      "cell_type": "code",
      "source": [
        "print(lastfm_model_2.associationRules.show())"
      ],
      "metadata": {
        "colab": {
          "base_uri": "https://localhost:8080/"
        },
        "id": "nSgpb5_wqgcL",
        "outputId": "aa8476a8-4b0b-4946-eb20-c45d3db4c0dd"
      },
      "execution_count": null,
      "outputs": [
        {
          "metadata": {
            "tags": null
          },
          "name": "stdout",
          "output_type": "stream",
          "text": [
            "+--------------------+--------------------+-------------------+------------------+--------------------+\n",
            "|          antecedent|          consequent|         confidence|              lift|             support|\n",
            "+--------------------+--------------------+-------------------+------------------+--------------------+\n",
            "|[red hot chili pe...|         [green day]|0.18166804293971925|2.6001238645747318|0.020884754129485476|\n",
            "|[red hot chili pe...|           [nirvana]|0.24277456647398843| 2.492580198086739| 0.02790962597303968|\n",
            "|[red hot chili pe...|      [foo fighters]|0.21139554087530965|2.8733427452651763|0.024302259350674007|\n",
            "|[red hot chili pe...|         [metallica]| 0.2213047068538398|  2.06302989557376| 0.02544142775773685|\n",
            "|[red hot chili pe...|              [muse]|0.23038810900082576| 2.039418773289663|0.026485665464211126|\n",
            "|[red hot chili pe...|  [system of a down]|0.22213047068538397|2.4527488241088413| 0.02553635845832542|\n",
            "|[red hot chili pe...|       [linkin park]|0.21469859620148637| 2.286789699076297| 0.02468198215302829|\n",
            "|[red hot chili pe...|          [coldplay]|0.33030553261767137|2.0935249582398017| 0.03797228023542814|\n",
            "|[red hot chili pe...|       [the beatles]|  0.282411230388109|1.6028663259204419|0.032466299601291056|\n",
            "|[red hot chili pe...|         [radiohead]| 0.2675474814203138|1.4640754126138107|0.030757546990696792|\n",
            "|       [snow patrol]|          [coldplay]| 0.5177570093457944|3.2816199376947037|0.026295804063033987|\n",
            "|         [metallica]|           [nirvana]|0.22920353982300884|2.3532457002880847| 0.02458705145243972|\n",
            "|         [metallica]|         [rammstein]| 0.1929203539823009| 2.810820205877673|0.020694892728308333|\n",
            "|         [metallica]|       [the beatles]|0.20353982300884957|1.1552200945987183|0.021834061135371178|\n",
            "|         [metallica]|[red hot chili pe...|0.23716814159292035|  2.06302989557376| 0.02544142775773685|\n",
            "|         [metallica]|       [iron maiden]| 0.2734513274336283| 4.608858053097346|0.029333586481868235|\n",
            "|         [metallica]|  [system of a down]|0.27256637168141595|3.0096584478952155|0.029238655781279665|\n",
            "|         [metallica]|             [ac/dc]|0.20530973451327433| 3.271910353045131| 0.02202392253654832|\n",
            "|         [metallica]|        [pink floyd]|0.19823008849557522| 1.900050729947579|0.021264476931839756|\n",
            "|[the smashing pum...|         [radiohead]| 0.4795144157814871| 2.624002522515421| 0.02999810138598823|\n",
            "+--------------------+--------------------+-------------------+------------------+--------------------+\n",
            "only showing top 20 rows\n",
            "\n",
            "None\n"
          ]
        }
      ]
    },
    {
      "cell_type": "code",
      "source": [
        "df_2 = print(lastfm_model_2.associationRules.orderBy(\"lift\", ascending=False).toPandas().head())"
      ],
      "metadata": {
        "colab": {
          "base_uri": "https://localhost:8080/"
        },
        "id": "AZkzOk9VqzQw",
        "outputId": "c6d5bf4c-4b80-49fb-d536-b9e12814fd7f"
      },
      "execution_count": null,
      "outputs": [
        {
          "metadata": {
            "tags": null
          },
          "name": "stdout",
          "output_type": "stream",
          "text": [
            "              antecedent             consequent  confidence      lift  \\\n",
            "0           [portishead]       [massive attack]    0.335294  5.089320   \n",
            "1       [massive attack]           [portishead]    0.328530  5.089320   \n",
            "2            [the shins]  [death cab for cutie]    0.415270  5.005097   \n",
            "3  [death cab for cutie]            [the shins]    0.255149  5.005097   \n",
            "4                 [koЯn]     [system of a down]    0.445283  4.916783   \n",
            "\n",
            "    support  \n",
            "0  0.021644  \n",
            "1  0.021644  \n",
            "2  0.021170  \n",
            "3  0.021170  \n",
            "4  0.022404  \n"
          ]
        }
      ]
    },
    {
      "cell_type": "code",
      "source": [
        "lastfm_new_output_2 = lastfm_model_2.transform(test)"
      ],
      "metadata": {
        "id": "Sb5wssJOorNo"
      },
      "execution_count": null,
      "outputs": []
    },
    {
      "cell_type": "code",
      "source": [
        "lastfm_new_output_2"
      ],
      "metadata": {
        "colab": {
          "base_uri": "https://localhost:8080/"
        },
        "id": "c1b6MpXdorC6",
        "outputId": "31f0ca64-7f24-45c5-f5d3-575fe805c9d1"
      },
      "execution_count": null,
      "outputs": [
        {
          "data": {
            "text/plain": [
              "DataFrame[user: int, artist: array<string>, prediction: array<string>]"
            ]
          },
          "execution_count": 60,
          "metadata": {},
          "output_type": "execute_result"
        }
      ]
    },
    {
      "cell_type": "code",
      "source": [
        "lastfm_new_output_2.take(5)"
      ],
      "metadata": {
        "colab": {
          "base_uri": "https://localhost:8080/"
        },
        "id": "I7-dRRJvoq5k",
        "outputId": "7d8974d9-1066-43b8-f75e-647458644036"
      },
      "execution_count": null,
      "outputs": [
        {
          "data": {
            "text/plain": [
              "[Row(user=5, artist=['dream theater', 'megadeth', 'volbeat', 'iron maiden', 'children of bodom', 'sublime', 'nightwish', 'metallica', 'ac/dc', 'bob marley & the wailers', 'trivium'], prediction=['nirvana', 'rammstein', 'the beatles', 'red hot chili peppers', 'system of a down', 'pink floyd']),\n",
              " Row(user=18, artist=['fleetwood mac', 'sonata arctica', 'creedence clearwater revival', 'aphex twin', 'mindless self indulgence', 'infected mushroom', 'nightwish', 'john williams', 'electric light orchestra', 'iron maiden', 'michael jackson'], prediction=['metallica']),\n",
              " Row(user=19, artist=['bloc party', 'bob marley & the wailers', 'n*e*r*d', 'placebo', 'coldplay', 'the kooks', 'klaxons', 'portishead', 'cut copy', 'the radio dept.', 'thom yorke', 'josé gonzález', 'crystal castles', 'múm', 'sex pistols', 'yo la tengo', 'interpol', 'håkan hellström', 'beirut', 'fischerspooner', 'the postal service', 'a perfect circle', 'beck', 'röyksopp', 'nine inch nails', 'animal collective', 'gorillaz', 'nouvelle vague', 'the kills', 'sonic youth', 'franz ferdinand', 'daft punk', 'ladytron', 'the wombats', 'mgmt', 'the libertines', 'kent', 'cocorosie', 'iron & wine', 'the shins', 'le tigre'], prediction=['the killers', 'radiohead', 'jack johnson', 'keane', 'nirvana', 'death cab for cutie', 'kings of leon', 'oasis', 'foo fighters', 'the beatles', 'queen', 'muse', 'moby', 'u2', 'arctic monkeys', 'snow patrol', 'linkin park', 'sigur rós', 'red hot chili peppers', 'pink floyd', 'massive attack']),\n",
              " Row(user=23, artist=['jamiroquai', 'ramones', 'franz ferdinand', 'the kinks', 'buzzcocks', 'radiohead', 'the pogues', 'mando diao', 'the clash', 'the who', 'the chemical brothers', 'the rolling stones'], prediction=['the beatles', 'bob dylan', 'coldplay', 'the killers', 'the smiths', 'sufjan stevens', 'portishead', 'the shins', 'nirvana', 'the cure', 'belle and sebastian', 'death cab for cutie', 'bloc party', 'kings of leon', 'oasis', 'foo fighters', 'arcade fire', 'the strokes', 'interpol', 'muse', 'placebo', 'air', 'massive attack', 'daft punk', 'u2', 'björk', 'the smashing pumpkins', 'arctic monkeys', 'modest mouse', 'queens of the stone age', 'nine inch nails', 'depeche mode', 'sigur rós', 'red hot chili peppers', 'led zeppelin', 'pixies', 'david bowie', 'beck', 'the white stripes', 'pink floyd']),\n",
              " Row(user=24, artist=['the rolling stones', 'bruce springsteen', 'johnny cash', 'the kinks', 'billy joel', 'leonard cohen', 'jonas brothers', 'queen', 'tom waits', 'neil young', 'the byrds', 'john lennon', 'the beach boys', 'the beatles', 'simon & garfunkel'], prediction=['bob dylan', 'coldplay', 'pink floyd', 'nirvana', 'the cure', 'death cab for cutie', 'oasis', 'metallica', 'muse', 'the killers', 'the doors', 'u2', 'radiohead', 'arctic monkeys', 'red hot chili peppers', 'led zeppelin', 'david bowie', 'beck', 'the white stripes'])]"
            ]
          },
          "execution_count": 61,
          "metadata": {},
          "output_type": "execute_result"
        }
      ]
    },
    {
      "cell_type": "code",
      "source": [
        "lastfm_new_output_2.show(5)"
      ],
      "metadata": {
        "colab": {
          "base_uri": "https://localhost:8080/"
        },
        "id": "_jF2Ifqdr102",
        "outputId": "99ab105b-f90d-4736-99d3-281e52bbf7f3"
      },
      "execution_count": null,
      "outputs": [
        {
          "metadata": {
            "tags": null
          },
          "name": "stdout",
          "output_type": "stream",
          "text": [
            "+----+--------------------+--------------------+\n",
            "|user|              artist|          prediction|\n",
            "+----+--------------------+--------------------+\n",
            "|   5|[dream theater, m...|[nirvana, rammste...|\n",
            "|  18|[fleetwood mac, s...|         [metallica]|\n",
            "|  19|[bloc party, bob ...|[the killers, rad...|\n",
            "|  23|[jamiroquai, ramo...|[the beatles, bob...|\n",
            "|  24|[the rolling ston...|[bob dylan, coldp...|\n",
            "+----+--------------------+--------------------+\n",
            "only showing top 5 rows\n",
            "\n"
          ]
        }
      ]
    },
    {
      "cell_type": "code",
      "source": [
        "lastfm_new_output_2.toPandas().head(20)"
      ],
      "metadata": {
        "colab": {
          "base_uri": "https://localhost:8080/",
          "height": 1000
        },
        "id": "Ek6NRHwpr1lK",
        "outputId": "1498f6df-dff3-4c89-95fd-d48d9f315cc0"
      },
      "execution_count": null,
      "outputs": [
        {
          "data": {
            "text/html": [
              "\n",
              "  <div id=\"df-cd3ad83d-64ee-450a-9e37-2dceca2d956c\">\n",
              "    <div class=\"colab-df-container\">\n",
              "      <div>\n",
              "<style scoped>\n",
              "    .dataframe tbody tr th:only-of-type {\n",
              "        vertical-align: middle;\n",
              "    }\n",
              "\n",
              "    .dataframe tbody tr th {\n",
              "        vertical-align: top;\n",
              "    }\n",
              "\n",
              "    .dataframe thead th {\n",
              "        text-align: right;\n",
              "    }\n",
              "</style>\n",
              "<table border=\"1\" class=\"dataframe\">\n",
              "  <thead>\n",
              "    <tr style=\"text-align: right;\">\n",
              "      <th></th>\n",
              "      <th>user</th>\n",
              "      <th>artist</th>\n",
              "      <th>prediction</th>\n",
              "    </tr>\n",
              "  </thead>\n",
              "  <tbody>\n",
              "    <tr>\n",
              "      <th>0</th>\n",
              "      <td>5</td>\n",
              "      <td>[dream theater, megadeth, volbeat, iron maiden...</td>\n",
              "      <td>[nirvana, rammstein, the beatles, red hot chil...</td>\n",
              "    </tr>\n",
              "    <tr>\n",
              "      <th>1</th>\n",
              "      <td>18</td>\n",
              "      <td>[fleetwood mac, sonata arctica, creedence clea...</td>\n",
              "      <td>[metallica]</td>\n",
              "    </tr>\n",
              "    <tr>\n",
              "      <th>2</th>\n",
              "      <td>19</td>\n",
              "      <td>[bloc party, bob marley &amp; the wailers, n*e*r*d...</td>\n",
              "      <td>[the killers, radiohead, jack johnson, keane, ...</td>\n",
              "    </tr>\n",
              "    <tr>\n",
              "      <th>3</th>\n",
              "      <td>23</td>\n",
              "      <td>[jamiroquai, ramones, franz ferdinand, the kin...</td>\n",
              "      <td>[the beatles, bob dylan, coldplay, the killers...</td>\n",
              "    </tr>\n",
              "    <tr>\n",
              "      <th>4</th>\n",
              "      <td>24</td>\n",
              "      <td>[the rolling stones, bruce springsteen, johnny...</td>\n",
              "      <td>[bob dylan, coldplay, pink floyd, nirvana, the...</td>\n",
              "    </tr>\n",
              "    <tr>\n",
              "      <th>5</th>\n",
              "      <td>31</td>\n",
              "      <td>[róisín murphy, jamie cullum, thievery corpora...</td>\n",
              "      <td>[sufjan stevens, portishead, the shins, nirvan...</td>\n",
              "    </tr>\n",
              "    <tr>\n",
              "      <th>6</th>\n",
              "      <td>32</td>\n",
              "      <td>[leonard cohen, peaches, misfits, Édith piaf, ...</td>\n",
              "      <td>[the beatles]</td>\n",
              "    </tr>\n",
              "    <tr>\n",
              "      <th>7</th>\n",
              "      <td>38</td>\n",
              "      <td>[the beatles, adele, elton john, john legend, ...</td>\n",
              "      <td>[the rolling stones, nirvana, johnny cash, the...</td>\n",
              "    </tr>\n",
              "    <tr>\n",
              "      <th>8</th>\n",
              "      <td>42</td>\n",
              "      <td>[avril lavigne, evanescence, nightwish, as i l...</td>\n",
              "      <td>[]</td>\n",
              "    </tr>\n",
              "    <tr>\n",
              "      <th>9</th>\n",
              "      <td>47</td>\n",
              "      <td>[tom waits, kate bush, david bowie, johnny cas...</td>\n",
              "      <td>[the rolling stones, the beatles, the smiths, ...</td>\n",
              "    </tr>\n",
              "    <tr>\n",
              "      <th>10</th>\n",
              "      <td>48</td>\n",
              "      <td>[disturbed, rammstein, parkway drive, children...</td>\n",
              "      <td>[metallica, system of a down]</td>\n",
              "    </tr>\n",
              "    <tr>\n",
              "      <th>11</th>\n",
              "      <td>51</td>\n",
              "      <td>[billy talent, paolo nutini, klaxons, the last...</td>\n",
              "      <td>[coldplay, muse, the killers, the beatles, rad...</td>\n",
              "    </tr>\n",
              "    <tr>\n",
              "      <th>12</th>\n",
              "      <td>55</td>\n",
              "      <td>[deerhoof, tokyo police club, bon iver, explos...</td>\n",
              "      <td>[radiohead]</td>\n",
              "    </tr>\n",
              "    <tr>\n",
              "      <th>13</th>\n",
              "      <td>58</td>\n",
              "      <td>[children of bodom, flogging molly, red hot ch...</td>\n",
              "      <td>[green day, nirvana, foo fighters, metallica, ...</td>\n",
              "    </tr>\n",
              "    <tr>\n",
              "      <th>14</th>\n",
              "      <td>59</td>\n",
              "      <td>[arctic monkeys, the strokes, beirut, adam gre...</td>\n",
              "      <td>[radiohead, coldplay, muse, the killers, the b...</td>\n",
              "    </tr>\n",
              "    <tr>\n",
              "      <th>15</th>\n",
              "      <td>70</td>\n",
              "      <td>[the cardigans, paramore, the all-american rej...</td>\n",
              "      <td>[red hot chili peppers, nirvana, foo fighters,...</td>\n",
              "    </tr>\n",
              "    <tr>\n",
              "      <th>16</th>\n",
              "      <td>75</td>\n",
              "      <td>[caliban, benny benassi, rise against, flyleaf...</td>\n",
              "      <td>[coldplay, radiohead, system of a down, red ho...</td>\n",
              "    </tr>\n",
              "    <tr>\n",
              "      <th>17</th>\n",
              "      <td>82</td>\n",
              "      <td>[nightwish, coldplay, arch enemy, slipknot, la...</td>\n",
              "      <td>[green day, nirvana, foo fighters, metallica, ...</td>\n",
              "    </tr>\n",
              "    <tr>\n",
              "      <th>18</th>\n",
              "      <td>83</td>\n",
              "      <td>[black eyed peas, dido, nelly furtado]</td>\n",
              "      <td>[]</td>\n",
              "    </tr>\n",
              "    <tr>\n",
              "      <th>19</th>\n",
              "      <td>86</td>\n",
              "      <td>[porcupine tree, anathema, agalloch]</td>\n",
              "      <td>[]</td>\n",
              "    </tr>\n",
              "    <tr>\n",
              "      <th>20</th>\n",
              "      <td>91</td>\n",
              "      <td>[vangelis, kraftwerk, enigma, the beach boys, ...</td>\n",
              "      <td>[]</td>\n",
              "    </tr>\n",
              "    <tr>\n",
              "      <th>21</th>\n",
              "      <td>92</td>\n",
              "      <td>[nickelback, paul oakenfold, a-ha, muse, infec...</td>\n",
              "      <td>[radiohead, nirvana, foo fighters, coldplay, t...</td>\n",
              "    </tr>\n",
              "    <tr>\n",
              "      <th>22</th>\n",
              "      <td>97</td>\n",
              "      <td>[queens of the stone age, sonic youth, ramones...</td>\n",
              "      <td>[coldplay, metallica, muse, red hot chili pepp...</td>\n",
              "    </tr>\n",
              "    <tr>\n",
              "      <th>23</th>\n",
              "      <td>101</td>\n",
              "      <td>[ramones, bob dylan, the offspring, turbonegro...</td>\n",
              "      <td>[nirvana, rammstein, red hot chili peppers, ir...</td>\n",
              "    </tr>\n",
              "    <tr>\n",
              "      <th>24</th>\n",
              "      <td>113</td>\n",
              "      <td>[emilie autumn, boards of canada, primus, drop...</td>\n",
              "      <td>[radiohead, nirvana, foo fighters, coldplay, t...</td>\n",
              "    </tr>\n",
              "    <tr>\n",
              "      <th>25</th>\n",
              "      <td>123</td>\n",
              "      <td>[moonspell, queens of the stone age, nofx, chr...</td>\n",
              "      <td>[radiohead, metallica, system of a down]</td>\n",
              "    </tr>\n",
              "    <tr>\n",
              "      <th>26</th>\n",
              "      <td>127</td>\n",
              "      <td>[death cab for cutie, the cure, the last shado...</td>\n",
              "      <td>[the beatles, radiohead, the shins, coldplay, ...</td>\n",
              "    </tr>\n",
              "    <tr>\n",
              "      <th>27</th>\n",
              "      <td>138</td>\n",
              "      <td>[afi, linkin park, billy talent, papa roach, y...</td>\n",
              "      <td>[the beatles, system of a down, coldplay, red ...</td>\n",
              "    </tr>\n",
              "    <tr>\n",
              "      <th>28</th>\n",
              "      <td>141</td>\n",
              "      <td>[ill niño, parkway drive, stone sour, children...</td>\n",
              "      <td>[]</td>\n",
              "    </tr>\n",
              "    <tr>\n",
              "      <th>29</th>\n",
              "      <td>147</td>\n",
              "      <td>[the kinks, the dandy warhols, led zeppelin, d...</td>\n",
              "      <td>[radiohead, the beatles, pink floyd]</td>\n",
              "    </tr>\n",
              "    <tr>\n",
              "      <th>30</th>\n",
              "      <td>154</td>\n",
              "      <td>[mgmt, damian marley, erykah badu, matisyahu, ...</td>\n",
              "      <td>[]</td>\n",
              "    </tr>\n",
              "    <tr>\n",
              "      <th>31</th>\n",
              "      <td>156</td>\n",
              "      <td>[hilary duff, leona lewis, enrique iglesias, l...</td>\n",
              "      <td>[system of a down, coldplay, red hot chili pep...</td>\n",
              "    </tr>\n",
              "    <tr>\n",
              "      <th>32</th>\n",
              "      <td>160</td>\n",
              "      <td>[jamiroquai, michael jackson, the prodigy, red...</td>\n",
              "      <td>[green day, nirvana, foo fighters, metallica, ...</td>\n",
              "    </tr>\n",
              "    <tr>\n",
              "      <th>33</th>\n",
              "      <td>169</td>\n",
              "      <td>[bob dylan, adam green, elliott smith, joy div...</td>\n",
              "      <td>[radiohead, the shins, coldplay, nirvana, foo ...</td>\n",
              "    </tr>\n",
              "    <tr>\n",
              "      <th>34</th>\n",
              "      <td>171</td>\n",
              "      <td>[lil wayne, miley cyrus, the fray, daft punk, ...</td>\n",
              "      <td>[bloc party, coldplay, muse, the beatles, radi...</td>\n",
              "    </tr>\n",
              "    <tr>\n",
              "      <th>35</th>\n",
              "      <td>173</td>\n",
              "      <td>[nine inch nails, metallica, stratovarius, los...</td>\n",
              "      <td>[nirvana, muse, radiohead, rammstein, ac/dc, p...</td>\n",
              "    </tr>\n",
              "    <tr>\n",
              "      <th>36</th>\n",
              "      <td>177</td>\n",
              "      <td>[nada surf, john williams, john mayer, jason m...</td>\n",
              "      <td>[coldplay, red hot chili peppers, radiohead, b...</td>\n",
              "    </tr>\n",
              "    <tr>\n",
              "      <th>37</th>\n",
              "      <td>182</td>\n",
              "      <td>[atmosphere, sia, zero 7, the roots, jazzanova...</td>\n",
              "      <td>[coldplay, the smiths, sufjan stevens, portish...</td>\n",
              "    </tr>\n",
              "    <tr>\n",
              "      <th>38</th>\n",
              "      <td>183</td>\n",
              "      <td>[oasis, ryan adams, animal collective, radiohe...</td>\n",
              "      <td>[the shins, coldplay, the beatles, the smiths,...</td>\n",
              "    </tr>\n",
              "    <tr>\n",
              "      <th>39</th>\n",
              "      <td>184</td>\n",
              "      <td>[the prodigy, [unknown], queens of the stone a...</td>\n",
              "      <td>[green day, nirvana, foo fighters, metallica, ...</td>\n",
              "    </tr>\n",
              "    <tr>\n",
              "      <th>40</th>\n",
              "      <td>186</td>\n",
              "      <td>[tv on the radio, apparat, vnv nation]</td>\n",
              "      <td>[]</td>\n",
              "    </tr>\n",
              "    <tr>\n",
              "      <th>41</th>\n",
              "      <td>188</td>\n",
              "      <td>[muse, aimee mann, barenaked ladies, travis, f...</td>\n",
              "      <td>[the shins, the beatles, red hot chili peppers...</td>\n",
              "    </tr>\n",
              "    <tr>\n",
              "      <th>42</th>\n",
              "      <td>194</td>\n",
              "      <td>[roxette, kaiser chiefs, fugazi, the white str...</td>\n",
              "      <td>[nirvana, foo fighters, coldplay, the beatles,...</td>\n",
              "    </tr>\n",
              "    <tr>\n",
              "      <th>43</th>\n",
              "      <td>198</td>\n",
              "      <td>[faith no more, múm, radiohead, air, portishea...</td>\n",
              "      <td>[green day, nirvana, foo fighters, metallica, ...</td>\n",
              "    </tr>\n",
              "    <tr>\n",
              "      <th>44</th>\n",
              "      <td>199</td>\n",
              "      <td>[lcd soundsystem, emilíana torrini, the new po...</td>\n",
              "      <td>[radiohead, coldplay, bloc party, muse, the be...</td>\n",
              "    </tr>\n",
              "    <tr>\n",
              "      <th>45</th>\n",
              "      <td>200</td>\n",
              "      <td>[muse, the verve, coldplay, oasis, the doors, ...</td>\n",
              "      <td>[green day, foo fighters, metallica, system of...</td>\n",
              "    </tr>\n",
              "    <tr>\n",
              "      <th>46</th>\n",
              "      <td>202</td>\n",
              "      <td>[mika, josé gonzález, Édith piaf, antonio viva...</td>\n",
              "      <td>[]</td>\n",
              "    </tr>\n",
              "    <tr>\n",
              "      <th>47</th>\n",
              "      <td>207</td>\n",
              "      <td>[a-ha, sigur rós, robbie williams, eminem, nel...</td>\n",
              "      <td>[coldplay, radiohead, the rolling stones, nirv...</td>\n",
              "    </tr>\n",
              "    <tr>\n",
              "      <th>48</th>\n",
              "      <td>208</td>\n",
              "      <td>[rob zombie, velvet revolver, alanis morissett...</td>\n",
              "      <td>[coldplay, the beatles, radiohead, system of a...</td>\n",
              "    </tr>\n",
              "    <tr>\n",
              "      <th>49</th>\n",
              "      <td>213</td>\n",
              "      <td>[air, arcade fire, franz ferdinand, mew, peter...</td>\n",
              "      <td>[coldplay, the beatles, radiohead, the killers]</td>\n",
              "    </tr>\n",
              "  </tbody>\n",
              "</table>\n",
              "</div>\n",
              "      <button class=\"colab-df-convert\" onclick=\"convertToInteractive('df-cd3ad83d-64ee-450a-9e37-2dceca2d956c')\"\n",
              "              title=\"Convert this dataframe to an interactive table.\"\n",
              "              style=\"display:none;\">\n",
              "        \n",
              "  <svg xmlns=\"http://www.w3.org/2000/svg\" height=\"24px\"viewBox=\"0 0 24 24\"\n",
              "       width=\"24px\">\n",
              "    <path d=\"M0 0h24v24H0V0z\" fill=\"none\"/>\n",
              "    <path d=\"M18.56 5.44l.94 2.06.94-2.06 2.06-.94-2.06-.94-.94-2.06-.94 2.06-2.06.94zm-11 1L8.5 8.5l.94-2.06 2.06-.94-2.06-.94L8.5 2.5l-.94 2.06-2.06.94zm10 10l.94 2.06.94-2.06 2.06-.94-2.06-.94-.94-2.06-.94 2.06-2.06.94z\"/><path d=\"M17.41 7.96l-1.37-1.37c-.4-.4-.92-.59-1.43-.59-.52 0-1.04.2-1.43.59L10.3 9.45l-7.72 7.72c-.78.78-.78 2.05 0 2.83L4 21.41c.39.39.9.59 1.41.59.51 0 1.02-.2 1.41-.59l7.78-7.78 2.81-2.81c.8-.78.8-2.07 0-2.86zM5.41 20L4 18.59l7.72-7.72 1.47 1.35L5.41 20z\"/>\n",
              "  </svg>\n",
              "      </button>\n",
              "      \n",
              "  <style>\n",
              "    .colab-df-container {\n",
              "      display:flex;\n",
              "      flex-wrap:wrap;\n",
              "      gap: 12px;\n",
              "    }\n",
              "\n",
              "    .colab-df-convert {\n",
              "      background-color: #E8F0FE;\n",
              "      border: none;\n",
              "      border-radius: 50%;\n",
              "      cursor: pointer;\n",
              "      display: none;\n",
              "      fill: #1967D2;\n",
              "      height: 32px;\n",
              "      padding: 0 0 0 0;\n",
              "      width: 32px;\n",
              "    }\n",
              "\n",
              "    .colab-df-convert:hover {\n",
              "      background-color: #E2EBFA;\n",
              "      box-shadow: 0px 1px 2px rgba(60, 64, 67, 0.3), 0px 1px 3px 1px rgba(60, 64, 67, 0.15);\n",
              "      fill: #174EA6;\n",
              "    }\n",
              "\n",
              "    [theme=dark] .colab-df-convert {\n",
              "      background-color: #3B4455;\n",
              "      fill: #D2E3FC;\n",
              "    }\n",
              "\n",
              "    [theme=dark] .colab-df-convert:hover {\n",
              "      background-color: #434B5C;\n",
              "      box-shadow: 0px 1px 3px 1px rgba(0, 0, 0, 0.15);\n",
              "      filter: drop-shadow(0px 1px 2px rgba(0, 0, 0, 0.3));\n",
              "      fill: #FFFFFF;\n",
              "    }\n",
              "  </style>\n",
              "\n",
              "      <script>\n",
              "        const buttonEl =\n",
              "          document.querySelector('#df-cd3ad83d-64ee-450a-9e37-2dceca2d956c button.colab-df-convert');\n",
              "        buttonEl.style.display =\n",
              "          google.colab.kernel.accessAllowed ? 'block' : 'none';\n",
              "\n",
              "        async function convertToInteractive(key) {\n",
              "          const element = document.querySelector('#df-cd3ad83d-64ee-450a-9e37-2dceca2d956c');\n",
              "          const dataTable =\n",
              "            await google.colab.kernel.invokeFunction('convertToInteractive',\n",
              "                                                     [key], {});\n",
              "          if (!dataTable) return;\n",
              "\n",
              "          const docLinkHtml = 'Like what you see? Visit the ' +\n",
              "            '<a target=\"_blank\" href=https://colab.research.google.com/notebooks/data_table.ipynb>data table notebook</a>'\n",
              "            + ' to learn more about interactive tables.';\n",
              "          element.innerHTML = '';\n",
              "          dataTable['output_type'] = 'display_data';\n",
              "          await google.colab.output.renderOutput(dataTable, element);\n",
              "          const docLink = document.createElement('div');\n",
              "          docLink.innerHTML = docLinkHtml;\n",
              "          element.appendChild(docLink);\n",
              "        }\n",
              "      </script>\n",
              "    </div>\n",
              "  </div>\n",
              "  "
            ],
            "text/plain": [
              "    user                                             artist  \\\n",
              "0      5  [dream theater, megadeth, volbeat, iron maiden...   \n",
              "1     18  [fleetwood mac, sonata arctica, creedence clea...   \n",
              "2     19  [bloc party, bob marley & the wailers, n*e*r*d...   \n",
              "3     23  [jamiroquai, ramones, franz ferdinand, the kin...   \n",
              "4     24  [the rolling stones, bruce springsteen, johnny...   \n",
              "5     31  [róisín murphy, jamie cullum, thievery corpora...   \n",
              "6     32  [leonard cohen, peaches, misfits, Édith piaf, ...   \n",
              "7     38  [the beatles, adele, elton john, john legend, ...   \n",
              "8     42  [avril lavigne, evanescence, nightwish, as i l...   \n",
              "9     47  [tom waits, kate bush, david bowie, johnny cas...   \n",
              "10    48  [disturbed, rammstein, parkway drive, children...   \n",
              "11    51  [billy talent, paolo nutini, klaxons, the last...   \n",
              "12    55  [deerhoof, tokyo police club, bon iver, explos...   \n",
              "13    58  [children of bodom, flogging molly, red hot ch...   \n",
              "14    59  [arctic monkeys, the strokes, beirut, adam gre...   \n",
              "15    70  [the cardigans, paramore, the all-american rej...   \n",
              "16    75  [caliban, benny benassi, rise against, flyleaf...   \n",
              "17    82  [nightwish, coldplay, arch enemy, slipknot, la...   \n",
              "18    83             [black eyed peas, dido, nelly furtado]   \n",
              "19    86               [porcupine tree, anathema, agalloch]   \n",
              "20    91  [vangelis, kraftwerk, enigma, the beach boys, ...   \n",
              "21    92  [nickelback, paul oakenfold, a-ha, muse, infec...   \n",
              "22    97  [queens of the stone age, sonic youth, ramones...   \n",
              "23   101  [ramones, bob dylan, the offspring, turbonegro...   \n",
              "24   113  [emilie autumn, boards of canada, primus, drop...   \n",
              "25   123  [moonspell, queens of the stone age, nofx, chr...   \n",
              "26   127  [death cab for cutie, the cure, the last shado...   \n",
              "27   138  [afi, linkin park, billy talent, papa roach, y...   \n",
              "28   141  [ill niño, parkway drive, stone sour, children...   \n",
              "29   147  [the kinks, the dandy warhols, led zeppelin, d...   \n",
              "30   154  [mgmt, damian marley, erykah badu, matisyahu, ...   \n",
              "31   156  [hilary duff, leona lewis, enrique iglesias, l...   \n",
              "32   160  [jamiroquai, michael jackson, the prodigy, red...   \n",
              "33   169  [bob dylan, adam green, elliott smith, joy div...   \n",
              "34   171  [lil wayne, miley cyrus, the fray, daft punk, ...   \n",
              "35   173  [nine inch nails, metallica, stratovarius, los...   \n",
              "36   177  [nada surf, john williams, john mayer, jason m...   \n",
              "37   182  [atmosphere, sia, zero 7, the roots, jazzanova...   \n",
              "38   183  [oasis, ryan adams, animal collective, radiohe...   \n",
              "39   184  [the prodigy, [unknown], queens of the stone a...   \n",
              "40   186             [tv on the radio, apparat, vnv nation]   \n",
              "41   188  [muse, aimee mann, barenaked ladies, travis, f...   \n",
              "42   194  [roxette, kaiser chiefs, fugazi, the white str...   \n",
              "43   198  [faith no more, múm, radiohead, air, portishea...   \n",
              "44   199  [lcd soundsystem, emilíana torrini, the new po...   \n",
              "45   200  [muse, the verve, coldplay, oasis, the doors, ...   \n",
              "46   202  [mika, josé gonzález, Édith piaf, antonio viva...   \n",
              "47   207  [a-ha, sigur rós, robbie williams, eminem, nel...   \n",
              "48   208  [rob zombie, velvet revolver, alanis morissett...   \n",
              "49   213  [air, arcade fire, franz ferdinand, mew, peter...   \n",
              "\n",
              "                                           prediction  \n",
              "0   [nirvana, rammstein, the beatles, red hot chil...  \n",
              "1                                         [metallica]  \n",
              "2   [the killers, radiohead, jack johnson, keane, ...  \n",
              "3   [the beatles, bob dylan, coldplay, the killers...  \n",
              "4   [bob dylan, coldplay, pink floyd, nirvana, the...  \n",
              "5   [sufjan stevens, portishead, the shins, nirvan...  \n",
              "6                                       [the beatles]  \n",
              "7   [the rolling stones, nirvana, johnny cash, the...  \n",
              "8                                                  []  \n",
              "9   [the rolling stones, the beatles, the smiths, ...  \n",
              "10                      [metallica, system of a down]  \n",
              "11  [coldplay, muse, the killers, the beatles, rad...  \n",
              "12                                        [radiohead]  \n",
              "13  [green day, nirvana, foo fighters, metallica, ...  \n",
              "14  [radiohead, coldplay, muse, the killers, the b...  \n",
              "15  [red hot chili peppers, nirvana, foo fighters,...  \n",
              "16  [coldplay, radiohead, system of a down, red ho...  \n",
              "17  [green day, nirvana, foo fighters, metallica, ...  \n",
              "18                                                 []  \n",
              "19                                                 []  \n",
              "20                                                 []  \n",
              "21  [radiohead, nirvana, foo fighters, coldplay, t...  \n",
              "22  [coldplay, metallica, muse, red hot chili pepp...  \n",
              "23  [nirvana, rammstein, red hot chili peppers, ir...  \n",
              "24  [radiohead, nirvana, foo fighters, coldplay, t...  \n",
              "25           [radiohead, metallica, system of a down]  \n",
              "26  [the beatles, radiohead, the shins, coldplay, ...  \n",
              "27  [the beatles, system of a down, coldplay, red ...  \n",
              "28                                                 []  \n",
              "29               [radiohead, the beatles, pink floyd]  \n",
              "30                                                 []  \n",
              "31  [system of a down, coldplay, red hot chili pep...  \n",
              "32  [green day, nirvana, foo fighters, metallica, ...  \n",
              "33  [radiohead, the shins, coldplay, nirvana, foo ...  \n",
              "34  [bloc party, coldplay, muse, the beatles, radi...  \n",
              "35  [nirvana, muse, radiohead, rammstein, ac/dc, p...  \n",
              "36  [coldplay, red hot chili peppers, radiohead, b...  \n",
              "37  [coldplay, the smiths, sufjan stevens, portish...  \n",
              "38  [the shins, coldplay, the beatles, the smiths,...  \n",
              "39  [green day, nirvana, foo fighters, metallica, ...  \n",
              "40                                                 []  \n",
              "41  [the shins, the beatles, red hot chili peppers...  \n",
              "42  [nirvana, foo fighters, coldplay, the beatles,...  \n",
              "43  [green day, nirvana, foo fighters, metallica, ...  \n",
              "44  [radiohead, coldplay, bloc party, muse, the be...  \n",
              "45  [green day, foo fighters, metallica, system of...  \n",
              "46                                                 []  \n",
              "47  [coldplay, radiohead, the rolling stones, nirv...  \n",
              "48  [coldplay, the beatles, radiohead, system of a...  \n",
              "49    [coldplay, the beatles, radiohead, the killers]  "
            ]
          },
          "execution_count": 63,
          "metadata": {},
          "output_type": "execute_result"
        }
      ]
    },
    {
      "cell_type": "markdown",
      "source": [
        "### 3. **Tuning** the Hyper parameter the third time to get the better Optimal combination for lift**"
      ],
      "metadata": {
        "id": "ifyAcJhJy8y7"
      }
    },
    {
      "cell_type": "code",
      "source": [
        "lastfm_fp_growth_3 = FPGrowth(itemsCol=\"artist\", minSupport=0.01, minConfidence=0.2)\n",
        "lastfm_model_3 = lastfm_fp_growth_3.fit(train)"
      ],
      "metadata": {
        "id": "DYJ_lGwxjBQd"
      },
      "execution_count": null,
      "outputs": []
    },
    {
      "cell_type": "code",
      "source": [
        "print(lastfm_model_3.freqItemsets.count())\n",
        "print(lastfm_model_3.associationRules.count())"
      ],
      "metadata": {
        "colab": {
          "base_uri": "https://localhost:8080/"
        },
        "id": "8eboKYvMjBB4",
        "outputId": "48887a45-91d1-4db0-c18f-daaa1c59ccfe"
      },
      "execution_count": null,
      "outputs": [
        {
          "metadata": {
            "tags": null
          },
          "name": "stdout",
          "output_type": "stream",
          "text": [
            "1688\n",
            "1096\n"
          ]
        }
      ]
    },
    {
      "cell_type": "code",
      "source": [
        "lastfm_model_3.freqItemsets.take(5)"
      ],
      "metadata": {
        "colab": {
          "base_uri": "https://localhost:8080/"
        },
        "id": "BPbSwSuxz99a",
        "outputId": "56f7a3e5-e514-4446-8a71-85ab54bbda95"
      },
      "execution_count": null,
      "outputs": [
        {
          "data": {
            "text/plain": [
              "[Row(items=['3 doors down'], freq=336),\n",
              " Row(items=['3 doors down', 'linkin park'], freq=114),\n",
              " Row(items=['van morrison'], freq=126),\n",
              " Row(items=['megadeth'], freq=324),\n",
              " Row(items=['megadeth', 'metallica'], freq=172)]"
            ]
          },
          "execution_count": 66,
          "metadata": {},
          "output_type": "execute_result"
        }
      ]
    },
    {
      "cell_type": "code",
      "source": [
        "Viz_lastfm_model_3= lastfm_model_3.freqItemsets.orderBy(\"freq\", ascending=False).toPandas()"
      ],
      "metadata": {
        "id": "yDWJad4Nz9zC"
      },
      "execution_count": null,
      "outputs": []
    },
    {
      "cell_type": "code",
      "source": [
        "Viz_lastfm_model_3.head()"
      ],
      "metadata": {
        "colab": {
          "base_uri": "https://localhost:8080/"
        },
        "id": "2YcBLpxXz9oT",
        "outputId": "8bc7abb8-6d80-4741-8e09-54edefeefe4c"
      },
      "execution_count": null,
      "outputs": [
        {
          "output_type": "execute_result",
          "data": {
            "text/plain": [
              "                     items  freq\n",
              "0              [radiohead]  1925\n",
              "1            [the beatles]  1856\n",
              "2               [coldplay]  1662\n",
              "3  [red hot chili peppers]  1211\n",
              "4                   [muse]  1190"
            ],
            "text/html": [
              "\n",
              "  <div id=\"df-ef35aa2a-9e11-442f-a1fe-ad0c9b34d8eb\">\n",
              "    <div class=\"colab-df-container\">\n",
              "      <div>\n",
              "<style scoped>\n",
              "    .dataframe tbody tr th:only-of-type {\n",
              "        vertical-align: middle;\n",
              "    }\n",
              "\n",
              "    .dataframe tbody tr th {\n",
              "        vertical-align: top;\n",
              "    }\n",
              "\n",
              "    .dataframe thead th {\n",
              "        text-align: right;\n",
              "    }\n",
              "</style>\n",
              "<table border=\"1\" class=\"dataframe\">\n",
              "  <thead>\n",
              "    <tr style=\"text-align: right;\">\n",
              "      <th></th>\n",
              "      <th>items</th>\n",
              "      <th>freq</th>\n",
              "    </tr>\n",
              "  </thead>\n",
              "  <tbody>\n",
              "    <tr>\n",
              "      <th>0</th>\n",
              "      <td>[radiohead]</td>\n",
              "      <td>1925</td>\n",
              "    </tr>\n",
              "    <tr>\n",
              "      <th>1</th>\n",
              "      <td>[the beatles]</td>\n",
              "      <td>1856</td>\n",
              "    </tr>\n",
              "    <tr>\n",
              "      <th>2</th>\n",
              "      <td>[coldplay]</td>\n",
              "      <td>1662</td>\n",
              "    </tr>\n",
              "    <tr>\n",
              "      <th>3</th>\n",
              "      <td>[red hot chili peppers]</td>\n",
              "      <td>1211</td>\n",
              "    </tr>\n",
              "    <tr>\n",
              "      <th>4</th>\n",
              "      <td>[muse]</td>\n",
              "      <td>1190</td>\n",
              "    </tr>\n",
              "  </tbody>\n",
              "</table>\n",
              "</div>\n",
              "      <button class=\"colab-df-convert\" onclick=\"convertToInteractive('df-ef35aa2a-9e11-442f-a1fe-ad0c9b34d8eb')\"\n",
              "              title=\"Convert this dataframe to an interactive table.\"\n",
              "              style=\"display:none;\">\n",
              "        \n",
              "  <svg xmlns=\"http://www.w3.org/2000/svg\" height=\"24px\"viewBox=\"0 0 24 24\"\n",
              "       width=\"24px\">\n",
              "    <path d=\"M0 0h24v24H0V0z\" fill=\"none\"/>\n",
              "    <path d=\"M18.56 5.44l.94 2.06.94-2.06 2.06-.94-2.06-.94-.94-2.06-.94 2.06-2.06.94zm-11 1L8.5 8.5l.94-2.06 2.06-.94-2.06-.94L8.5 2.5l-.94 2.06-2.06.94zm10 10l.94 2.06.94-2.06 2.06-.94-2.06-.94-.94-2.06-.94 2.06-2.06.94z\"/><path d=\"M17.41 7.96l-1.37-1.37c-.4-.4-.92-.59-1.43-.59-.52 0-1.04.2-1.43.59L10.3 9.45l-7.72 7.72c-.78.78-.78 2.05 0 2.83L4 21.41c.39.39.9.59 1.41.59.51 0 1.02-.2 1.41-.59l7.78-7.78 2.81-2.81c.8-.78.8-2.07 0-2.86zM5.41 20L4 18.59l7.72-7.72 1.47 1.35L5.41 20z\"/>\n",
              "  </svg>\n",
              "      </button>\n",
              "      \n",
              "  <style>\n",
              "    .colab-df-container {\n",
              "      display:flex;\n",
              "      flex-wrap:wrap;\n",
              "      gap: 12px;\n",
              "    }\n",
              "\n",
              "    .colab-df-convert {\n",
              "      background-color: #E8F0FE;\n",
              "      border: none;\n",
              "      border-radius: 50%;\n",
              "      cursor: pointer;\n",
              "      display: none;\n",
              "      fill: #1967D2;\n",
              "      height: 32px;\n",
              "      padding: 0 0 0 0;\n",
              "      width: 32px;\n",
              "    }\n",
              "\n",
              "    .colab-df-convert:hover {\n",
              "      background-color: #E2EBFA;\n",
              "      box-shadow: 0px 1px 2px rgba(60, 64, 67, 0.3), 0px 1px 3px 1px rgba(60, 64, 67, 0.15);\n",
              "      fill: #174EA6;\n",
              "    }\n",
              "\n",
              "    [theme=dark] .colab-df-convert {\n",
              "      background-color: #3B4455;\n",
              "      fill: #D2E3FC;\n",
              "    }\n",
              "\n",
              "    [theme=dark] .colab-df-convert:hover {\n",
              "      background-color: #434B5C;\n",
              "      box-shadow: 0px 1px 3px 1px rgba(0, 0, 0, 0.15);\n",
              "      filter: drop-shadow(0px 1px 2px rgba(0, 0, 0, 0.3));\n",
              "      fill: #FFFFFF;\n",
              "    }\n",
              "  </style>\n",
              "\n",
              "      <script>\n",
              "        const buttonEl =\n",
              "          document.querySelector('#df-ef35aa2a-9e11-442f-a1fe-ad0c9b34d8eb button.colab-df-convert');\n",
              "        buttonEl.style.display =\n",
              "          google.colab.kernel.accessAllowed ? 'block' : 'none';\n",
              "\n",
              "        async function convertToInteractive(key) {\n",
              "          const element = document.querySelector('#df-ef35aa2a-9e11-442f-a1fe-ad0c9b34d8eb');\n",
              "          const dataTable =\n",
              "            await google.colab.kernel.invokeFunction('convertToInteractive',\n",
              "                                                     [key], {});\n",
              "          if (!dataTable) return;\n",
              "\n",
              "          const docLinkHtml = 'Like what you see? Visit the ' +\n",
              "            '<a target=\"_blank\" href=https://colab.research.google.com/notebooks/data_table.ipynb>data table notebook</a>'\n",
              "            + ' to learn more about interactive tables.';\n",
              "          element.innerHTML = '';\n",
              "          dataTable['output_type'] = 'display_data';\n",
              "          await google.colab.output.renderOutput(dataTable, element);\n",
              "          const docLink = document.createElement('div');\n",
              "          docLink.innerHTML = docLinkHtml;\n",
              "          element.appendChild(docLink);\n",
              "        }\n",
              "      </script>\n",
              "    </div>\n",
              "  </div>\n",
              "  "
            ]
          },
          "metadata": {},
          "execution_count": 68
        }
      ]
    },
    {
      "cell_type": "code",
      "source": [
        "print(lastfm_model_3.associationRules.show())"
      ],
      "metadata": {
        "colab": {
          "base_uri": "https://localhost:8080/"
        },
        "id": "RrU528RNnykZ",
        "outputId": "59a6848b-be91-46b1-9677-2c490f1cd449"
      },
      "execution_count": null,
      "outputs": [
        {
          "output_type": "stream",
          "name": "stdout",
          "text": [
            "+--------------------+--------------------+-------------------+------------------+--------------------+\n",
            "|          antecedent|          consequent|         confidence|              lift|             support|\n",
            "+--------------------+--------------------+-------------------+------------------+--------------------+\n",
            "|               [nas]|             [jay-z]|0.44106463878326996|14.252070260561245| 0.01101196126827416|\n",
            "|               [nas]|        [kanye west]|0.45627376425855515| 6.905729644683362|0.011391684070628441|\n",
            "|[the smashing pum...|          [the cure]|0.23823975720789076|3.1331056210086405|0.014904119992405544|\n",
            "|[the smashing pum...|           [nirvana]| 0.2534142640364188| 2.601818574424596| 0.01585342699829125|\n",
            "|[the smashing pum...|          [coldplay]| 0.2746585735963581|1.7408263623730662|0.017182456806531233|\n",
            "|[the smashing pum...|      [foo fighters]|0.22306525037936267|3.0319604483822014| 0.01395481298651984|\n",
            "|[the smashing pum...|           [placebo]|0.20637329286798178|2.6674064626641965|0.012910575280045567|\n",
            "|[the smashing pum...|              [muse]|0.24582701062215478|2.1760854873056963|0.015378773495348396|\n",
            "|[the smashing pum...|       [the beatles]| 0.2898330804248862|  1.64499012348909|0.018131763812416934|\n",
            "|[the smashing pum...|   [nine inch nails]|0.23672230652503792|3.5171125203593085|0.014809189291816974|\n",
            "|[the smashing pum...|[red hot chili pe...| 0.2336874051593323|2.0327523748541756|0.014619327890639832|\n",
            "|[the smashing pum...|         [radiohead]| 0.4795144157814871| 2.624002522515421| 0.02999810138598823|\n",
            "|[snow patrol, rad...|          [coldplay]| 0.6385542168674698| 4.047250373334492|0.010062654262388457|\n",
            "|[belle and sebast...|    [sufjan stevens]|0.27586206896551724| 5.535106732348112|0.013670020884754129|\n",
            "|[belle and sebast...|        [the smiths]|0.20881226053639848| 4.021258414059272|0.010347446364154167|\n",
            "|[belle and sebast...|         [the shins]|0.23754789272030652| 4.659831474703369|0.011771406872982722|\n",
            "|[belle and sebast...|[death cab for cu...|0.23946360153256704| 2.886166565839887|0.011866337573571292|\n",
            "|[belle and sebast...|       [the beatles]|0.34674329501915707|1.9679923867089442|0.017182456806531233|\n",
            "|[belle and sebast...|         [bob dylan]|0.24521072796934865|3.6587107768117826|0.012151129675337003|\n",
            "|[belle and sebast...|         [radiohead]|0.42528735632183906|2.3272607851918194|0.021074615530662616|\n",
            "+--------------------+--------------------+-------------------+------------------+--------------------+\n",
            "only showing top 20 rows\n",
            "\n",
            "None\n"
          ]
        }
      ]
    },
    {
      "cell_type": "code",
      "source": [
        "df_3 = print(lastfm_model_3.associationRules.orderBy(\"lift\", ascending=False).toPandas().head())"
      ],
      "metadata": {
        "colab": {
          "base_uri": "https://localhost:8080/"
        },
        "id": "9a8OjZY2nyWA",
        "outputId": "54295c53-11db-46c1-ad2a-e1983bf4705b"
      },
      "execution_count": null,
      "outputs": [
        {
          "metadata": {
            "tags": null
          },
          "name": "stdout",
          "output_type": "stream",
          "text": [
            "             antecedent            consequent  confidence      lift   support\n",
            "0                 [nas]               [jay-z]    0.441065  14.25207  0.011012\n",
            "1               [jay-z]                 [nas]    0.355828  14.25207  0.011012\n",
            "2             [rihanna]  [the pussycat dolls]    0.226013  12.66393  0.010063\n",
            "3  [the pussycat dolls]             [rihanna]    0.563830  12.66393  0.010063\n",
            "4             [rihanna]             [beyoncé]    0.313433  10.65065  0.013955\n"
          ]
        }
      ]
    },
    {
      "cell_type": "code",
      "source": [
        "lastfm_new_output_3 = lastfm_model_3.transform(test)"
      ],
      "metadata": {
        "id": "6u60e7pJnyHQ"
      },
      "execution_count": null,
      "outputs": []
    },
    {
      "cell_type": "code",
      "source": [
        "lastfm_new_output_3"
      ],
      "metadata": {
        "colab": {
          "base_uri": "https://localhost:8080/"
        },
        "id": "Ys3PRS2nuGPu",
        "outputId": "a2406f1d-c29e-4152-ae4c-648333bedaf8"
      },
      "execution_count": null,
      "outputs": [
        {
          "output_type": "execute_result",
          "data": {
            "text/plain": [
              "DataFrame[user: int, artist: array<string>, prediction: array<string>]"
            ]
          },
          "metadata": {},
          "execution_count": 72
        }
      ]
    },
    {
      "cell_type": "code",
      "source": [
        "lastfm_new_output_3.take(5)"
      ],
      "metadata": {
        "colab": {
          "base_uri": "https://localhost:8080/"
        },
        "id": "p3ZAlZMauFyb",
        "outputId": "62eec252-fc88-4dfc-ad08-07225f3d9045"
      },
      "execution_count": null,
      "outputs": [
        {
          "output_type": "execute_result",
          "data": {
            "text/plain": [
              "[Row(user=5, artist=['dream theater', 'megadeth', 'volbeat', 'iron maiden', 'children of bodom', 'sublime', 'nightwish', 'metallica', 'ac/dc', 'bob marley & the wailers', 'trivium'], prediction=['in flames', 'nirvana', 'the beatles', 'red hot chili peppers', 'system of a down', 'rammstein', 'linkin park', 'evanescence', 'sonata arctica', 'queen', 'led zeppelin', 'pink floyd', 'black sabbath', 'judas priest']),\n",
              " Row(user=18, artist=['fleetwood mac', 'sonata arctica', 'creedence clearwater revival', 'aphex twin', 'mindless self indulgence', 'infected mushroom', 'nightwish', 'john williams', 'electric light orchestra', 'iron maiden', 'michael jackson'], prediction=['rammstein', 'metallica', 'system of a down', 'linkin park', 'evanescence', 'coldplay', 'the beatles', 'boards of canada', 'radiohead', 'megadeth', 'black sabbath', 'ac/dc', 'led zeppelin', 'pink floyd', 'judas priest']),\n",
              " Row(user=19, artist=['bloc party', 'bob marley & the wailers', 'n*e*r*d', 'placebo', 'coldplay', 'the kooks', 'klaxons', 'portishead', 'cut copy', 'the radio dept.', 'thom yorke', 'josé gonzález', 'crystal castles', 'múm', 'sex pistols', 'yo la tengo', 'interpol', 'håkan hellström', 'beirut', 'fischerspooner', 'the postal service', 'a perfect circle', 'beck', 'röyksopp', 'nine inch nails', 'animal collective', 'gorillaz', 'nouvelle vague', 'the kills', 'sonic youth', 'franz ferdinand', 'daft punk', 'ladytron', 'the wombats', 'mgmt', 'the libertines', 'kent', 'cocorosie', 'iron & wine', 'the shins', 'le tigre'], prediction=['radiohead', 'muse', 'tool', 'the strokes', 'the killers', 'the beatles', 'arctic monkeys', 'red hot chili peppers', 'kaiser chiefs', 'pixies', 'massive attack', 'air', 'björk', 'death cab for cutie', 'kings of leon', 'arcade fire', 'the cure', 'modest mouse', 'sufjan stevens', 'belle and sebastian', 'elliott smith', 'the decemberists', 'bright eyes', 'sigur rós', 'the smashing pumpkins', 'david bowie', 'the white stripes', 'nirvana', 'moby']),\n",
              " Row(user=23, artist=['jamiroquai', 'ramones', 'franz ferdinand', 'the kinks', 'buzzcocks', 'radiohead', 'the pogues', 'mando diao', 'the clash', 'the who', 'the chemical brothers', 'the rolling stones'], prediction=['massive attack', 'air', 'daft punk', 'moby', 'the prodigy', 'the strokes', 'bloc party', 'coldplay', 'muse', 'the killers', 'the beatles', 'arctic monkeys', 'red hot chili peppers', 'kaiser chiefs', 'nirvana', 'queen', 'u2', 'bob dylan', 'led zeppelin', 'david bowie', 'pink floyd']),\n",
              " Row(user=24, artist=['the rolling stones', 'bruce springsteen', 'johnny cash', 'the kinks', 'billy joel', 'leonard cohen', 'jonas brothers', 'queen', 'tom waits', 'neil young', 'the byrds', 'john lennon', 'the beach boys', 'the beatles', 'simon & garfunkel'], prediction=['bob dylan', 'radiohead', 'david bowie', 'u2', 'led zeppelin', 'pink floyd', 'the who', 'coldplay', 'metallica', 'red hot chili peppers'])]"
            ]
          },
          "metadata": {},
          "execution_count": 73
        }
      ]
    },
    {
      "cell_type": "code",
      "source": [
        "lastfm_new_output_3.show(5)"
      ],
      "metadata": {
        "colab": {
          "base_uri": "https://localhost:8080/"
        },
        "id": "VjDL7B9LuFn3",
        "outputId": "52eee79e-8700-444d-9b8a-5491c4ba274f"
      },
      "execution_count": null,
      "outputs": [
        {
          "output_type": "stream",
          "name": "stdout",
          "text": [
            "+----+--------------------+--------------------+\n",
            "|user|              artist|          prediction|\n",
            "+----+--------------------+--------------------+\n",
            "|   5|[dream theater, m...|[in flames, nirva...|\n",
            "|  18|[fleetwood mac, s...|[rammstein, metal...|\n",
            "|  19|[bloc party, bob ...|[radiohead, muse,...|\n",
            "|  23|[jamiroquai, ramo...|[massive attack, ...|\n",
            "|  24|[the rolling ston...|[bob dylan, radio...|\n",
            "+----+--------------------+--------------------+\n",
            "only showing top 5 rows\n",
            "\n"
          ]
        }
      ]
    },
    {
      "cell_type": "code",
      "source": [
        "lastfm_new_output_3.toPandas().head(50)"
      ],
      "metadata": {
        "colab": {
          "base_uri": "https://localhost:8080/"
        },
        "id": "GVVQBiy8uFcD",
        "outputId": "c9290bf2-0076-46b0-a255-9d58936f615c"
      },
      "execution_count": null,
      "outputs": [
        {
          "data": {
            "text/html": [
              "\n",
              "  <div id=\"df-c90a315f-0eb6-40d2-a06d-d64940b912a3\">\n",
              "    <div class=\"colab-df-container\">\n",
              "      <div>\n",
              "<style scoped>\n",
              "    .dataframe tbody tr th:only-of-type {\n",
              "        vertical-align: middle;\n",
              "    }\n",
              "\n",
              "    .dataframe tbody tr th {\n",
              "        vertical-align: top;\n",
              "    }\n",
              "\n",
              "    .dataframe thead th {\n",
              "        text-align: right;\n",
              "    }\n",
              "</style>\n",
              "<table border=\"1\" class=\"dataframe\">\n",
              "  <thead>\n",
              "    <tr style=\"text-align: right;\">\n",
              "      <th></th>\n",
              "      <th>user</th>\n",
              "      <th>artist</th>\n",
              "      <th>prediction</th>\n",
              "    </tr>\n",
              "  </thead>\n",
              "  <tbody>\n",
              "    <tr>\n",
              "      <th>0</th>\n",
              "      <td>5</td>\n",
              "      <td>[dream theater, megadeth, volbeat, iron maiden...</td>\n",
              "      <td>[in flames, nirvana, the beatles, red hot chil...</td>\n",
              "    </tr>\n",
              "    <tr>\n",
              "      <th>1</th>\n",
              "      <td>18</td>\n",
              "      <td>[fleetwood mac, sonata arctica, creedence clea...</td>\n",
              "      <td>[rammstein, metallica, system of a down, linki...</td>\n",
              "    </tr>\n",
              "    <tr>\n",
              "      <th>2</th>\n",
              "      <td>19</td>\n",
              "      <td>[bloc party, bob marley &amp; the wailers, n*e*r*d...</td>\n",
              "      <td>[radiohead, muse, tool, the strokes, the kille...</td>\n",
              "    </tr>\n",
              "    <tr>\n",
              "      <th>3</th>\n",
              "      <td>23</td>\n",
              "      <td>[jamiroquai, ramones, franz ferdinand, the kin...</td>\n",
              "      <td>[massive attack, air, daft punk, moby, the pro...</td>\n",
              "    </tr>\n",
              "    <tr>\n",
              "      <th>4</th>\n",
              "      <td>24</td>\n",
              "      <td>[the rolling stones, bruce springsteen, johnny...</td>\n",
              "      <td>[bob dylan, radiohead, david bowie, u2, led ze...</td>\n",
              "    </tr>\n",
              "    <tr>\n",
              "      <th>5</th>\n",
              "      <td>31</td>\n",
              "      <td>[róisín murphy, jamie cullum, thievery corpora...</td>\n",
              "      <td>[the cure, the beatles, david bowie, morrissey...</td>\n",
              "    </tr>\n",
              "    <tr>\n",
              "      <th>6</th>\n",
              "      <td>32</td>\n",
              "      <td>[leonard cohen, peaches, misfits, Édith piaf, ...</td>\n",
              "      <td>[the beatles, bob dylan, david bowie, radiohea...</td>\n",
              "    </tr>\n",
              "    <tr>\n",
              "      <th>7</th>\n",
              "      <td>38</td>\n",
              "      <td>[the beatles, adele, elton john, john legend, ...</td>\n",
              "      <td>[coldplay, radiohead, pink floyd, britney spea...</td>\n",
              "    </tr>\n",
              "    <tr>\n",
              "      <th>8</th>\n",
              "      <td>42</td>\n",
              "      <td>[avril lavigne, evanescence, nightwish, as i l...</td>\n",
              "      <td>[coldplay, system of a down, linkin park, iron...</td>\n",
              "    </tr>\n",
              "    <tr>\n",
              "      <th>9</th>\n",
              "      <td>47</td>\n",
              "      <td>[tom waits, kate bush, david bowie, johnny cas...</td>\n",
              "      <td>[the beatles, coldplay, the rolling stones, th...</td>\n",
              "    </tr>\n",
              "    <tr>\n",
              "      <th>10</th>\n",
              "      <td>48</td>\n",
              "      <td>[disturbed, rammstein, parkway drive, children...</td>\n",
              "      <td>[linkin park, kanye west, metallica, in flames...</td>\n",
              "    </tr>\n",
              "    <tr>\n",
              "      <th>11</th>\n",
              "      <td>51</td>\n",
              "      <td>[billy talent, paolo nutini, klaxons, the last...</td>\n",
              "      <td>[death cab for cutie, nirvana, foo fighters, c...</td>\n",
              "    </tr>\n",
              "    <tr>\n",
              "      <th>12</th>\n",
              "      <td>55</td>\n",
              "      <td>[deerhoof, tokyo police club, bon iver, explos...</td>\n",
              "      <td>[radiohead, sufjan stevens, the shins, arcade ...</td>\n",
              "    </tr>\n",
              "    <tr>\n",
              "      <th>13</th>\n",
              "      <td>58</td>\n",
              "      <td>[children of bodom, flogging molly, red hot ch...</td>\n",
              "      <td>[metallica, nightwish, the cure, the beatles, ...</td>\n",
              "    </tr>\n",
              "    <tr>\n",
              "      <th>14</th>\n",
              "      <td>59</td>\n",
              "      <td>[arctic monkeys, the strokes, beirut, adam gre...</td>\n",
              "      <td>[death cab for cutie, bloc party, kings of leo...</td>\n",
              "    </tr>\n",
              "    <tr>\n",
              "      <th>15</th>\n",
              "      <td>70</td>\n",
              "      <td>[the cardigans, paramore, the all-american rej...</td>\n",
              "      <td>[fall out boy, the beatles, red hot chili pepp...</td>\n",
              "    </tr>\n",
              "    <tr>\n",
              "      <th>16</th>\n",
              "      <td>75</td>\n",
              "      <td>[caliban, benny benassi, rise against, flyleaf...</td>\n",
              "      <td>[system of a down, coldplay, metallica, muse, ...</td>\n",
              "    </tr>\n",
              "    <tr>\n",
              "      <th>17</th>\n",
              "      <td>82</td>\n",
              "      <td>[nightwish, coldplay, arch enemy, slipknot, la...</td>\n",
              "      <td>[disturbed, nirvana, rammstein, metallica, in ...</td>\n",
              "    </tr>\n",
              "    <tr>\n",
              "      <th>18</th>\n",
              "      <td>83</td>\n",
              "      <td>[black eyed peas, dido, nelly furtado]</td>\n",
              "      <td>[coldplay, rihanna]</td>\n",
              "    </tr>\n",
              "    <tr>\n",
              "      <th>19</th>\n",
              "      <td>86</td>\n",
              "      <td>[porcupine tree, anathema, agalloch]</td>\n",
              "      <td>[]</td>\n",
              "    </tr>\n",
              "    <tr>\n",
              "      <th>20</th>\n",
              "      <td>91</td>\n",
              "      <td>[vangelis, kraftwerk, enigma, the beach boys, ...</td>\n",
              "      <td>[the beatles]</td>\n",
              "    </tr>\n",
              "    <tr>\n",
              "      <th>21</th>\n",
              "      <td>92</td>\n",
              "      <td>[nickelback, paul oakenfold, a-ha, muse, infec...</td>\n",
              "      <td>[coldplay, linkin park, red hot chili peppers,...</td>\n",
              "    </tr>\n",
              "    <tr>\n",
              "      <th>22</th>\n",
              "      <td>97</td>\n",
              "      <td>[queens of the stone age, sonic youth, ramones...</td>\n",
              "      <td>[coldplay, foo fighters, placebo, muse, nine i...</td>\n",
              "    </tr>\n",
              "    <tr>\n",
              "      <th>23</th>\n",
              "      <td>101</td>\n",
              "      <td>[ramones, bob dylan, the offspring, turbonegro...</td>\n",
              "      <td>[coldplay, nirvana, red hot chili peppers, iro...</td>\n",
              "    </tr>\n",
              "    <tr>\n",
              "      <th>24</th>\n",
              "      <td>113</td>\n",
              "      <td>[emilie autumn, boards of canada, primus, drop...</td>\n",
              "      <td>[koЯn, nirvana, foo fighters, metallica, syste...</td>\n",
              "    </tr>\n",
              "    <tr>\n",
              "      <th>25</th>\n",
              "      <td>123</td>\n",
              "      <td>[moonspell, queens of the stone age, nofx, chr...</td>\n",
              "      <td>[nirvana, foo fighters, muse, the beatles, nin...</td>\n",
              "    </tr>\n",
              "    <tr>\n",
              "      <th>26</th>\n",
              "      <td>127</td>\n",
              "      <td>[death cab for cutie, the cure, the last shado...</td>\n",
              "      <td>[radiohead, the smiths, the beatles, bob dylan...</td>\n",
              "    </tr>\n",
              "    <tr>\n",
              "      <th>27</th>\n",
              "      <td>138</td>\n",
              "      <td>[afi, linkin park, billy talent, papa roach, y...</td>\n",
              "      <td>[koЯn, nirvana, foo fighters, metallica, muse,...</td>\n",
              "    </tr>\n",
              "    <tr>\n",
              "      <th>28</th>\n",
              "      <td>141</td>\n",
              "      <td>[ill niño, parkway drive, stone sour, children...</td>\n",
              "      <td>[metallica, nightwish, koЯn, rammstein, iron m...</td>\n",
              "    </tr>\n",
              "    <tr>\n",
              "      <th>29</th>\n",
              "      <td>147</td>\n",
              "      <td>[the kinks, the dandy warhols, led zeppelin, d...</td>\n",
              "      <td>[the beatles, radiohead, the rolling stones, t...</td>\n",
              "    </tr>\n",
              "    <tr>\n",
              "      <th>30</th>\n",
              "      <td>154</td>\n",
              "      <td>[mgmt, damian marley, erykah badu, matisyahu, ...</td>\n",
              "      <td>[kings of leon, bloc party, coldplay, the kill...</td>\n",
              "    </tr>\n",
              "    <tr>\n",
              "      <th>31</th>\n",
              "      <td>156</td>\n",
              "      <td>[hilary duff, leona lewis, enrique iglesias, l...</td>\n",
              "      <td>[britney spears, justin timberlake, nelly furt...</td>\n",
              "    </tr>\n",
              "    <tr>\n",
              "      <th>32</th>\n",
              "      <td>160</td>\n",
              "      <td>[jamiroquai, michael jackson, the prodigy, red...</td>\n",
              "      <td>[the chemical brothers, system of a down, radi...</td>\n",
              "    </tr>\n",
              "    <tr>\n",
              "      <th>33</th>\n",
              "      <td>169</td>\n",
              "      <td>[bob dylan, adam green, elliott smith, joy div...</td>\n",
              "      <td>[coldplay, radiohead, the killers, the cure, d...</td>\n",
              "    </tr>\n",
              "    <tr>\n",
              "      <th>34</th>\n",
              "      <td>171</td>\n",
              "      <td>[lil wayne, miley cyrus, the fray, daft punk, ...</td>\n",
              "      <td>[nas, coldplay, katy perry, death cab for cuti...</td>\n",
              "    </tr>\n",
              "    <tr>\n",
              "      <th>35</th>\n",
              "      <td>173</td>\n",
              "      <td>[nine inch nails, metallica, stratovarius, los...</td>\n",
              "      <td>[nirvana, placebo, muse, radiohead, death cab ...</td>\n",
              "    </tr>\n",
              "    <tr>\n",
              "      <th>36</th>\n",
              "      <td>177</td>\n",
              "      <td>[nada surf, john williams, john mayer, jason m...</td>\n",
              "      <td>[coldplay, red hot chili peppers, radiohead, k...</td>\n",
              "    </tr>\n",
              "    <tr>\n",
              "      <th>37</th>\n",
              "      <td>182</td>\n",
              "      <td>[atmosphere, sia, zero 7, the roots, jazzanova...</td>\n",
              "      <td>[the cure, nirvana, coldplay, foo fighters, pl...</td>\n",
              "    </tr>\n",
              "    <tr>\n",
              "      <th>38</th>\n",
              "      <td>183</td>\n",
              "      <td>[oasis, ryan adams, animal collective, radiohe...</td>\n",
              "      <td>[coldplay, sufjan stevens, the shins, muse, th...</td>\n",
              "    </tr>\n",
              "    <tr>\n",
              "      <th>39</th>\n",
              "      <td>184</td>\n",
              "      <td>[the prodigy, [unknown], queens of the stone a...</td>\n",
              "      <td>[coldplay, radiohead, pink floyd, the chemical...</td>\n",
              "    </tr>\n",
              "    <tr>\n",
              "      <th>40</th>\n",
              "      <td>186</td>\n",
              "      <td>[tv on the radio, apparat, vnv nation]</td>\n",
              "      <td>[radiohead]</td>\n",
              "    </tr>\n",
              "    <tr>\n",
              "      <th>41</th>\n",
              "      <td>188</td>\n",
              "      <td>[muse, aimee mann, barenaked ladies, travis, f...</td>\n",
              "      <td>[the beatles, red hot chili peppers, arctic mo...</td>\n",
              "    </tr>\n",
              "    <tr>\n",
              "      <th>42</th>\n",
              "      <td>194</td>\n",
              "      <td>[roxette, kaiser chiefs, fugazi, the white str...</td>\n",
              "      <td>[the strokes, bloc party, coldplay, the killer...</td>\n",
              "    </tr>\n",
              "    <tr>\n",
              "      <th>43</th>\n",
              "      <td>198</td>\n",
              "      <td>[faith no more, múm, radiohead, air, portishea...</td>\n",
              "      <td>[muse, coldplay, the beatles, the smiths, davi...</td>\n",
              "    </tr>\n",
              "    <tr>\n",
              "      <th>44</th>\n",
              "      <td>199</td>\n",
              "      <td>[lcd soundsystem, emilíana torrini, the new po...</td>\n",
              "      <td>[coldplay, the beatles, radiohead, bloc party,...</td>\n",
              "    </tr>\n",
              "    <tr>\n",
              "      <th>45</th>\n",
              "      <td>200</td>\n",
              "      <td>[muse, the verve, coldplay, oasis, the doors, ...</td>\n",
              "      <td>[radiohead, bloc party, death cab for cutie, u...</td>\n",
              "    </tr>\n",
              "    <tr>\n",
              "      <th>46</th>\n",
              "      <td>202</td>\n",
              "      <td>[mika, josé gonzález, Édith piaf, antonio viva...</td>\n",
              "      <td>[radiohead]</td>\n",
              "    </tr>\n",
              "    <tr>\n",
              "      <th>47</th>\n",
              "      <td>207</td>\n",
              "      <td>[a-ha, sigur rós, robbie williams, eminem, nel...</td>\n",
              "      <td>[massive attack, air, daft punk, moby, the pro...</td>\n",
              "    </tr>\n",
              "    <tr>\n",
              "      <th>48</th>\n",
              "      <td>208</td>\n",
              "      <td>[rob zombie, velvet revolver, alanis morissett...</td>\n",
              "      <td>[coldplay, red hot chili peppers, metallica, i...</td>\n",
              "    </tr>\n",
              "    <tr>\n",
              "      <th>49</th>\n",
              "      <td>213</td>\n",
              "      <td>[air, arcade fire, franz ferdinand, mew, peter...</td>\n",
              "      <td>[radiohead, the strokes, bloc party, coldplay,...</td>\n",
              "    </tr>\n",
              "  </tbody>\n",
              "</table>\n",
              "</div>\n",
              "      <button class=\"colab-df-convert\" onclick=\"convertToInteractive('df-c90a315f-0eb6-40d2-a06d-d64940b912a3')\"\n",
              "              title=\"Convert this dataframe to an interactive table.\"\n",
              "              style=\"display:none;\">\n",
              "        \n",
              "  <svg xmlns=\"http://www.w3.org/2000/svg\" height=\"24px\"viewBox=\"0 0 24 24\"\n",
              "       width=\"24px\">\n",
              "    <path d=\"M0 0h24v24H0V0z\" fill=\"none\"/>\n",
              "    <path d=\"M18.56 5.44l.94 2.06.94-2.06 2.06-.94-2.06-.94-.94-2.06-.94 2.06-2.06.94zm-11 1L8.5 8.5l.94-2.06 2.06-.94-2.06-.94L8.5 2.5l-.94 2.06-2.06.94zm10 10l.94 2.06.94-2.06 2.06-.94-2.06-.94-.94-2.06-.94 2.06-2.06.94z\"/><path d=\"M17.41 7.96l-1.37-1.37c-.4-.4-.92-.59-1.43-.59-.52 0-1.04.2-1.43.59L10.3 9.45l-7.72 7.72c-.78.78-.78 2.05 0 2.83L4 21.41c.39.39.9.59 1.41.59.51 0 1.02-.2 1.41-.59l7.78-7.78 2.81-2.81c.8-.78.8-2.07 0-2.86zM5.41 20L4 18.59l7.72-7.72 1.47 1.35L5.41 20z\"/>\n",
              "  </svg>\n",
              "      </button>\n",
              "      \n",
              "  <style>\n",
              "    .colab-df-container {\n",
              "      display:flex;\n",
              "      flex-wrap:wrap;\n",
              "      gap: 12px;\n",
              "    }\n",
              "\n",
              "    .colab-df-convert {\n",
              "      background-color: #E8F0FE;\n",
              "      border: none;\n",
              "      border-radius: 50%;\n",
              "      cursor: pointer;\n",
              "      display: none;\n",
              "      fill: #1967D2;\n",
              "      height: 32px;\n",
              "      padding: 0 0 0 0;\n",
              "      width: 32px;\n",
              "    }\n",
              "\n",
              "    .colab-df-convert:hover {\n",
              "      background-color: #E2EBFA;\n",
              "      box-shadow: 0px 1px 2px rgba(60, 64, 67, 0.3), 0px 1px 3px 1px rgba(60, 64, 67, 0.15);\n",
              "      fill: #174EA6;\n",
              "    }\n",
              "\n",
              "    [theme=dark] .colab-df-convert {\n",
              "      background-color: #3B4455;\n",
              "      fill: #D2E3FC;\n",
              "    }\n",
              "\n",
              "    [theme=dark] .colab-df-convert:hover {\n",
              "      background-color: #434B5C;\n",
              "      box-shadow: 0px 1px 3px 1px rgba(0, 0, 0, 0.15);\n",
              "      filter: drop-shadow(0px 1px 2px rgba(0, 0, 0, 0.3));\n",
              "      fill: #FFFFFF;\n",
              "    }\n",
              "  </style>\n",
              "\n",
              "      <script>\n",
              "        const buttonEl =\n",
              "          document.querySelector('#df-c90a315f-0eb6-40d2-a06d-d64940b912a3 button.colab-df-convert');\n",
              "        buttonEl.style.display =\n",
              "          google.colab.kernel.accessAllowed ? 'block' : 'none';\n",
              "\n",
              "        async function convertToInteractive(key) {\n",
              "          const element = document.querySelector('#df-c90a315f-0eb6-40d2-a06d-d64940b912a3');\n",
              "          const dataTable =\n",
              "            await google.colab.kernel.invokeFunction('convertToInteractive',\n",
              "                                                     [key], {});\n",
              "          if (!dataTable) return;\n",
              "\n",
              "          const docLinkHtml = 'Like what you see? Visit the ' +\n",
              "            '<a target=\"_blank\" href=https://colab.research.google.com/notebooks/data_table.ipynb>data table notebook</a>'\n",
              "            + ' to learn more about interactive tables.';\n",
              "          element.innerHTML = '';\n",
              "          dataTable['output_type'] = 'display_data';\n",
              "          await google.colab.output.renderOutput(dataTable, element);\n",
              "          const docLink = document.createElement('div');\n",
              "          docLink.innerHTML = docLinkHtml;\n",
              "          element.appendChild(docLink);\n",
              "        }\n",
              "      </script>\n",
              "    </div>\n",
              "  </div>\n",
              "  "
            ],
            "text/plain": [
              "    user                                             artist  \\\n",
              "0      5  [dream theater, megadeth, volbeat, iron maiden...   \n",
              "1     18  [fleetwood mac, sonata arctica, creedence clea...   \n",
              "2     19  [bloc party, bob marley & the wailers, n*e*r*d...   \n",
              "3     23  [jamiroquai, ramones, franz ferdinand, the kin...   \n",
              "4     24  [the rolling stones, bruce springsteen, johnny...   \n",
              "5     31  [róisín murphy, jamie cullum, thievery corpora...   \n",
              "6     32  [leonard cohen, peaches, misfits, Édith piaf, ...   \n",
              "7     38  [the beatles, adele, elton john, john legend, ...   \n",
              "8     42  [avril lavigne, evanescence, nightwish, as i l...   \n",
              "9     47  [tom waits, kate bush, david bowie, johnny cas...   \n",
              "10    48  [disturbed, rammstein, parkway drive, children...   \n",
              "11    51  [billy talent, paolo nutini, klaxons, the last...   \n",
              "12    55  [deerhoof, tokyo police club, bon iver, explos...   \n",
              "13    58  [children of bodom, flogging molly, red hot ch...   \n",
              "14    59  [arctic monkeys, the strokes, beirut, adam gre...   \n",
              "15    70  [the cardigans, paramore, the all-american rej...   \n",
              "16    75  [caliban, benny benassi, rise against, flyleaf...   \n",
              "17    82  [nightwish, coldplay, arch enemy, slipknot, la...   \n",
              "18    83             [black eyed peas, dido, nelly furtado]   \n",
              "19    86               [porcupine tree, anathema, agalloch]   \n",
              "20    91  [vangelis, kraftwerk, enigma, the beach boys, ...   \n",
              "21    92  [nickelback, paul oakenfold, a-ha, muse, infec...   \n",
              "22    97  [queens of the stone age, sonic youth, ramones...   \n",
              "23   101  [ramones, bob dylan, the offspring, turbonegro...   \n",
              "24   113  [emilie autumn, boards of canada, primus, drop...   \n",
              "25   123  [moonspell, queens of the stone age, nofx, chr...   \n",
              "26   127  [death cab for cutie, the cure, the last shado...   \n",
              "27   138  [afi, linkin park, billy talent, papa roach, y...   \n",
              "28   141  [ill niño, parkway drive, stone sour, children...   \n",
              "29   147  [the kinks, the dandy warhols, led zeppelin, d...   \n",
              "30   154  [mgmt, damian marley, erykah badu, matisyahu, ...   \n",
              "31   156  [hilary duff, leona lewis, enrique iglesias, l...   \n",
              "32   160  [jamiroquai, michael jackson, the prodigy, red...   \n",
              "33   169  [bob dylan, adam green, elliott smith, joy div...   \n",
              "34   171  [lil wayne, miley cyrus, the fray, daft punk, ...   \n",
              "35   173  [nine inch nails, metallica, stratovarius, los...   \n",
              "36   177  [nada surf, john williams, john mayer, jason m...   \n",
              "37   182  [atmosphere, sia, zero 7, the roots, jazzanova...   \n",
              "38   183  [oasis, ryan adams, animal collective, radiohe...   \n",
              "39   184  [the prodigy, [unknown], queens of the stone a...   \n",
              "40   186             [tv on the radio, apparat, vnv nation]   \n",
              "41   188  [muse, aimee mann, barenaked ladies, travis, f...   \n",
              "42   194  [roxette, kaiser chiefs, fugazi, the white str...   \n",
              "43   198  [faith no more, múm, radiohead, air, portishea...   \n",
              "44   199  [lcd soundsystem, emilíana torrini, the new po...   \n",
              "45   200  [muse, the verve, coldplay, oasis, the doors, ...   \n",
              "46   202  [mika, josé gonzález, Édith piaf, antonio viva...   \n",
              "47   207  [a-ha, sigur rós, robbie williams, eminem, nel...   \n",
              "48   208  [rob zombie, velvet revolver, alanis morissett...   \n",
              "49   213  [air, arcade fire, franz ferdinand, mew, peter...   \n",
              "\n",
              "                                           prediction  \n",
              "0   [in flames, nirvana, the beatles, red hot chil...  \n",
              "1   [rammstein, metallica, system of a down, linki...  \n",
              "2   [radiohead, muse, tool, the strokes, the kille...  \n",
              "3   [massive attack, air, daft punk, moby, the pro...  \n",
              "4   [bob dylan, radiohead, david bowie, u2, led ze...  \n",
              "5   [the cure, the beatles, david bowie, morrissey...  \n",
              "6   [the beatles, bob dylan, david bowie, radiohea...  \n",
              "7   [coldplay, radiohead, pink floyd, britney spea...  \n",
              "8   [coldplay, system of a down, linkin park, iron...  \n",
              "9   [the beatles, coldplay, the rolling stones, th...  \n",
              "10  [linkin park, kanye west, metallica, in flames...  \n",
              "11  [death cab for cutie, nirvana, foo fighters, c...  \n",
              "12  [radiohead, sufjan stevens, the shins, arcade ...  \n",
              "13  [metallica, nightwish, the cure, the beatles, ...  \n",
              "14  [death cab for cutie, bloc party, kings of leo...  \n",
              "15  [fall out boy, the beatles, red hot chili pepp...  \n",
              "16  [system of a down, coldplay, metallica, muse, ...  \n",
              "17  [disturbed, nirvana, rammstein, metallica, in ...  \n",
              "18                                [coldplay, rihanna]  \n",
              "19                                                 []  \n",
              "20                                      [the beatles]  \n",
              "21  [coldplay, linkin park, red hot chili peppers,...  \n",
              "22  [coldplay, foo fighters, placebo, muse, nine i...  \n",
              "23  [coldplay, nirvana, red hot chili peppers, iro...  \n",
              "24  [koЯn, nirvana, foo fighters, metallica, syste...  \n",
              "25  [nirvana, foo fighters, muse, the beatles, nin...  \n",
              "26  [radiohead, the smiths, the beatles, bob dylan...  \n",
              "27  [koЯn, nirvana, foo fighters, metallica, muse,...  \n",
              "28  [metallica, nightwish, koЯn, rammstein, iron m...  \n",
              "29  [the beatles, radiohead, the rolling stones, t...  \n",
              "30  [kings of leon, bloc party, coldplay, the kill...  \n",
              "31  [britney spears, justin timberlake, nelly furt...  \n",
              "32  [the chemical brothers, system of a down, radi...  \n",
              "33  [coldplay, radiohead, the killers, the cure, d...  \n",
              "34  [nas, coldplay, katy perry, death cab for cuti...  \n",
              "35  [nirvana, placebo, muse, radiohead, death cab ...  \n",
              "36  [coldplay, red hot chili peppers, radiohead, k...  \n",
              "37  [the cure, nirvana, coldplay, foo fighters, pl...  \n",
              "38  [coldplay, sufjan stevens, the shins, muse, th...  \n",
              "39  [coldplay, radiohead, pink floyd, the chemical...  \n",
              "40                                        [radiohead]  \n",
              "41  [the beatles, red hot chili peppers, arctic mo...  \n",
              "42  [the strokes, bloc party, coldplay, the killer...  \n",
              "43  [muse, coldplay, the beatles, the smiths, davi...  \n",
              "44  [coldplay, the beatles, radiohead, bloc party,...  \n",
              "45  [radiohead, bloc party, death cab for cutie, u...  \n",
              "46                                        [radiohead]  \n",
              "47  [massive attack, air, daft punk, moby, the pro...  \n",
              "48  [coldplay, red hot chili peppers, metallica, i...  \n",
              "49  [radiohead, the strokes, bloc party, coldplay,...  "
            ]
          },
          "execution_count": 75,
          "metadata": {},
          "output_type": "execute_result"
        }
      ]
    },
    {
      "cell_type": "markdown",
      "source": [],
      "metadata": {
        "id": "FtTm1eP6rPCp"
      }
    }
  ]
}